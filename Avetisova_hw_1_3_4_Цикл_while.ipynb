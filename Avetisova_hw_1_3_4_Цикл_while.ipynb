{
 "cells": [
  {
   "cell_type": "markdown",
   "metadata": {
    "id": "15XCoYr0awZ6"
   },
   "source": [
    "Аветісова Карина\n",
    "\n",
    "#Домашнє завдання до теми \"Цикл while\""
   ]
  },
  {
   "cell_type": "markdown",
   "metadata": {
    "id": "xgCDxF5YhQSa"
   },
   "source": [
    "1. **Лічильник до заданого числа.**\n",
    "   Завдання:\n",
    "     - Створіть цикл `while`, щоб він лічив від 1 до заданого числа в змінній `limit` (включно).\n",
    "     - Виведіть кожне число, яке проходить лічильник, на екран.\n",
    "     - В кінці виведіть повідомлення \"Кінець розрахунку!\".\n"
   ]
  },
  {
   "cell_type": "code",
   "execution_count": 1,
   "metadata": {
    "execution": {
     "iopub.execute_input": "2025-07-06T12:04:31.569326Z",
     "iopub.status.busy": "2025-07-06T12:04:31.568326Z",
     "iopub.status.idle": "2025-07-06T12:04:31.573094Z",
     "shell.execute_reply": "2025-07-06T12:04:31.573094Z",
     "shell.execute_reply.started": "2025-07-06T12:04:31.569326Z"
    },
    "id": "wwSqYFCmiJTt"
   },
   "outputs": [],
   "source": [
    "limit = 9  # Задане число"
   ]
  },
  {
   "cell_type": "code",
   "execution_count": 2,
   "metadata": {
    "execution": {
     "iopub.execute_input": "2025-07-06T12:06:19.900652Z",
     "iopub.status.busy": "2025-07-06T12:06:19.899652Z",
     "iopub.status.idle": "2025-07-06T12:06:19.906425Z",
     "shell.execute_reply": "2025-07-06T12:06:19.906425Z",
     "shell.execute_reply.started": "2025-07-06T12:06:19.900652Z"
    },
    "id": "-t-kC6mJqNVx"
   },
   "outputs": [
    {
     "name": "stdout",
     "output_type": "stream",
     "text": [
      "1\n",
      "2\n",
      "3\n",
      "4\n",
      "5\n",
      "6\n",
      "7\n",
      "8\n",
      "9\n",
      "Кінець розрахунку!\n"
     ]
    }
   ],
   "source": [
    "i = 1\n",
    "while i <= limit:\n",
    "    print(i)\n",
    "    i += 1\n",
    "print('Кінець розрахунку!')"
   ]
  },
  {
   "cell_type": "markdown",
   "metadata": {
    "id": "DlqunQnphZ9s"
   },
   "source": [
    "2. **Пошук першого парного числа.** Завдання:\n",
    "     - Створіть цикл `while`, щоб знайти перше парне число після заданого числа `start`.\n",
    "     - Знайдіть та виведіть перше парне число.\n"
   ]
  },
  {
   "cell_type": "code",
   "execution_count": 3,
   "metadata": {
    "execution": {
     "iopub.execute_input": "2025-07-06T12:09:57.770027Z",
     "iopub.status.busy": "2025-07-06T12:09:57.770027Z",
     "iopub.status.idle": "2025-07-06T12:09:57.773313Z",
     "shell.execute_reply": "2025-07-06T12:09:57.773313Z",
     "shell.execute_reply.started": "2025-07-06T12:09:57.770027Z"
    },
    "id": "3CC3-gNJiW6X"
   },
   "outputs": [],
   "source": [
    "start = 7  # Задане число"
   ]
  },
  {
   "cell_type": "code",
   "execution_count": 5,
   "metadata": {
    "execution": {
     "iopub.execute_input": "2025-07-06T12:12:19.542527Z",
     "iopub.status.busy": "2025-07-06T12:12:19.542527Z",
     "iopub.status.idle": "2025-07-06T12:12:19.546151Z",
     "shell.execute_reply": "2025-07-06T12:12:19.546151Z",
     "shell.execute_reply.started": "2025-07-06T12:12:19.542527Z"
    },
    "id": "5M8Ly9_Lj4-t"
   },
   "outputs": [
    {
     "name": "stdout",
     "output_type": "stream",
     "text": [
      "8\n"
     ]
    }
   ],
   "source": [
    "i = start + 1\n",
    "while True:\n",
    "    if i % 2 == 0:\n",
    "        print(i)\n",
    "        break\n",
    "    current += 1"
   ]
  },
  {
   "cell_type": "markdown",
   "metadata": {
    "id": "OlhKezZYiQJ2"
   },
   "source": [
    "\n",
    "3. **Обчислення факторіалу.**   \n",
    "  Факторіал числа - це добуток всіх натуральних чисел від 1 до цього числа включно. Наприклад, факторіал числа 5 (позначається як 5!) дорівнює `1 * 2 * 3 * 4 * 5 = 120`.\n",
    "\n",
    "  Завдання:  \n",
    "      - Обчисліть факторіал заданого числа, використовуючи цикл `while`.  \n",
    "      - Задайте деяке число для обчислення факторіалу у змінній `num`.  \n",
    "      - Виведіть обчислений факторіал на екран.  \n"
   ]
  },
  {
   "cell_type": "code",
   "execution_count": 8,
   "metadata": {
    "execution": {
     "iopub.execute_input": "2025-07-06T12:27:39.801270Z",
     "iopub.status.busy": "2025-07-06T12:27:39.800271Z",
     "iopub.status.idle": "2025-07-06T12:27:39.805272Z",
     "shell.execute_reply": "2025-07-06T12:27:39.805272Z",
     "shell.execute_reply.started": "2025-07-06T12:27:39.801270Z"
    },
    "id": "s0JKm0Wtj5s9"
   },
   "outputs": [
    {
     "name": "stdout",
     "output_type": "stream",
     "text": [
      "40320\n"
     ]
    }
   ],
   "source": [
    "num = 8\n",
    "factorial = 1\n",
    "counter = 1\n",
    "while counter <= num:\n",
    "    factorial *= counter\n",
    "    counter +=1\n",
    "print(factorial)"
   ]
  }
 ],
 "metadata": {
  "colab": {
   "provenance": []
  },
  "kernelspec": {
   "display_name": "Python [conda env:base] *",
   "language": "python",
   "name": "conda-base-py"
  },
  "language_info": {
   "codemirror_mode": {
    "name": "ipython",
    "version": 3
   },
   "file_extension": ".py",
   "mimetype": "text/x-python",
   "name": "python",
   "nbconvert_exporter": "python",
   "pygments_lexer": "ipython3",
   "version": "3.12.7"
  }
 },
 "nbformat": 4,
 "nbformat_minor": 4
}
