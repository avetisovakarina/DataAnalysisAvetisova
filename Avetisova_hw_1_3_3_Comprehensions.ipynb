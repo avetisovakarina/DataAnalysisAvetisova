{
 "cells": [
  {
   "cell_type": "markdown",
   "metadata": {
    "id": "jGTe7raw9lB_"
   },
   "source": [
    "Аветісова Карина\n",
    "\n",
    "#Домашнє завдання до теми \"Comprehensions в Python\""
   ]
  },
  {
   "cell_type": "markdown",
   "metadata": {
    "id": "grIbI4ZZ7miJ"
   },
   "source": [
    "Для наступних завдань у нас є наступний список:"
   ]
  },
  {
   "cell_type": "code",
   "execution_count": 1,
   "metadata": {
    "execution": {
     "iopub.execute_input": "2025-07-06T10:41:23.893319Z",
     "iopub.status.busy": "2025-07-06T10:41:23.893319Z",
     "iopub.status.idle": "2025-07-06T10:41:23.897369Z",
     "shell.execute_reply": "2025-07-06T10:41:23.897369Z",
     "shell.execute_reply.started": "2025-07-06T10:41:23.893319Z"
    },
    "id": "nFOAtgsP7nnc"
   },
   "outputs": [],
   "source": [
    "numbers = [42, 51, 29, 2, 13, 44, 80, 66, 16]"
   ]
  },
  {
   "cell_type": "markdown",
   "metadata": {
    "id": "_sRe19Ym6zDc"
   },
   "source": [
    "1. Використовуючи цикл `for` cтворіть новий список `numbers_squared`, де кожен елемент списку `numbers` є домноженим на 2.\n",
    "\n",
    "Нагадаю, що фактично коли ми з допомогою циклу отримуємо новий список, то ми спочатку створюємо пустий список, а потім додаємо в нього новий елемент на кожній ітерації.\n",
    "\n",
    "Новий елемент буде в даному випадку результатом домножання чергового елемента вихідного списку `numbers` на 2."
   ]
  },
  {
   "cell_type": "code",
   "execution_count": 3,
   "metadata": {
    "execution": {
     "iopub.execute_input": "2025-07-06T10:41:30.620513Z",
     "iopub.status.busy": "2025-07-06T10:41:30.619515Z",
     "iopub.status.idle": "2025-07-06T10:41:30.623656Z",
     "shell.execute_reply": "2025-07-06T10:41:30.623656Z",
     "shell.execute_reply.started": "2025-07-06T10:41:30.620513Z"
    },
    "id": "EhGdKWo06nGS"
   },
   "outputs": [
    {
     "name": "stdout",
     "output_type": "stream",
     "text": [
      "[84, 102, 58, 4, 26, 88, 160, 132, 32]\n"
     ]
    }
   ],
   "source": [
    "numbers_squared = []\n",
    "for num in numbers:\n",
    "    numbers_squared.append(num * 2)\n",
    "print (numbers_squared)"
   ]
  },
  {
   "cell_type": "markdown",
   "metadata": {
    "id": "XKpWtN8N64np"
   },
   "source": [
    "Очікуваний результат: `[84, 102, 58, 4, 26, 88, 160, 132, 32]`"
   ]
  },
  {
   "cell_type": "markdown",
   "metadata": {
    "id": "aHmdOLkZ7eQ2"
   },
   "source": [
    "2. Використовуючи `list comprehension` cтворіть новий список `numbers_squared_lh`, де кожен елемент списку `numbers` є домноженим 2.\n",
    "Так, операція, яку ми викнуємо над кожним елементом вихідного списку, та сама, що і в попередньому завданні, але інший спосіб отримання результату."
   ]
  },
  {
   "cell_type": "code",
   "execution_count": 5,
   "metadata": {
    "execution": {
     "iopub.execute_input": "2025-07-06T10:44:25.117546Z",
     "iopub.status.busy": "2025-07-06T10:44:25.116545Z",
     "iopub.status.idle": "2025-07-06T10:44:25.121249Z",
     "shell.execute_reply": "2025-07-06T10:44:25.121249Z",
     "shell.execute_reply.started": "2025-07-06T10:44:25.117546Z"
    },
    "id": "fsKlUM9x7T7n"
   },
   "outputs": [
    {
     "data": {
      "text/plain": [
       "[84, 102, 58, 4, 26, 88, 160, 132, 32]"
      ]
     },
     "execution_count": 5,
     "metadata": {},
     "output_type": "execute_result"
    }
   ],
   "source": [
    "numbers_squared_lh = [num * 2 for num in numbers]\n",
    "numbers_squared_lh"
   ]
  },
  {
   "cell_type": "markdown",
   "metadata": {
    "id": "tKpPGIQN7fc5"
   },
   "source": [
    "3. У нас вже є знайдене середнє значення за списком - воно визначене в змінній `numbers_mean`.\n",
    "\n",
    "  Використовуючи цикл, створіть новий список `numbers_gt_mean`, який порівнює кожен елемент з цим середнім значенням за списком за наступним правилом: \"якщо цей елемент спиcку `numbers` є більшим за `numbers_mean`, то запишемо 1, інакше 0\". Виведіть новий список на екран."
   ]
  },
  {
   "cell_type": "code",
   "execution_count": 6,
   "metadata": {
    "execution": {
     "iopub.execute_input": "2025-07-06T10:45:09.227256Z",
     "iopub.status.busy": "2025-07-06T10:45:09.226255Z",
     "iopub.status.idle": "2025-07-06T10:45:09.230808Z",
     "shell.execute_reply": "2025-07-06T10:45:09.230808Z",
     "shell.execute_reply.started": "2025-07-06T10:45:09.227256Z"
    },
    "id": "FKGz-HqgwAdX"
   },
   "outputs": [],
   "source": [
    "numbers_mean = 38.11"
   ]
  },
  {
   "cell_type": "code",
   "execution_count": 15,
   "metadata": {
    "execution": {
     "iopub.execute_input": "2025-07-06T10:52:11.535837Z",
     "iopub.status.busy": "2025-07-06T10:52:11.534834Z",
     "iopub.status.idle": "2025-07-06T10:52:11.541840Z",
     "shell.execute_reply": "2025-07-06T10:52:11.541840Z",
     "shell.execute_reply.started": "2025-07-06T10:52:11.535837Z"
    },
    "id": "obelsT8N72Lp"
   },
   "outputs": [
    {
     "data": {
      "text/plain": [
       "[1, 1, 0, 0, 0, 1, 1, 1, 0]"
      ]
     },
     "execution_count": 15,
     "metadata": {},
     "output_type": "execute_result"
    }
   ],
   "source": [
    "numbers_gt_mean = []\n",
    "for num in numbers:\n",
    "    if num > numbers_mean:\n",
    "        numbers_gt_mean.append(1)\n",
    "    else:\n",
    "        numbers_gt_mean.append(0)\n",
    "numbers_gt_mean"
   ]
  },
  {
   "cell_type": "markdown",
   "metadata": {
    "id": "kRUDVSRs720X"
   },
   "source": [
    "Очікуваний результат: `[1, 1, 0, 0, 0, 1, 1, 1, 0]`"
   ]
  },
  {
   "cell_type": "markdown",
   "metadata": {
    "id": "dudK-NlE76z8"
   },
   "source": [
    "4. Отримайте список за тим самим правилом, що в завданні 3, тільки тепер з list comprehension. Результат запишіть у змінну `numbers_gt_mean_lc`"
   ]
  },
  {
   "cell_type": "code",
   "execution_count": 17,
   "metadata": {
    "execution": {
     "iopub.execute_input": "2025-07-06T10:54:49.527792Z",
     "iopub.status.busy": "2025-07-06T10:54:49.526791Z",
     "iopub.status.idle": "2025-07-06T10:54:49.532636Z",
     "shell.execute_reply": "2025-07-06T10:54:49.532636Z",
     "shell.execute_reply.started": "2025-07-06T10:54:49.527792Z"
    },
    "id": "kpnfXkUu76Ao"
   },
   "outputs": [
    {
     "data": {
      "text/plain": [
       "[1, 1, 0, 0, 0, 1, 1, 1, 0]"
      ]
     },
     "execution_count": 17,
     "metadata": {},
     "output_type": "execute_result"
    }
   ],
   "source": [
    "numbers_gt_mean_lc = [1 if num > numbers_mean else 0 for num in numbers]\n",
    "numbers_gt_mean_lc"
   ]
  },
  {
   "cell_type": "markdown",
   "metadata": {
    "id": "muQmE3Mz8KDx"
   },
   "source": [
    "5. Заданий список `long`. З допомогою циклу створіть словник `n_repeats`, який містить інформацію \"скільки разів повторюється кожен унікальний елемент списку `long`\".\n",
    "Наприклад:\n",
    "```\n",
    "long = [1, 1, 2, 2, 3]\n",
    "# тоді `n_repeats` містить {1: 2, 2: 2, 3: 1}\n",
    "```\n",
    "\n",
    "Аби для кожного унікального елементу знайти, скільки разів він повторюється, виористайте метод списку `list.count(<елемент>)`.\n",
    "Виведіть `n_repeats` на екран.\n",
    "\n",
    "**Підказки**:\n",
    "1. Для початку може бути зручно отримати набір унікальних елементів списку.\n",
    "2. Порядок ключів в словнику не має значення! Тобто ключі в словнику не обовʼязково мають бути в тому ж порядку, як наведено в прикладі результату. Але кількості зустрічань для кожного елемента мають співпадати з наведеними."
   ]
  },
  {
   "cell_type": "code",
   "execution_count": 18,
   "metadata": {
    "execution": {
     "iopub.execute_input": "2025-07-06T10:56:11.756849Z",
     "iopub.status.busy": "2025-07-06T10:56:11.756849Z",
     "iopub.status.idle": "2025-07-06T10:56:11.760037Z",
     "shell.execute_reply": "2025-07-06T10:56:11.760037Z",
     "shell.execute_reply.started": "2025-07-06T10:56:11.756849Z"
    },
    "id": "T_MDOYpa8Khu"
   },
   "outputs": [],
   "source": [
    "long = [75, 39, 95, 1, 91, 43, 97, 24, 86, 75, 92, 91, 15, 15, 75, 95, 54, 29, 55, 98]"
   ]
  },
  {
   "cell_type": "code",
   "execution_count": 20,
   "metadata": {
    "execution": {
     "iopub.execute_input": "2025-07-06T10:57:47.619984Z",
     "iopub.status.busy": "2025-07-06T10:57:47.619984Z",
     "iopub.status.idle": "2025-07-06T10:57:47.623979Z",
     "shell.execute_reply": "2025-07-06T10:57:47.623979Z",
     "shell.execute_reply.started": "2025-07-06T10:57:47.619984Z"
    },
    "id": "FCUf8p3y8RG0"
   },
   "outputs": [
    {
     "name": "stdout",
     "output_type": "stream",
     "text": [
      "{1: 1, 97: 1, 98: 1, 39: 1, 75: 3, 43: 1, 15: 2, 55: 1, 86: 1, 54: 1, 24: 1, 91: 2, 92: 1, 29: 1, 95: 2}\n"
     ]
    }
   ],
   "source": [
    "n_repeats = {}\n",
    "for num in set(long):\n",
    "    n_repeats[num] = long.count(num)\n",
    "print(n_repeats)"
   ]
  },
  {
   "cell_type": "markdown",
   "metadata": {
    "id": "WQbGyWde8RkT"
   },
   "source": [
    "Очікуваний результат:\n",
    "```\n",
    "{1: 1, 97: 1, 98: 1, 39: 1, 75: 3, 43: 1, 15: 2, 55: 1, 86: 1, 54: 1, 24: 1, 91: 2, 92: 1, 29: 1, 95: 2}\n",
    "\n",
    "```"
   ]
  },
  {
   "cell_type": "markdown",
   "metadata": {
    "id": "W-nelSSP8VeG"
   },
   "source": [
    "6. Виконайте ту саму операцію, що і в попередньому заваднні, але використовуючи `dict comprehension`. Результат запишіть у змінну `n_repeats_dh` та результат виведіть на екран."
   ]
  },
  {
   "cell_type": "code",
   "execution_count": 22,
   "metadata": {
    "execution": {
     "iopub.execute_input": "2025-07-06T10:59:52.960974Z",
     "iopub.status.busy": "2025-07-06T10:59:52.959974Z",
     "iopub.status.idle": "2025-07-06T10:59:52.964365Z",
     "shell.execute_reply": "2025-07-06T10:59:52.964365Z",
     "shell.execute_reply.started": "2025-07-06T10:59:52.960974Z"
    },
    "id": "gDz_kE0N8YM4"
   },
   "outputs": [
    {
     "name": "stdout",
     "output_type": "stream",
     "text": [
      "{1: 1, 97: 1, 98: 1, 39: 1, 75: 3, 43: 1, 15: 2, 55: 1, 86: 1, 54: 1, 24: 1, 91: 2, 92: 1, 29: 1, 95: 2}\n"
     ]
    }
   ],
   "source": [
    "n_repeats_dh = {num: long.count(num) for num in set(long)}\n",
    "print(n_repeats_dh)"
   ]
  },
  {
   "cell_type": "markdown",
   "metadata": {
    "id": "Th5wKghw8aYj"
   },
   "source": [
    "7. Знайдіть три найменші **унікальні** елементи в списку `long` та виведіть їх на екран."
   ]
  },
  {
   "cell_type": "code",
   "execution_count": 23,
   "metadata": {
    "execution": {
     "iopub.execute_input": "2025-07-06T11:01:09.338401Z",
     "iopub.status.busy": "2025-07-06T11:01:09.337403Z",
     "iopub.status.idle": "2025-07-06T11:01:09.341591Z",
     "shell.execute_reply": "2025-07-06T11:01:09.341591Z",
     "shell.execute_reply.started": "2025-07-06T11:01:09.338401Z"
    },
    "id": "NG9PvlnK8a2Q"
   },
   "outputs": [
    {
     "name": "stdout",
     "output_type": "stream",
     "text": [
      "[1, 15, 24]\n"
     ]
    }
   ],
   "source": [
    "unique_sorted = sorted(set(long))\n",
    "min_three = unique_sorted[:3]\n",
    "print(min_three)"
   ]
  },
  {
   "cell_type": "markdown",
   "metadata": {
    "id": "XOW0GDBK8cn7"
   },
   "source": [
    "Очікувана відповідь: [1, 15, 24]"
   ]
  }
 ],
 "metadata": {
  "colab": {
   "provenance": []
  },
  "kernelspec": {
   "display_name": "Python [conda env:base] *",
   "language": "python",
   "name": "conda-base-py"
  },
  "language_info": {
   "codemirror_mode": {
    "name": "ipython",
    "version": 3
   },
   "file_extension": ".py",
   "mimetype": "text/x-python",
   "name": "python",
   "nbconvert_exporter": "python",
   "pygments_lexer": "ipython3",
   "version": "3.12.7"
  }
 },
 "nbformat": 4,
 "nbformat_minor": 4
}
