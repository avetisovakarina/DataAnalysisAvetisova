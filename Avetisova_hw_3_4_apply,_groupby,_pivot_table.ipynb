{
 "cells": [
  {
   "cell_type": "markdown",
   "metadata": {
    "id": "LwNpAFw_eTF3"
   },
   "source": [
    "Аветісова Карина\n",
    "\n",
    "#Домашнє завдання до тем apply(), groupby(), pivot_table()"
   ]
  },
  {
   "cell_type": "markdown",
   "metadata": {
    "id": "vP2PEJyq8Yrj"
   },
   "source": [
    "В цьому домашньому завданні продовжуємо працювати з набором даних `supermarket_sales.csv`."
   ]
  },
  {
   "cell_type": "markdown",
   "metadata": {
    "id": "dh9lfpDb8gBL"
   },
   "source": [
    "0. Імпортуйте бібліотеку pandas та зчитайте дані у змінну `df` типу `pandas.DataFrame`."
   ]
  },
  {
   "cell_type": "code",
   "execution_count": 1,
   "metadata": {
    "execution": {
     "iopub.execute_input": "2025-07-15T18:44:01.702697Z",
     "iopub.status.busy": "2025-07-15T18:44:01.702697Z",
     "iopub.status.idle": "2025-07-15T18:44:01.726135Z",
     "shell.execute_reply": "2025-07-15T18:44:01.726135Z",
     "shell.execute_reply.started": "2025-07-15T18:44:01.702697Z"
    },
    "id": "xBI9gJMK8qnl"
   },
   "outputs": [],
   "source": [
    "import pandas as pd\n",
    "df = pd.read_csv('supermarket_sales.csv')"
   ]
  },
  {
   "cell_type": "markdown",
   "metadata": {
    "id": "28638363"
   },
   "source": [
    "1. Дослідимо, який філіал супермаркету ('Branch') є найприбутковішим. Для цього знайдіть сумарний прибуток за кожним філіалом і виявіть, який філіал має найвищий."
   ]
  },
  {
   "cell_type": "code",
   "execution_count": 15,
   "metadata": {
    "ExecuteTime": {
     "end_time": "2022-11-01T17:27:42.023877Z",
     "start_time": "2022-11-01T17:27:42.020277Z"
    },
    "execution": {
     "iopub.execute_input": "2025-07-15T18:58:57.021148Z",
     "iopub.status.busy": "2025-07-15T18:58:57.021148Z",
     "iopub.status.idle": "2025-07-15T18:58:57.026994Z",
     "shell.execute_reply": "2025-07-15T18:58:57.026994Z",
     "shell.execute_reply.started": "2025-07-15T18:58:57.021148Z"
    },
    "id": "916d731d"
   },
   "outputs": [
    {
     "name": "stdout",
     "output_type": "stream",
     "text": [
      "Branch\n",
      "A    5057.1605\n",
      "B    5057.0320\n",
      "C    5265.1765\n",
      "Name: gross income, dtype: float64\n",
      "Найприбутковіший філіал: C. Прибуток: 5265.18\n"
     ]
    }
   ],
   "source": [
    "branch_profit = df.groupby('Branch')['gross income'].sum()\n",
    "print(branch_profit)\n",
    "most_profitable_branch = branch_profit.idxmax()\n",
    "max_profit = branch_profit.max()\n",
    "print(f\"Найприбутковіший філіал: {most_profitable_branch}. Прибуток: {max_profit:.2f}\")"
   ]
  },
  {
   "cell_type": "markdown",
   "metadata": {
    "id": "2qL_OddUCZKK"
   },
   "source": [
    "2. В якому місті знайходиться філіал з найвищим прибутком? Може в тому місці нам розмітисти ще один магазин.  \n",
    "Знайдіть відповідь за допомогою функціоналу Pandas."
   ]
  },
  {
   "cell_type": "code",
   "execution_count": 17,
   "metadata": {
    "execution": {
     "iopub.execute_input": "2025-07-15T18:59:32.769797Z",
     "iopub.status.busy": "2025-07-15T18:59:32.769797Z",
     "iopub.status.idle": "2025-07-15T18:59:32.775543Z",
     "shell.execute_reply": "2025-07-15T18:59:32.775543Z",
     "shell.execute_reply.started": "2025-07-15T18:59:32.769797Z"
    },
    "id": "bBJUc1dWCwdi"
   },
   "outputs": [
    {
     "name": "stdout",
     "output_type": "stream",
     "text": [
      "Філіал з найвищим прибутком розташований у місті Naypyitaw.\n"
     ]
    }
   ],
   "source": [
    "city_of_top_branch = df[df['Branch'] == most_profitable_branch]['City'].mode().values[0]\n",
    "print(f\"Філіал з найвищим прибутком розташований у місті {city_of_top_branch}.\")"
   ]
  },
  {
   "cell_type": "markdown",
   "metadata": {
    "id": "6dec795f"
   },
   "source": [
    "3.1. Створіть зводну таблицю, яка покаже, скільки покупок (інвойсів) було зроблено в кожній з філій (`Branch`) за різними категоріями товарів. Запишіть таблицю в змінну `invoices_by_category` і виведіть змінну на екран.\n",
    "Ця таблиця допоможе проаналізувати, в якій філії купують найбільше товарів кожної з категорій."
   ]
  },
  {
   "cell_type": "code",
   "execution_count": 21,
   "metadata": {
    "execution": {
     "iopub.execute_input": "2025-07-15T19:02:02.473731Z",
     "iopub.status.busy": "2025-07-15T19:02:02.472731Z",
     "iopub.status.idle": "2025-07-15T19:02:02.482004Z",
     "shell.execute_reply": "2025-07-15T19:02:02.482004Z",
     "shell.execute_reply.started": "2025-07-15T19:02:02.473731Z"
    },
    "id": "N7TfUBf4ZrkX"
   },
   "outputs": [
    {
     "name": "stdout",
     "output_type": "stream",
     "text": [
      "Product line  Electronic accessories  Fashion accessories  Food and beverages  \\\n",
      "Branch                                                                          \n",
      "A                                 60                   51                  58   \n",
      "B                                 55                   62                  50   \n",
      "C                                 55                   65                  66   \n",
      "\n",
      "Product line  Health and beauty  Home and lifestyle  Sports and travel  \n",
      "Branch                                                                  \n",
      "A                            47                  65                 59  \n",
      "B                            53                  50                 62  \n",
      "C                            52                  45                 45  \n"
     ]
    }
   ],
   "source": [
    "invoices_by_category = pd.pivot_table(\n",
    "    df,\n",
    "    index='Branch',\n",
    "    columns='Product line',\n",
    "    values='Invoice ID',\n",
    "    aggfunc='count'\n",
    ")\n",
    "print(invoices_by_category)"
   ]
  },
  {
   "cell_type": "markdown",
   "metadata": {
    "ExecuteTime": {
     "end_time": "2022-11-01T16:50:46.961201Z",
     "start_time": "2022-11-01T16:50:46.955894Z"
    },
    "id": "f5bbfa34"
   },
   "source": [
    "Очікуваний результат:"
   ]
  },
  {
   "cell_type": "markdown",
   "metadata": {
    "id": "34b9bcdc"
   },
   "source": [
    "![](https://drive.google.com/uc?export=view&id=1rueAdko6S3UxIHGtojetTxlES-EyM6Yb)"
   ]
  },
  {
   "cell_type": "markdown",
   "metadata": {
    "id": "woygDEA0OSwJ"
   },
   "source": [
    "3.2. Використовуючи змінну `invoices_by_category` дайте відповідь програмно (тобто значення треба не просто знайти очима, а вивести за допомогою коду), в якому філіалі магазину (`Branch`) найбільше інвойсів із покупкою товарів категорії \"Електронні аксесуари\" (`Electronic accessories`)?\n"
   ]
  },
  {
   "cell_type": "code",
   "execution_count": 23,
   "metadata": {
    "execution": {
     "iopub.execute_input": "2025-07-15T19:05:56.755360Z",
     "iopub.status.busy": "2025-07-15T19:05:56.739727Z",
     "iopub.status.idle": "2025-07-15T19:05:56.758832Z",
     "shell.execute_reply": "2025-07-15T19:05:56.758832Z",
     "shell.execute_reply.started": "2025-07-15T19:05:56.755360Z"
    },
    "id": "B5x8kTE-Qcq8"
   },
   "outputs": [
    {
     "name": "stdout",
     "output_type": "stream",
     "text": [
      "Найбільше інвойсів в цій категорії має філіал A.\n"
     ]
    }
   ],
   "source": [
    "top_branch_electronics = invoices_by_category['Electronic accessories'].idxmax()\n",
    "print(f\"Найбільше інвойсів в цій категорії має філіал {top_branch_electronics}.\")"
   ]
  },
  {
   "cell_type": "markdown",
   "metadata": {
    "ExecuteTime": {
     "end_time": "2022-11-01T17:56:02.981755Z",
     "start_time": "2022-11-01T17:56:02.977086Z"
    },
    "id": "d005a2b8"
   },
   "source": [
    "4-6. **Творче завдання на розвиток аналітичного мислення**\n",
    "\n",
    "Крок 1. Сформулюйте ТРИ питання (гіпотези) до наявних даних, які допомогли б вам зрозуміти, які користувачі що, де та коли найбільше/найменше купують, аби дати на основі цих гіпотез рекомендації бізнесу. Звісно питання мають бути не тими, на які ми вже відповіли в завданнях модулю.\n",
    "\n",
    "Крок 2. Знайдіть відповіді на свої питання з допомогою функціоналу pandas.\n",
    "\n",
    "Крок 3. Напишіть, як відповідь на це питання може бути використана для прийняття бізнес рішень.   \n",
    "   \n",
    " Питання можуть бути будь-якої складності, але їх має бути 3. Кожне питання оцінюється як 1 завдання. Без виконання цього завдання ДЗ не приймається. Якщо є питання щодо виконання - пишіть у чат 🙌\n"
   ]
  },
  {
   "cell_type": "markdown",
   "metadata": {
    "id": "woygDEA0OSwJ"
   },
   "source": [
    "4. Який тип клієнтів (Customer type: Member / Normal) приносить більший середній прибуток (gross income)?"
   ]
  },
  {
   "cell_type": "code",
   "execution_count": 25,
   "metadata": {
    "execution": {
     "iopub.execute_input": "2025-07-15T19:33:02.922736Z",
     "iopub.status.busy": "2025-07-15T19:33:02.922736Z",
     "iopub.status.idle": "2025-07-15T19:33:02.937247Z",
     "shell.execute_reply": "2025-07-15T19:33:02.937247Z",
     "shell.execute_reply.started": "2025-07-15T19:33:02.922736Z"
    }
   },
   "outputs": [
    {
     "name": "stdout",
     "output_type": "stream",
     "text": [
      "Customer type\n",
      "Member    15.609110\n",
      "Normal    15.148707\n",
      "Name: gross income, dtype: float64\n"
     ]
    }
   ],
   "source": [
    "avg_income_by_customer = df.groupby('Customer type')['gross income'].mean()\n",
    "print(avg_income_by_customer)"
   ]
  },
  {
   "cell_type": "markdown",
   "metadata": {
    "id": "woygDEA0OSwJ"
   },
   "source": [
    "Категорія клієнтів Member приносить нам більший середній прибуток. Для покращення \n",
    "середнього прибутку в категорії Normal можна розширити програму лояльності, додати \n",
    "мотиваційну систему, додаткові бонуси, кешбек або знижки"
   ]
  },
  {
   "cell_type": "markdown",
   "metadata": {
    "id": "woygDEA0OSwJ"
   },
   "source": [
    "5. Яка категорія товарів (Product line) приносить найбільший сумарний прибуток (gross income)?"
   ]
  },
  {
   "cell_type": "code",
   "execution_count": 38,
   "metadata": {
    "execution": {
     "iopub.execute_input": "2025-07-15T19:54:24.420661Z",
     "iopub.status.busy": "2025-07-15T19:54:24.419661Z",
     "iopub.status.idle": "2025-07-15T19:54:24.426866Z",
     "shell.execute_reply": "2025-07-15T19:54:24.426866Z",
     "shell.execute_reply.started": "2025-07-15T19:54:24.420661Z"
    }
   },
   "outputs": [
    {
     "data": {
      "text/plain": [
       "Product line\n",
       "Food and beverages        2673.5640\n",
       "Sports and travel         2624.8965\n",
       "Electronic accessories    2587.5015\n",
       "Fashion accessories       2585.9950\n",
       "Home and lifestyle        2564.8530\n",
       "Health and beauty         2342.5590\n",
       "Name: gross income, dtype: float64"
      ]
     },
     "execution_count": 38,
     "metadata": {},
     "output_type": "execute_result"
    }
   ],
   "source": [
    "df.groupby('Product line')['gross income'].sum().sort_values(ascending=False)"
   ]
  },
  {
   "cell_type": "markdown",
   "metadata": {
    "id": "woygDEA0OSwJ"
   },
   "source": [
    "Найбільший прибуток приносить категорія \"Їда та напої\". Для підвищення прибутку \n",
    "інших категорій слід розглянути можливість розширення асортименту, запуску \n",
    "реклами цих категорій, виставлення додаткових акцій і знижок.\n"
   ]
  },
  {
   "cell_type": "markdown",
   "metadata": {
    "id": "woygDEA0OSwJ"
   },
   "source": [
    "6. В який період дня (ранок, день, вечір) більше покупок?"
   ]
  },
  {
   "cell_type": "code",
   "execution_count": 31,
   "metadata": {
    "execution": {
     "iopub.execute_input": "2025-07-15T19:43:26.894130Z",
     "iopub.status.busy": "2025-07-15T19:43:26.894130Z",
     "iopub.status.idle": "2025-07-15T19:43:26.914148Z",
     "shell.execute_reply": "2025-07-15T19:43:26.914148Z",
     "shell.execute_reply.started": "2025-07-15T19:43:26.894130Z"
    }
   },
   "outputs": [],
   "source": [
    "def get_hour(time_str):\n",
    "    return int(time_str.split(':')[0])\n",
    "df['Hour'] = df['Time'].apply(get_hour)"
   ]
  },
  {
   "cell_type": "code",
   "execution_count": 34,
   "metadata": {
    "execution": {
     "iopub.execute_input": "2025-07-15T19:43:41.284776Z",
     "iopub.status.busy": "2025-07-15T19:43:41.281946Z",
     "iopub.status.idle": "2025-07-15T19:43:41.290246Z",
     "shell.execute_reply": "2025-07-15T19:43:41.290246Z",
     "shell.execute_reply.started": "2025-07-15T19:43:41.284776Z"
    }
   },
   "outputs": [
    {
     "name": "stdout",
     "output_type": "stream",
     "text": [
      "Period\n",
      "Day        528\n",
      "Evening    281\n",
      "Morning    191\n",
      "Name: count, dtype: int64\n"
     ]
    }
   ],
   "source": [
    "def get_period(hour):\n",
    "    if 6 <= hour < 12:\n",
    "        return 'Morning'\n",
    "    elif 12 <= hour < 18:\n",
    "        return 'Day'\n",
    "    else:\n",
    "        return 'Evening'\n",
    "df['Period'] = df['Hour'].apply(get_period)\n",
    "period_counts = df['Period'].value_counts()\n",
    "print(period_counts)"
   ]
  },
  {
   "cell_type": "markdown",
   "metadata": {
    "id": "woygDEA0OSwJ"
   },
   "source": [
    "Для підвищення кількості продажів в такі періоди як ранок та вечір можна ввести \n",
    "відповідні години акцій, наприклад знижки до 12:00 та після 20:00. А в години \n",
    "пік вивести більше касирів для запобігання чергам та збереженню лояльності покупців."
   ]
  }
 ],
 "metadata": {
  "colab": {
   "provenance": []
  },
  "kernelspec": {
   "display_name": "Python [conda env:base] *",
   "language": "python",
   "name": "conda-base-py"
  },
  "language_info": {
   "codemirror_mode": {
    "name": "ipython",
    "version": 3
   },
   "file_extension": ".py",
   "mimetype": "text/x-python",
   "name": "python",
   "nbconvert_exporter": "python",
   "pygments_lexer": "ipython3",
   "version": "3.12.7"
  }
 },
 "nbformat": 4,
 "nbformat_minor": 4
}
