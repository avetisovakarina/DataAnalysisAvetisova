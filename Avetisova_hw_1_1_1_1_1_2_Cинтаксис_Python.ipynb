{
 "cells": [
  {
   "cell_type": "markdown",
   "metadata": {
    "id": "tvPKWXfD7yRv"
   },
   "source": [
    "Аветісова Карина\n",
    "\n",
    "#Домашнє завдання до теми \"Синтаксис Python\"\n",
    "\n",
    "В ДЗ першого модулю важливою умовою виконання завдань є те, що ми не імпортуємо жодних бібліотек, а робимо все на чистому Python, використовуючи лише базовий функціонал. Це необхідно аби відпрацювати роботу з базовими типами даних. А використовувати бібліотеки ми ще навчимось далі :)"
   ]
  },
  {
   "cell_type": "markdown",
   "metadata": {
    "id": "xE1KHmUbQVbC"
   },
   "source": [
    "1. Створіть змінну, яка буде зберігати кількість яблук. І надайте їй значення 5. Виведіть значення змінної на екран."
   ]
  },
  {
   "cell_type": "code",
   "execution_count": 9,
   "metadata": {
    "execution": {
     "iopub.execute_input": "2025-06-12T18:38:38.601820Z",
     "iopub.status.busy": "2025-06-12T18:38:38.601820Z",
     "iopub.status.idle": "2025-06-12T18:38:38.619597Z",
     "shell.execute_reply": "2025-06-12T18:38:38.619597Z",
     "shell.execute_reply.started": "2025-06-12T18:38:38.601820Z"
    },
    "id": "iz5QpN-vQUtN"
   },
   "outputs": [],
   "source": [
    "apple_quantity = 5"
   ]
  },
  {
   "cell_type": "code",
   "execution_count": 3,
   "metadata": {
    "execution": {
     "iopub.execute_input": "2025-06-12T18:35:30.973087Z",
     "iopub.status.busy": "2025-06-12T18:35:30.973087Z",
     "iopub.status.idle": "2025-06-12T18:35:30.977965Z",
     "shell.execute_reply": "2025-06-12T18:35:30.977965Z",
     "shell.execute_reply.started": "2025-06-12T18:35:30.973087Z"
    }
   },
   "outputs": [
    {
     "name": "stdout",
     "output_type": "stream",
     "text": [
      "5\n"
     ]
    }
   ],
   "source": [
    "print(apple_quantity)"
   ]
  },
  {
   "cell_type": "markdown",
   "metadata": {
    "id": "wx6RsBHAQd9q"
   },
   "source": [
    "2. Виведіть тип змінної, створеної в завданні (1)."
   ]
  },
  {
   "cell_type": "code",
   "execution_count": 4,
   "metadata": {
    "execution": {
     "iopub.execute_input": "2025-06-12T18:36:13.879516Z",
     "iopub.status.busy": "2025-06-12T18:36:13.879516Z",
     "iopub.status.idle": "2025-06-12T18:36:13.892662Z",
     "shell.execute_reply": "2025-06-12T18:36:13.892662Z",
     "shell.execute_reply.started": "2025-06-12T18:36:13.879516Z"
    },
    "id": "f48l2PhiQi86"
   },
   "outputs": [
    {
     "data": {
      "text/plain": [
       "int"
      ]
     },
     "execution_count": 4,
     "metadata": {},
     "output_type": "execute_result"
    }
   ],
   "source": [
    "type(apple_quantity)"
   ]
  },
  {
   "cell_type": "markdown",
   "metadata": {
    "id": "UEc59pPcQnva"
   },
   "source": [
    "3. Додайте до значення змінної, створеної в завданні (1) число `12` і виведіть результат на екран з допомогою команди `print()`."
   ]
  },
  {
   "cell_type": "code",
   "execution_count": 10,
   "metadata": {
    "execution": {
     "iopub.execute_input": "2025-06-12T18:38:42.435306Z",
     "iopub.status.busy": "2025-06-12T18:38:42.435306Z",
     "iopub.status.idle": "2025-06-12T18:38:42.444631Z",
     "shell.execute_reply": "2025-06-12T18:38:42.444631Z",
     "shell.execute_reply.started": "2025-06-12T18:38:42.435306Z"
    },
    "id": "gu-vkERpQoCY"
   },
   "outputs": [
    {
     "name": "stdout",
     "output_type": "stream",
     "text": [
      "17\n"
     ]
    }
   ],
   "source": [
    "apple_quantity = apple_quantity + 12\n",
    "print(apple_quantity)"
   ]
  },
  {
   "cell_type": "markdown",
   "metadata": {
    "id": "yOztaNuqqcMy"
   },
   "source": [
    "4. Запустіть код нижче аби створити дві змінні."
   ]
  },
  {
   "cell_type": "code",
   "execution_count": 11,
   "metadata": {
    "execution": {
     "iopub.execute_input": "2025-06-12T18:39:16.803638Z",
     "iopub.status.busy": "2025-06-12T18:39:16.803638Z",
     "iopub.status.idle": "2025-06-12T18:39:16.806679Z",
     "shell.execute_reply": "2025-06-12T18:39:16.806679Z",
     "shell.execute_reply.started": "2025-06-12T18:39:16.803638Z"
    },
    "id": "kbXeQSgcqncV"
   },
   "outputs": [],
   "source": [
    "a = 48\n",
    "b = 3"
   ]
  },
  {
   "cell_type": "markdown",
   "metadata": {
    "id": "9ojIRMw3qvw8"
   },
   "source": [
    "Створіть нову клітинку нижче цієї з допомогою натискання англійської літери `B`, коли ви НЕ в режимі редагування клітинки. В створеній клітинці створіть змінну `c`, яка буде містити результат ділення `a` на `b`."
   ]
  },
  {
   "cell_type": "code",
   "execution_count": 12,
   "metadata": {
    "execution": {
     "iopub.execute_input": "2025-06-12T18:39:33.916527Z",
     "iopub.status.busy": "2025-06-12T18:39:33.916527Z",
     "iopub.status.idle": "2025-06-12T18:39:33.934003Z",
     "shell.execute_reply": "2025-06-12T18:39:33.934003Z",
     "shell.execute_reply.started": "2025-06-12T18:39:33.916527Z"
    }
   },
   "outputs": [],
   "source": [
    "c = a/b"
   ]
  },
  {
   "cell_type": "code",
   "execution_count": 18,
   "metadata": {
    "execution": {
     "iopub.execute_input": "2025-06-12T18:47:35.051561Z",
     "iopub.status.busy": "2025-06-12T18:47:35.051561Z",
     "iopub.status.idle": "2025-06-12T18:47:35.055317Z",
     "shell.execute_reply": "2025-06-12T18:47:35.055317Z",
     "shell.execute_reply.started": "2025-06-12T18:47:35.051561Z"
    }
   },
   "outputs": [
    {
     "name": "stdout",
     "output_type": "stream",
     "text": [
      "48 3 16.0\n",
      "<class 'int'> <class 'int'> <class 'float'>\n"
     ]
    }
   ],
   "source": [
    "print (a,b,c)\n",
    "print (type(a),type(b),type(c))"
   ]
  },
  {
   "cell_type": "code",
   "execution_count": 23,
   "metadata": {
    "execution": {
     "iopub.execute_input": "2025-06-12T18:49:13.935149Z",
     "iopub.status.busy": "2025-06-12T18:49:13.934150Z",
     "iopub.status.idle": "2025-06-12T18:49:13.944033Z",
     "shell.execute_reply": "2025-06-12T18:49:13.944033Z",
     "shell.execute_reply.started": "2025-06-12T18:49:13.935149Z"
    }
   },
   "outputs": [
    {
     "data": {
      "text/plain": [
       "48"
      ]
     },
     "metadata": {},
     "output_type": "display_data"
    },
    {
     "data": {
      "text/plain": [
       "int"
      ]
     },
     "metadata": {},
     "output_type": "display_data"
    },
    {
     "data": {
      "text/plain": [
       "3"
      ]
     },
     "metadata": {},
     "output_type": "display_data"
    },
    {
     "data": {
      "text/plain": [
       "int"
      ]
     },
     "metadata": {},
     "output_type": "display_data"
    },
    {
     "data": {
      "text/plain": [
       "16.0"
      ]
     },
     "metadata": {},
     "output_type": "display_data"
    },
    {
     "data": {
      "text/plain": [
       "float"
      ]
     },
     "metadata": {},
     "output_type": "display_data"
    }
   ],
   "source": [
    "#або\n",
    "display (a, type(a))\n",
    "display (b, type(b))\n",
    "display (c, type(c))"
   ]
  },
  {
   "cell_type": "code",
   "execution_count": 24,
   "metadata": {
    "execution": {
     "iopub.execute_input": "2025-06-12T18:49:40.605083Z",
     "iopub.status.busy": "2025-06-12T18:49:40.605083Z",
     "iopub.status.idle": "2025-06-12T18:49:40.611758Z",
     "shell.execute_reply": "2025-06-12T18:49:40.611758Z",
     "shell.execute_reply.started": "2025-06-12T18:49:40.605083Z"
    }
   },
   "outputs": [
    {
     "name": "stdout",
     "output_type": "stream",
     "text": [
      "48 <class 'int'>\n",
      "3 <class 'int'>\n",
      "16.0 <class 'float'>\n"
     ]
    }
   ],
   "source": [
    "#або\n",
    "print (a, type(a))\n",
    "print (b, type(b))\n",
    "print (c, type(c))"
   ]
  },
  {
   "cell_type": "code",
   "execution_count": 26,
   "metadata": {
    "execution": {
     "iopub.execute_input": "2025-06-12T18:55:07.196366Z",
     "iopub.status.busy": "2025-06-12T18:55:07.195369Z",
     "iopub.status.idle": "2025-06-12T18:55:07.203096Z",
     "shell.execute_reply": "2025-06-12T18:55:07.203096Z",
     "shell.execute_reply.started": "2025-06-12T18:55:07.196366Z"
    }
   },
   "outputs": [
    {
     "name": "stdout",
     "output_type": "stream",
     "text": [
      "48 3 16.0\n"
     ]
    },
    {
     "data": {
      "text/plain": [
       "int"
      ]
     },
     "metadata": {},
     "output_type": "display_data"
    },
    {
     "data": {
      "text/plain": [
       "int"
      ]
     },
     "metadata": {},
     "output_type": "display_data"
    },
    {
     "data": {
      "text/plain": [
       "float"
      ]
     },
     "metadata": {},
     "output_type": "display_data"
    }
   ],
   "source": [
    "#або\n",
    "print (a,b,c)\n",
    "display (type(a), type(b), type(c))"
   ]
  },
  {
   "cell_type": "markdown",
   "metadata": {
    "id": "XcmIZ24wq4px"
   },
   "source": [
    "Створіть ще одну нову клітинку, тільки тепер вище цієї. Для цього натисніть  англійську літеру `A`, коли ви НЕ в режимі редагування клітинки. Виведіть в новоствореній клітинці значення і тип кожної зі змінних `a`, `b`, `c`. Проаналізуйте результат.\n"
   ]
  },
  {
   "cell_type": "markdown",
   "metadata": {
    "id": "v9rj7B4-sGaG"
   },
   "source": [
    "У Python, коли ви ділите одне ціле число на інше, результат буде автоматично приведений до типу float, якщо він не є цілим числом. Це робиться для того, щоб забезпечити більш точний результат ділення, особливо коли результат міг би бути десятковим числом."
   ]
  },
  {
   "cell_type": "markdown",
   "metadata": {
    "id": "irjcdM8puaEx"
   },
   "source": [
    "5. Перегляньте наступний код, подумайте, що він виведе в результаті, та потім, запустіть його."
   ]
  },
  {
   "cell_type": "code",
   "execution_count": 27,
   "metadata": {
    "execution": {
     "iopub.execute_input": "2025-06-12T18:57:14.429736Z",
     "iopub.status.busy": "2025-06-12T18:57:14.429736Z",
     "iopub.status.idle": "2025-06-12T18:57:14.442341Z",
     "shell.execute_reply": "2025-06-12T18:57:14.442341Z",
     "shell.execute_reply.started": "2025-06-12T18:57:14.429736Z"
    },
    "id": "KmhCY0ttt8rW"
   },
   "outputs": [
    {
     "data": {
      "text/plain": [
       "38"
      ]
     },
     "execution_count": 27,
     "metadata": {},
     "output_type": "execute_result"
    }
   ],
   "source": [
    "a = 10\n",
    "a = 12\n",
    "a = 15\n",
    "\n",
    "b = 4\n",
    "b = 8\n",
    "b = 14\n",
    "\n",
    "c = 3\n",
    "c = 6\n",
    "c = 9\n",
    "\n",
    "\n",
    "a + b + c"
   ]
  },
  {
   "cell_type": "markdown",
   "metadata": {
    "id": "JrUTyGyQufwq"
   },
   "source": [
    "В клітинці нижче закоментуйте деякі рядки так, аби в результаті виконання останнього рядка коду (`a + b + c`) вивелось `17`.\n",
    "Увага! Рядки треба саме закоментувати, а не видалити.\n",
    "Можна зручно коментувати рядки з допомогою комбінації клавіш `Ctrl + /` (`Command + /` для Mac)"
   ]
  },
  {
   "cell_type": "code",
   "execution_count": 28,
   "metadata": {
    "execution": {
     "iopub.execute_input": "2025-06-12T18:58:32.229775Z",
     "iopub.status.busy": "2025-06-12T18:58:32.229775Z",
     "iopub.status.idle": "2025-06-12T18:58:32.242126Z",
     "shell.execute_reply": "2025-06-12T18:58:32.242126Z",
     "shell.execute_reply.started": "2025-06-12T18:58:32.229775Z"
    },
    "id": "R4VXgSQKwVoc"
   },
   "outputs": [
    {
     "data": {
      "text/plain": [
       "17"
      ]
     },
     "execution_count": 28,
     "metadata": {},
     "output_type": "execute_result"
    }
   ],
   "source": [
    "a = 10\n",
    "#a = 12\n",
    "#a = 15\n",
    "\n",
    "b = 4\n",
    "#b = 8\n",
    "#b = 14\n",
    "\n",
    "c = 3\n",
    "#c = 6\n",
    "#c = 9\n",
    "\n",
    "\n",
    "a + b + c"
   ]
  }
 ],
 "metadata": {
  "colab": {
   "provenance": []
  },
  "kernelspec": {
   "display_name": "Python [conda env:base] *",
   "language": "python",
   "name": "conda-base-py"
  },
  "language_info": {
   "codemirror_mode": {
    "name": "ipython",
    "version": 3
   },
   "file_extension": ".py",
   "mimetype": "text/x-python",
   "name": "python",
   "nbconvert_exporter": "python",
   "pygments_lexer": "ipython3",
   "version": "3.12.7"
  }
 },
 "nbformat": 4,
 "nbformat_minor": 4
}
