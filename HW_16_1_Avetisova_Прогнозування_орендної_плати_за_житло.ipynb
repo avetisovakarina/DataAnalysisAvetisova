{
 "cells": [
  {
   "cell_type": "markdown",
   "metadata": {
    "id": "349a8211"
   },
   "source": [
    "# Аветісова Карина\n",
    "\n",
    "# Домашнє завдання: Прогнозування орендної плати за житло\n",
    "\n",
    "## Мета завдання\n",
    "Застосувати знання з лекції для побудови моделі лінійної регресії, що прогнозує орендну плату за житло в Індії. Ви пройдете весь цикл вирішення задачі машинного навчання: від дослідницького аналізу до оцінки якості моделі.\n",
    "\n",
    "## Опис датасету\n",
    "**House Rent Prediction Dataset** містить інформацію про 4700+ оголошень про оренду житла в Індії з такими параметрами:\n",
    "- **BHK**: Кількість спалень, залів, кухонь\n",
    "- **Rent**: Орендна плата (цільова змінна)\n",
    "- **Size**: Площа в квадратних футах\n",
    "- **Floor**: Поверх та загальна кількість поверхів\n",
    "- **Area Type**: Тип розрахунку площі\n",
    "- **Area Locality**: Район\n",
    "- **City**: Місто\n",
    "- **Furnishing Status**: Стан меблювання\n",
    "- **Tenant Preferred**: Тип орендаря\n",
    "- **Bathroom**: Кількість ванних кімнат\n",
    "- **Point of Contact**: Контактна особа\n",
    "\n",
    "---\n",
    "\n",
    "## Завдання 1: Завантаження та перший огляд даних (1 бал)\n",
    "\n",
    "**Що потрібно зробити:**\n",
    "1. Завантажте дані з файлу `House_Rent_Dataset.csv`\n",
    "2. Виведіть розмір датасету\n",
    "3. Покажіть перші 5 рядків\n",
    "4. Виведіть загальну інформацію про дані (включно з типами даних та кількістю значень)\n"
   ]
  },
  {
   "cell_type": "code",
   "execution_count": 1,
   "metadata": {
    "execution": {
     "iopub.execute_input": "2025-09-27T10:47:53.506487Z",
     "iopub.status.busy": "2025-09-27T10:47:53.505484Z",
     "iopub.status.idle": "2025-09-27T10:48:05.524444Z",
     "shell.execute_reply": "2025-09-27T10:48:05.523446Z",
     "shell.execute_reply.started": "2025-09-27T10:47:53.506487Z"
    },
    "id": "V4sHrxbjOUau"
   },
   "outputs": [],
   "source": [
    "import pandas as pd\n",
    "import numpy as np\n",
    "import matplotlib.pyplot as plt\n",
    "import plotly.express as px\n",
    "import plotly.graph_objects as go\n",
    "from sklearn.model_selection import train_test_split\n",
    "from sklearn.preprocessing import StandardScaler\n",
    "from sklearn.linear_model import LinearRegression\n",
    "from sklearn.metrics import mean_absolute_error, mean_squared_error, r2_score"
   ]
  },
  {
   "cell_type": "code",
   "execution_count": 2,
   "metadata": {
    "execution": {
     "iopub.execute_input": "2025-09-27T10:48:06.861447Z",
     "iopub.status.busy": "2025-09-27T10:48:06.860446Z",
     "iopub.status.idle": "2025-09-27T10:48:06.904623Z",
     "shell.execute_reply": "2025-09-27T10:48:06.903627Z",
     "shell.execute_reply.started": "2025-09-27T10:48:06.861447Z"
    }
   },
   "outputs": [],
   "source": [
    "df = pd.read_csv('House_Rent_Dataset.csv')"
   ]
  },
  {
   "cell_type": "code",
   "execution_count": 4,
   "metadata": {
    "execution": {
     "iopub.execute_input": "2025-09-27T10:48:27.133695Z",
     "iopub.status.busy": "2025-09-27T10:48:27.132710Z",
     "iopub.status.idle": "2025-09-27T10:48:27.139671Z",
     "shell.execute_reply": "2025-09-27T10:48:27.138480Z",
     "shell.execute_reply.started": "2025-09-27T10:48:27.133695Z"
    }
   },
   "outputs": [
    {
     "name": "stdout",
     "output_type": "stream",
     "text": [
      "Розмір датасета: (4746, 12)\n"
     ]
    }
   ],
   "source": [
    "print(\"Розмір датасета:\", df.shape)"
   ]
  },
  {
   "cell_type": "code",
   "execution_count": 5,
   "metadata": {
    "execution": {
     "iopub.execute_input": "2025-09-27T10:48:30.466956Z",
     "iopub.status.busy": "2025-09-27T10:48:30.465957Z",
     "iopub.status.idle": "2025-09-27T10:48:30.488705Z",
     "shell.execute_reply": "2025-09-27T10:48:30.487691Z",
     "shell.execute_reply.started": "2025-09-27T10:48:30.466956Z"
    }
   },
   "outputs": [
    {
     "data": {
      "text/html": [
       "<div>\n",
       "<style scoped>\n",
       "    .dataframe tbody tr th:only-of-type {\n",
       "        vertical-align: middle;\n",
       "    }\n",
       "\n",
       "    .dataframe tbody tr th {\n",
       "        vertical-align: top;\n",
       "    }\n",
       "\n",
       "    .dataframe thead th {\n",
       "        text-align: right;\n",
       "    }\n",
       "</style>\n",
       "<table border=\"1\" class=\"dataframe\">\n",
       "  <thead>\n",
       "    <tr style=\"text-align: right;\">\n",
       "      <th></th>\n",
       "      <th>Posted On</th>\n",
       "      <th>BHK</th>\n",
       "      <th>Rent</th>\n",
       "      <th>Size</th>\n",
       "      <th>Floor</th>\n",
       "      <th>Area Type</th>\n",
       "      <th>Area Locality</th>\n",
       "      <th>City</th>\n",
       "      <th>Furnishing Status</th>\n",
       "      <th>Tenant Preferred</th>\n",
       "      <th>Bathroom</th>\n",
       "      <th>Point of Contact</th>\n",
       "    </tr>\n",
       "  </thead>\n",
       "  <tbody>\n",
       "    <tr>\n",
       "      <th>0</th>\n",
       "      <td>2022-05-18</td>\n",
       "      <td>2</td>\n",
       "      <td>10000</td>\n",
       "      <td>1100</td>\n",
       "      <td>Ground out of 2</td>\n",
       "      <td>Super Area</td>\n",
       "      <td>Bandel</td>\n",
       "      <td>Kolkata</td>\n",
       "      <td>Unfurnished</td>\n",
       "      <td>Bachelors/Family</td>\n",
       "      <td>2</td>\n",
       "      <td>Contact Owner</td>\n",
       "    </tr>\n",
       "    <tr>\n",
       "      <th>1</th>\n",
       "      <td>2022-05-13</td>\n",
       "      <td>2</td>\n",
       "      <td>20000</td>\n",
       "      <td>800</td>\n",
       "      <td>1 out of 3</td>\n",
       "      <td>Super Area</td>\n",
       "      <td>Phool Bagan, Kankurgachi</td>\n",
       "      <td>Kolkata</td>\n",
       "      <td>Semi-Furnished</td>\n",
       "      <td>Bachelors/Family</td>\n",
       "      <td>1</td>\n",
       "      <td>Contact Owner</td>\n",
       "    </tr>\n",
       "    <tr>\n",
       "      <th>2</th>\n",
       "      <td>2022-05-16</td>\n",
       "      <td>2</td>\n",
       "      <td>17000</td>\n",
       "      <td>1000</td>\n",
       "      <td>1 out of 3</td>\n",
       "      <td>Super Area</td>\n",
       "      <td>Salt Lake City Sector 2</td>\n",
       "      <td>Kolkata</td>\n",
       "      <td>Semi-Furnished</td>\n",
       "      <td>Bachelors/Family</td>\n",
       "      <td>1</td>\n",
       "      <td>Contact Owner</td>\n",
       "    </tr>\n",
       "    <tr>\n",
       "      <th>3</th>\n",
       "      <td>2022-07-04</td>\n",
       "      <td>2</td>\n",
       "      <td>10000</td>\n",
       "      <td>800</td>\n",
       "      <td>1 out of 2</td>\n",
       "      <td>Super Area</td>\n",
       "      <td>Dumdum Park</td>\n",
       "      <td>Kolkata</td>\n",
       "      <td>Unfurnished</td>\n",
       "      <td>Bachelors/Family</td>\n",
       "      <td>1</td>\n",
       "      <td>Contact Owner</td>\n",
       "    </tr>\n",
       "    <tr>\n",
       "      <th>4</th>\n",
       "      <td>2022-05-09</td>\n",
       "      <td>2</td>\n",
       "      <td>7500</td>\n",
       "      <td>850</td>\n",
       "      <td>1 out of 2</td>\n",
       "      <td>Carpet Area</td>\n",
       "      <td>South Dum Dum</td>\n",
       "      <td>Kolkata</td>\n",
       "      <td>Unfurnished</td>\n",
       "      <td>Bachelors</td>\n",
       "      <td>1</td>\n",
       "      <td>Contact Owner</td>\n",
       "    </tr>\n",
       "  </tbody>\n",
       "</table>\n",
       "</div>"
      ],
      "text/plain": [
       "    Posted On  BHK   Rent  Size            Floor    Area Type  \\\n",
       "0  2022-05-18    2  10000  1100  Ground out of 2   Super Area   \n",
       "1  2022-05-13    2  20000   800       1 out of 3   Super Area   \n",
       "2  2022-05-16    2  17000  1000       1 out of 3   Super Area   \n",
       "3  2022-07-04    2  10000   800       1 out of 2   Super Area   \n",
       "4  2022-05-09    2   7500   850       1 out of 2  Carpet Area   \n",
       "\n",
       "              Area Locality     City Furnishing Status  Tenant Preferred  \\\n",
       "0                    Bandel  Kolkata       Unfurnished  Bachelors/Family   \n",
       "1  Phool Bagan, Kankurgachi  Kolkata    Semi-Furnished  Bachelors/Family   \n",
       "2   Salt Lake City Sector 2  Kolkata    Semi-Furnished  Bachelors/Family   \n",
       "3               Dumdum Park  Kolkata       Unfurnished  Bachelors/Family   \n",
       "4             South Dum Dum  Kolkata       Unfurnished         Bachelors   \n",
       "\n",
       "   Bathroom Point of Contact  \n",
       "0         2    Contact Owner  \n",
       "1         1    Contact Owner  \n",
       "2         1    Contact Owner  \n",
       "3         1    Contact Owner  \n",
       "4         1    Contact Owner  "
      ]
     },
     "metadata": {},
     "output_type": "display_data"
    }
   ],
   "source": [
    "display(df.head(5))"
   ]
  },
  {
   "cell_type": "code",
   "execution_count": 6,
   "metadata": {
    "execution": {
     "iopub.execute_input": "2025-09-27T10:48:44.757626Z",
     "iopub.status.busy": "2025-09-27T10:48:44.756624Z",
     "iopub.status.idle": "2025-09-27T10:48:44.781384Z",
     "shell.execute_reply": "2025-09-27T10:48:44.780385Z",
     "shell.execute_reply.started": "2025-09-27T10:48:44.757626Z"
    }
   },
   "outputs": [
    {
     "name": "stdout",
     "output_type": "stream",
     "text": [
      "\n",
      "Інфо по датасету:\n",
      "<class 'pandas.core.frame.DataFrame'>\n",
      "RangeIndex: 4746 entries, 0 to 4745\n",
      "Data columns (total 12 columns):\n",
      " #   Column             Non-Null Count  Dtype \n",
      "---  ------             --------------  ----- \n",
      " 0   Posted On          4746 non-null   object\n",
      " 1   BHK                4746 non-null   int64 \n",
      " 2   Rent               4746 non-null   int64 \n",
      " 3   Size               4746 non-null   int64 \n",
      " 4   Floor              4746 non-null   object\n",
      " 5   Area Type          4746 non-null   object\n",
      " 6   Area Locality      4746 non-null   object\n",
      " 7   City               4746 non-null   object\n",
      " 8   Furnishing Status  4746 non-null   object\n",
      " 9   Tenant Preferred   4746 non-null   object\n",
      " 10  Bathroom           4746 non-null   int64 \n",
      " 11  Point of Contact   4746 non-null   object\n",
      "dtypes: int64(4), object(8)\n",
      "memory usage: 445.1+ KB\n"
     ]
    },
    {
     "data": {
      "text/plain": [
       "None"
      ]
     },
     "metadata": {},
     "output_type": "display_data"
    }
   ],
   "source": [
    "print(\"\\nІнфо по датасету:\")\n",
    "display(df.info())"
   ]
  },
  {
   "cell_type": "markdown",
   "metadata": {
    "id": "7e2f1440"
   },
   "source": [
    "## Завдання 2: Дослідницький аналіз даних (EDA) (5 балів)\n",
    "\n",
    "**Що потрібно зробити:**\n",
    "1. **Аналіз пропущених значень.** Перевірте наявність і відсоток пропущених значень у кожній колонці\n",
    "2. **Базова статистика.** Обчисліть базову статистику (середнє, квартилі, стандартне відхилення) для числових змінних.\n",
    "3. **Аналіз цільової змінної.** Побудуйте гістограму розподілу цільової змінної (Rent)\n",
    "4. **Робота з викидами.** Знайдіть та видаліть викиди в цільовій змінній (якщо є). Визначити викиди можна будь-яким зрозумілим для вас способом, як варіант - таким, що використовується в побудові box-plot (https://en.wikipedia.org/wiki/Box_plot#Example_with_outliers).\n",
    "5. **Аналіз категоріальних змінних.** Виведіть кількість унікальних значень для кожної з категоріальних колонок.\n"
   ]
  },
  {
   "cell_type": "code",
   "execution_count": 8,
   "metadata": {
    "execution": {
     "iopub.execute_input": "2025-09-27T10:49:04.316386Z",
     "iopub.status.busy": "2025-09-27T10:49:04.315403Z",
     "iopub.status.idle": "2025-09-27T10:49:04.335560Z",
     "shell.execute_reply": "2025-09-27T10:49:04.334560Z",
     "shell.execute_reply.started": "2025-09-27T10:49:04.316386Z"
    },
    "id": "aWPsrhm8OVvU"
   },
   "outputs": [
    {
     "data": {
      "text/html": [
       "<div>\n",
       "<style scoped>\n",
       "    .dataframe tbody tr th:only-of-type {\n",
       "        vertical-align: middle;\n",
       "    }\n",
       "\n",
       "    .dataframe tbody tr th {\n",
       "        vertical-align: top;\n",
       "    }\n",
       "\n",
       "    .dataframe thead th {\n",
       "        text-align: right;\n",
       "    }\n",
       "</style>\n",
       "<table border=\"1\" class=\"dataframe\">\n",
       "  <thead>\n",
       "    <tr style=\"text-align: right;\">\n",
       "      <th></th>\n",
       "      <th>missing_count</th>\n",
       "      <th>missing_pct</th>\n",
       "    </tr>\n",
       "  </thead>\n",
       "  <tbody>\n",
       "    <tr>\n",
       "      <th>Posted On</th>\n",
       "      <td>0</td>\n",
       "      <td>0.0</td>\n",
       "    </tr>\n",
       "    <tr>\n",
       "      <th>BHK</th>\n",
       "      <td>0</td>\n",
       "      <td>0.0</td>\n",
       "    </tr>\n",
       "    <tr>\n",
       "      <th>Rent</th>\n",
       "      <td>0</td>\n",
       "      <td>0.0</td>\n",
       "    </tr>\n",
       "    <tr>\n",
       "      <th>Size</th>\n",
       "      <td>0</td>\n",
       "      <td>0.0</td>\n",
       "    </tr>\n",
       "    <tr>\n",
       "      <th>Floor</th>\n",
       "      <td>0</td>\n",
       "      <td>0.0</td>\n",
       "    </tr>\n",
       "    <tr>\n",
       "      <th>Area Type</th>\n",
       "      <td>0</td>\n",
       "      <td>0.0</td>\n",
       "    </tr>\n",
       "    <tr>\n",
       "      <th>Area Locality</th>\n",
       "      <td>0</td>\n",
       "      <td>0.0</td>\n",
       "    </tr>\n",
       "    <tr>\n",
       "      <th>City</th>\n",
       "      <td>0</td>\n",
       "      <td>0.0</td>\n",
       "    </tr>\n",
       "    <tr>\n",
       "      <th>Furnishing Status</th>\n",
       "      <td>0</td>\n",
       "      <td>0.0</td>\n",
       "    </tr>\n",
       "    <tr>\n",
       "      <th>Tenant Preferred</th>\n",
       "      <td>0</td>\n",
       "      <td>0.0</td>\n",
       "    </tr>\n",
       "    <tr>\n",
       "      <th>Bathroom</th>\n",
       "      <td>0</td>\n",
       "      <td>0.0</td>\n",
       "    </tr>\n",
       "    <tr>\n",
       "      <th>Point of Contact</th>\n",
       "      <td>0</td>\n",
       "      <td>0.0</td>\n",
       "    </tr>\n",
       "  </tbody>\n",
       "</table>\n",
       "</div>"
      ],
      "text/plain": [
       "                   missing_count  missing_pct\n",
       "Posted On                      0          0.0\n",
       "BHK                            0          0.0\n",
       "Rent                           0          0.0\n",
       "Size                           0          0.0\n",
       "Floor                          0          0.0\n",
       "Area Type                      0          0.0\n",
       "Area Locality                  0          0.0\n",
       "City                           0          0.0\n",
       "Furnishing Status              0          0.0\n",
       "Tenant Preferred               0          0.0\n",
       "Bathroom                       0          0.0\n",
       "Point of Contact               0          0.0"
      ]
     },
     "metadata": {},
     "output_type": "display_data"
    }
   ],
   "source": []
  },
  {
   "cell_type": "code",
   "execution_count": 81,
   "metadata": {
    "execution": {
     "iopub.execute_input": "2025-09-27T15:44:28.619022Z",
     "iopub.status.busy": "2025-09-27T15:44:28.618020Z",
     "iopub.status.idle": "2025-09-27T15:44:28.646169Z",
     "shell.execute_reply": "2025-09-27T15:44:28.645151Z",
     "shell.execute_reply.started": "2025-09-27T15:44:28.619022Z"
    }
   },
   "outputs": [
    {
     "name": "stdout",
     "output_type": "stream",
     "text": [
      "\n",
      "Числові колонки: ['BHK', 'Rent', 'Size', 'Bathroom']\n"
     ]
    },
    {
     "data": {
      "text/html": [
       "<div>\n",
       "<style scoped>\n",
       "    .dataframe tbody tr th:only-of-type {\n",
       "        vertical-align: middle;\n",
       "    }\n",
       "\n",
       "    .dataframe tbody tr th {\n",
       "        vertical-align: top;\n",
       "    }\n",
       "\n",
       "    .dataframe thead th {\n",
       "        text-align: right;\n",
       "    }\n",
       "</style>\n",
       "<table border=\"1\" class=\"dataframe\">\n",
       "  <thead>\n",
       "    <tr style=\"text-align: right;\">\n",
       "      <th></th>\n",
       "      <th>count</th>\n",
       "      <th>mean</th>\n",
       "      <th>std</th>\n",
       "      <th>min</th>\n",
       "      <th>25%</th>\n",
       "      <th>50%</th>\n",
       "      <th>75%</th>\n",
       "      <th>max</th>\n",
       "    </tr>\n",
       "  </thead>\n",
       "  <tbody>\n",
       "    <tr>\n",
       "      <th>BHK</th>\n",
       "      <td>4746.0</td>\n",
       "      <td>2.083860</td>\n",
       "      <td>0.832256</td>\n",
       "      <td>1.0</td>\n",
       "      <td>2.0</td>\n",
       "      <td>2.0</td>\n",
       "      <td>3.0</td>\n",
       "      <td>6.0</td>\n",
       "    </tr>\n",
       "    <tr>\n",
       "      <th>Rent</th>\n",
       "      <td>4746.0</td>\n",
       "      <td>34993.451327</td>\n",
       "      <td>78106.412937</td>\n",
       "      <td>1200.0</td>\n",
       "      <td>10000.0</td>\n",
       "      <td>16000.0</td>\n",
       "      <td>33000.0</td>\n",
       "      <td>3500000.0</td>\n",
       "    </tr>\n",
       "    <tr>\n",
       "      <th>Size</th>\n",
       "      <td>4746.0</td>\n",
       "      <td>967.490729</td>\n",
       "      <td>634.202328</td>\n",
       "      <td>10.0</td>\n",
       "      <td>550.0</td>\n",
       "      <td>850.0</td>\n",
       "      <td>1200.0</td>\n",
       "      <td>8000.0</td>\n",
       "    </tr>\n",
       "    <tr>\n",
       "      <th>Bathroom</th>\n",
       "      <td>4746.0</td>\n",
       "      <td>1.965866</td>\n",
       "      <td>0.884532</td>\n",
       "      <td>1.0</td>\n",
       "      <td>1.0</td>\n",
       "      <td>2.0</td>\n",
       "      <td>2.0</td>\n",
       "      <td>10.0</td>\n",
       "    </tr>\n",
       "  </tbody>\n",
       "</table>\n",
       "</div>"
      ],
      "text/plain": [
       "           count          mean           std     min      25%      50%  \\\n",
       "BHK       4746.0      2.083860      0.832256     1.0      2.0      2.0   \n",
       "Rent      4746.0  34993.451327  78106.412937  1200.0  10000.0  16000.0   \n",
       "Size      4746.0    967.490729    634.202328    10.0    550.0    850.0   \n",
       "Bathroom  4746.0      1.965866      0.884532     1.0      1.0      2.0   \n",
       "\n",
       "              75%        max  \n",
       "BHK           3.0        6.0  \n",
       "Rent      33000.0  3500000.0  \n",
       "Size       1200.0     8000.0  \n",
       "Bathroom      2.0       10.0  "
      ]
     },
     "metadata": {},
     "output_type": "display_data"
    }
   ],
   "source": [
    "num_cols = df.select_dtypes(include=[np.number]).columns.tolist()\n",
    "print(\"\\nЧислові колонки:\", num_cols)\n",
    "display(df[num_cols].describe().T)"
   ]
  },
  {
   "cell_type": "code",
   "execution_count": 82,
   "metadata": {
    "execution": {
     "iopub.execute_input": "2025-09-27T15:44:49.228480Z",
     "iopub.status.busy": "2025-09-27T15:44:49.228480Z",
     "iopub.status.idle": "2025-09-27T15:44:49.296363Z",
     "shell.execute_reply": "2025-09-27T15:44:49.295347Z",
     "shell.execute_reply.started": "2025-09-27T15:44:49.228480Z"
    }
   },
   "outputs": [
    {
     "data": {
      "application/vnd.plotly.v1+json": {
       "config": {
        "plotlyServerURL": "https://plot.ly"
       },
       "data": [
        {
         "bingroup": "x",
         "hovertemplate": "Rent=%{x}<br>count=%{y}<extra></extra>",
         "legendgroup": "",
         "marker": {
          "color": "#636efa",
          "pattern": {
           "shape": ""
          }
         },
         "name": "",
         "nbinsx": 100,
         "orientation": "v",
         "showlegend": false,
         "type": "histogram",
         "x": {
          "bdata": "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",
          "dtype": "i4"
         },
         "xaxis": "x",
         "yaxis": "y"
        }
       ],
       "layout": {
        "barmode": "relative",
        "height": 400,
        "legend": {
         "tracegroupgap": 0
        },
        "template": {
         "data": {
          "bar": [
           {
            "error_x": {
             "color": "#2a3f5f"
            },
            "error_y": {
             "color": "#2a3f5f"
            },
            "marker": {
             "line": {
              "color": "#E5ECF6",
              "width": 0.5
             },
             "pattern": {
              "fillmode": "overlay",
              "size": 10,
              "solidity": 0.2
             }
            },
            "type": "bar"
           }
          ],
          "barpolar": [
           {
            "marker": {
             "line": {
              "color": "#E5ECF6",
              "width": 0.5
             },
             "pattern": {
              "fillmode": "overlay",
              "size": 10,
              "solidity": 0.2
             }
            },
            "type": "barpolar"
           }
          ],
          "carpet": [
           {
            "aaxis": {
             "endlinecolor": "#2a3f5f",
             "gridcolor": "white",
             "linecolor": "white",
             "minorgridcolor": "white",
             "startlinecolor": "#2a3f5f"
            },
            "baxis": {
             "endlinecolor": "#2a3f5f",
             "gridcolor": "white",
             "linecolor": "white",
             "minorgridcolor": "white",
             "startlinecolor": "#2a3f5f"
            },
            "type": "carpet"
           }
          ],
          "choropleth": [
           {
            "colorbar": {
             "outlinewidth": 0,
             "ticks": ""
            },
            "type": "choropleth"
           }
          ],
          "contour": [
           {
            "colorbar": {
             "outlinewidth": 0,
             "ticks": ""
            },
            "colorscale": [
             [
              0,
              "#0d0887"
             ],
             [
              0.1111111111111111,
              "#46039f"
             ],
             [
              0.2222222222222222,
              "#7201a8"
             ],
             [
              0.3333333333333333,
              "#9c179e"
             ],
             [
              0.4444444444444444,
              "#bd3786"
             ],
             [
              0.5555555555555556,
              "#d8576b"
             ],
             [
              0.6666666666666666,
              "#ed7953"
             ],
             [
              0.7777777777777778,
              "#fb9f3a"
             ],
             [
              0.8888888888888888,
              "#fdca26"
             ],
             [
              1,
              "#f0f921"
             ]
            ],
            "type": "contour"
           }
          ],
          "contourcarpet": [
           {
            "colorbar": {
             "outlinewidth": 0,
             "ticks": ""
            },
            "type": "contourcarpet"
           }
          ],
          "heatmap": [
           {
            "colorbar": {
             "outlinewidth": 0,
             "ticks": ""
            },
            "colorscale": [
             [
              0,
              "#0d0887"
             ],
             [
              0.1111111111111111,
              "#46039f"
             ],
             [
              0.2222222222222222,
              "#7201a8"
             ],
             [
              0.3333333333333333,
              "#9c179e"
             ],
             [
              0.4444444444444444,
              "#bd3786"
             ],
             [
              0.5555555555555556,
              "#d8576b"
             ],
             [
              0.6666666666666666,
              "#ed7953"
             ],
             [
              0.7777777777777778,
              "#fb9f3a"
             ],
             [
              0.8888888888888888,
              "#fdca26"
             ],
             [
              1,
              "#f0f921"
             ]
            ],
            "type": "heatmap"
           }
          ],
          "histogram": [
           {
            "marker": {
             "pattern": {
              "fillmode": "overlay",
              "size": 10,
              "solidity": 0.2
             }
            },
            "type": "histogram"
           }
          ],
          "histogram2d": [
           {
            "colorbar": {
             "outlinewidth": 0,
             "ticks": ""
            },
            "colorscale": [
             [
              0,
              "#0d0887"
             ],
             [
              0.1111111111111111,
              "#46039f"
             ],
             [
              0.2222222222222222,
              "#7201a8"
             ],
             [
              0.3333333333333333,
              "#9c179e"
             ],
             [
              0.4444444444444444,
              "#bd3786"
             ],
             [
              0.5555555555555556,
              "#d8576b"
             ],
             [
              0.6666666666666666,
              "#ed7953"
             ],
             [
              0.7777777777777778,
              "#fb9f3a"
             ],
             [
              0.8888888888888888,
              "#fdca26"
             ],
             [
              1,
              "#f0f921"
             ]
            ],
            "type": "histogram2d"
           }
          ],
          "histogram2dcontour": [
           {
            "colorbar": {
             "outlinewidth": 0,
             "ticks": ""
            },
            "colorscale": [
             [
              0,
              "#0d0887"
             ],
             [
              0.1111111111111111,
              "#46039f"
             ],
             [
              0.2222222222222222,
              "#7201a8"
             ],
             [
              0.3333333333333333,
              "#9c179e"
             ],
             [
              0.4444444444444444,
              "#bd3786"
             ],
             [
              0.5555555555555556,
              "#d8576b"
             ],
             [
              0.6666666666666666,
              "#ed7953"
             ],
             [
              0.7777777777777778,
              "#fb9f3a"
             ],
             [
              0.8888888888888888,
              "#fdca26"
             ],
             [
              1,
              "#f0f921"
             ]
            ],
            "type": "histogram2dcontour"
           }
          ],
          "mesh3d": [
           {
            "colorbar": {
             "outlinewidth": 0,
             "ticks": ""
            },
            "type": "mesh3d"
           }
          ],
          "parcoords": [
           {
            "line": {
             "colorbar": {
              "outlinewidth": 0,
              "ticks": ""
             }
            },
            "type": "parcoords"
           }
          ],
          "pie": [
           {
            "automargin": true,
            "type": "pie"
           }
          ],
          "scatter": [
           {
            "fillpattern": {
             "fillmode": "overlay",
             "size": 10,
             "solidity": 0.2
            },
            "type": "scatter"
           }
          ],
          "scatter3d": [
           {
            "line": {
             "colorbar": {
              "outlinewidth": 0,
              "ticks": ""
             }
            },
            "marker": {
             "colorbar": {
              "outlinewidth": 0,
              "ticks": ""
             }
            },
            "type": "scatter3d"
           }
          ],
          "scattercarpet": [
           {
            "marker": {
             "colorbar": {
              "outlinewidth": 0,
              "ticks": ""
             }
            },
            "type": "scattercarpet"
           }
          ],
          "scattergeo": [
           {
            "marker": {
             "colorbar": {
              "outlinewidth": 0,
              "ticks": ""
             }
            },
            "type": "scattergeo"
           }
          ],
          "scattergl": [
           {
            "marker": {
             "colorbar": {
              "outlinewidth": 0,
              "ticks": ""
             }
            },
            "type": "scattergl"
           }
          ],
          "scattermap": [
           {
            "marker": {
             "colorbar": {
              "outlinewidth": 0,
              "ticks": ""
             }
            },
            "type": "scattermap"
           }
          ],
          "scattermapbox": [
           {
            "marker": {
             "colorbar": {
              "outlinewidth": 0,
              "ticks": ""
             }
            },
            "type": "scattermapbox"
           }
          ],
          "scatterpolar": [
           {
            "marker": {
             "colorbar": {
              "outlinewidth": 0,
              "ticks": ""
             }
            },
            "type": "scatterpolar"
           }
          ],
          "scatterpolargl": [
           {
            "marker": {
             "colorbar": {
              "outlinewidth": 0,
              "ticks": ""
             }
            },
            "type": "scatterpolargl"
           }
          ],
          "scatterternary": [
           {
            "marker": {
             "colorbar": {
              "outlinewidth": 0,
              "ticks": ""
             }
            },
            "type": "scatterternary"
           }
          ],
          "surface": [
           {
            "colorbar": {
             "outlinewidth": 0,
             "ticks": ""
            },
            "colorscale": [
             [
              0,
              "#0d0887"
             ],
             [
              0.1111111111111111,
              "#46039f"
             ],
             [
              0.2222222222222222,
              "#7201a8"
             ],
             [
              0.3333333333333333,
              "#9c179e"
             ],
             [
              0.4444444444444444,
              "#bd3786"
             ],
             [
              0.5555555555555556,
              "#d8576b"
             ],
             [
              0.6666666666666666,
              "#ed7953"
             ],
             [
              0.7777777777777778,
              "#fb9f3a"
             ],
             [
              0.8888888888888888,
              "#fdca26"
             ],
             [
              1,
              "#f0f921"
             ]
            ],
            "type": "surface"
           }
          ],
          "table": [
           {
            "cells": {
             "fill": {
              "color": "#EBF0F8"
             },
             "line": {
              "color": "white"
             }
            },
            "header": {
             "fill": {
              "color": "#C8D4E3"
             },
             "line": {
              "color": "white"
             }
            },
            "type": "table"
           }
          ]
         },
         "layout": {
          "annotationdefaults": {
           "arrowcolor": "#2a3f5f",
           "arrowhead": 0,
           "arrowwidth": 1
          },
          "autotypenumbers": "strict",
          "coloraxis": {
           "colorbar": {
            "outlinewidth": 0,
            "ticks": ""
           }
          },
          "colorscale": {
           "diverging": [
            [
             0,
             "#8e0152"
            ],
            [
             0.1,
             "#c51b7d"
            ],
            [
             0.2,
             "#de77ae"
            ],
            [
             0.3,
             "#f1b6da"
            ],
            [
             0.4,
             "#fde0ef"
            ],
            [
             0.5,
             "#f7f7f7"
            ],
            [
             0.6,
             "#e6f5d0"
            ],
            [
             0.7,
             "#b8e186"
            ],
            [
             0.8,
             "#7fbc41"
            ],
            [
             0.9,
             "#4d9221"
            ],
            [
             1,
             "#276419"
            ]
           ],
           "sequential": [
            [
             0,
             "#0d0887"
            ],
            [
             0.1111111111111111,
             "#46039f"
            ],
            [
             0.2222222222222222,
             "#7201a8"
            ],
            [
             0.3333333333333333,
             "#9c179e"
            ],
            [
             0.4444444444444444,
             "#bd3786"
            ],
            [
             0.5555555555555556,
             "#d8576b"
            ],
            [
             0.6666666666666666,
             "#ed7953"
            ],
            [
             0.7777777777777778,
             "#fb9f3a"
            ],
            [
             0.8888888888888888,
             "#fdca26"
            ],
            [
             1,
             "#f0f921"
            ]
           ],
           "sequentialminus": [
            [
             0,
             "#0d0887"
            ],
            [
             0.1111111111111111,
             "#46039f"
            ],
            [
             0.2222222222222222,
             "#7201a8"
            ],
            [
             0.3333333333333333,
             "#9c179e"
            ],
            [
             0.4444444444444444,
             "#bd3786"
            ],
            [
             0.5555555555555556,
             "#d8576b"
            ],
            [
             0.6666666666666666,
             "#ed7953"
            ],
            [
             0.7777777777777778,
             "#fb9f3a"
            ],
            [
             0.8888888888888888,
             "#fdca26"
            ],
            [
             1,
             "#f0f921"
            ]
           ]
          },
          "colorway": [
           "#636efa",
           "#EF553B",
           "#00cc96",
           "#ab63fa",
           "#FFA15A",
           "#19d3f3",
           "#FF6692",
           "#B6E880",
           "#FF97FF",
           "#FECB52"
          ],
          "font": {
           "color": "#2a3f5f"
          },
          "geo": {
           "bgcolor": "white",
           "lakecolor": "white",
           "landcolor": "#E5ECF6",
           "showlakes": true,
           "showland": true,
           "subunitcolor": "white"
          },
          "hoverlabel": {
           "align": "left"
          },
          "hovermode": "closest",
          "mapbox": {
           "style": "light"
          },
          "paper_bgcolor": "white",
          "plot_bgcolor": "#E5ECF6",
          "polar": {
           "angularaxis": {
            "gridcolor": "white",
            "linecolor": "white",
            "ticks": ""
           },
           "bgcolor": "#E5ECF6",
           "radialaxis": {
            "gridcolor": "white",
            "linecolor": "white",
            "ticks": ""
           }
          },
          "scene": {
           "xaxis": {
            "backgroundcolor": "#E5ECF6",
            "gridcolor": "white",
            "gridwidth": 2,
            "linecolor": "white",
            "showbackground": true,
            "ticks": "",
            "zerolinecolor": "white"
           },
           "yaxis": {
            "backgroundcolor": "#E5ECF6",
            "gridcolor": "white",
            "gridwidth": 2,
            "linecolor": "white",
            "showbackground": true,
            "ticks": "",
            "zerolinecolor": "white"
           },
           "zaxis": {
            "backgroundcolor": "#E5ECF6",
            "gridcolor": "white",
            "gridwidth": 2,
            "linecolor": "white",
            "showbackground": true,
            "ticks": "",
            "zerolinecolor": "white"
           }
          },
          "shapedefaults": {
           "line": {
            "color": "#2a3f5f"
           }
          },
          "ternary": {
           "aaxis": {
            "gridcolor": "white",
            "linecolor": "white",
            "ticks": ""
           },
           "baxis": {
            "gridcolor": "white",
            "linecolor": "white",
            "ticks": ""
           },
           "bgcolor": "#E5ECF6",
           "caxis": {
            "gridcolor": "white",
            "linecolor": "white",
            "ticks": ""
           }
          },
          "title": {
           "x": 0.05
          },
          "xaxis": {
           "automargin": true,
           "gridcolor": "white",
           "linecolor": "white",
           "ticks": "",
           "title": {
            "standoff": 15
           },
           "zerolinecolor": "white",
           "zerolinewidth": 2
          },
          "yaxis": {
           "automargin": true,
           "gridcolor": "white",
           "linecolor": "white",
           "ticks": "",
           "title": {
            "standoff": 15
           },
           "zerolinecolor": "white",
           "zerolinewidth": 2
          }
         }
        },
        "title": {
         "text": "Розподіл цільової змінної Rent"
        },
        "xaxis": {
         "anchor": "y",
         "domain": [
          0,
          1
         ],
         "title": {
          "text": "Rent"
         }
        },
        "yaxis": {
         "anchor": "x",
         "domain": [
          0,
          1
         ],
         "title": {
          "text": "count"
         }
        }
       }
      },
      "image/png": "[encoded data removed]"
     },
     "metadata": {},
     "output_type": "display_data"
    }
   ],
   "source": [
    "if 'Rent' not in df.columns:\n",
    "    raise ValueError(\"В датасеті відсутня колонка 'Rent' — перевірте ім'я цільової п.\")\n",
    "fig = px.histogram(df, x='Rent', nbins=100, title='Розподіл цільової змінної Rent')\n",
    "fig.update_layout(height=400)\n",
    "fig.show()"
   ]
  },
  {
   "cell_type": "code",
   "execution_count": 83,
   "metadata": {
    "execution": {
     "iopub.execute_input": "2025-09-27T15:45:33.720042Z",
     "iopub.status.busy": "2025-09-27T15:45:33.719044Z",
     "iopub.status.idle": "2025-09-27T15:45:33.786942Z",
     "shell.execute_reply": "2025-09-27T15:45:33.785925Z",
     "shell.execute_reply.started": "2025-09-27T15:45:33.720042Z"
    }
   },
   "outputs": [
    {
     "data": {
      "application/vnd.plotly.v1+json": {
       "config": {
        "plotlyServerURL": "https://plot.ly"
       },
       "data": [
        {
         "bingroup": "x",
         "hovertemplate": "x=%{x}<br>count=%{y}<extra></extra>",
         "legendgroup": "",
         "marker": {
          "color": "#636efa",
          "pattern": {
           "shape": ""
          }
         },
         "name": "",
         "nbinsx": 100,
         "orientation": "v",
         "showlegend": false,
         "type": "histogram",
         "x": {
          "bdata": "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",
          "dtype": "f8"
         },
         "xaxis": "x",
         "yaxis": "y"
        }
       ],
       "layout": {
        "barmode": "relative",
        "height": 400,
        "legend": {
         "tracegroupgap": 0
        },
        "template": {
         "data": {
          "bar": [
           {
            "error_x": {
             "color": "#2a3f5f"
            },
            "error_y": {
             "color": "#2a3f5f"
            },
            "marker": {
             "line": {
              "color": "#E5ECF6",
              "width": 0.5
             },
             "pattern": {
              "fillmode": "overlay",
              "size": 10,
              "solidity": 0.2
             }
            },
            "type": "bar"
           }
          ],
          "barpolar": [
           {
            "marker": {
             "line": {
              "color": "#E5ECF6",
              "width": 0.5
             },
             "pattern": {
              "fillmode": "overlay",
              "size": 10,
              "solidity": 0.2
             }
            },
            "type": "barpolar"
           }
          ],
          "carpet": [
           {
            "aaxis": {
             "endlinecolor": "#2a3f5f",
             "gridcolor": "white",
             "linecolor": "white",
             "minorgridcolor": "white",
             "startlinecolor": "#2a3f5f"
            },
            "baxis": {
             "endlinecolor": "#2a3f5f",
             "gridcolor": "white",
             "linecolor": "white",
             "minorgridcolor": "white",
             "startlinecolor": "#2a3f5f"
            },
            "type": "carpet"
           }
          ],
          "choropleth": [
           {
            "colorbar": {
             "outlinewidth": 0,
             "ticks": ""
            },
            "type": "choropleth"
           }
          ],
          "contour": [
           {
            "colorbar": {
             "outlinewidth": 0,
             "ticks": ""
            },
            "colorscale": [
             [
              0,
              "#0d0887"
             ],
             [
              0.1111111111111111,
              "#46039f"
             ],
             [
              0.2222222222222222,
              "#7201a8"
             ],
             [
              0.3333333333333333,
              "#9c179e"
             ],
             [
              0.4444444444444444,
              "#bd3786"
             ],
             [
              0.5555555555555556,
              "#d8576b"
             ],
             [
              0.6666666666666666,
              "#ed7953"
             ],
             [
              0.7777777777777778,
              "#fb9f3a"
             ],
             [
              0.8888888888888888,
              "#fdca26"
             ],
             [
              1,
              "#f0f921"
             ]
            ],
            "type": "contour"
           }
          ],
          "contourcarpet": [
           {
            "colorbar": {
             "outlinewidth": 0,
             "ticks": ""
            },
            "type": "contourcarpet"
           }
          ],
          "heatmap": [
           {
            "colorbar": {
             "outlinewidth": 0,
             "ticks": ""
            },
            "colorscale": [
             [
              0,
              "#0d0887"
             ],
             [
              0.1111111111111111,
              "#46039f"
             ],
             [
              0.2222222222222222,
              "#7201a8"
             ],
             [
              0.3333333333333333,
              "#9c179e"
             ],
             [
              0.4444444444444444,
              "#bd3786"
             ],
             [
              0.5555555555555556,
              "#d8576b"
             ],
             [
              0.6666666666666666,
              "#ed7953"
             ],
             [
              0.7777777777777778,
              "#fb9f3a"
             ],
             [
              0.8888888888888888,
              "#fdca26"
             ],
             [
              1,
              "#f0f921"
             ]
            ],
            "type": "heatmap"
           }
          ],
          "histogram": [
           {
            "marker": {
             "pattern": {
              "fillmode": "overlay",
              "size": 10,
              "solidity": 0.2
             }
            },
            "type": "histogram"
           }
          ],
          "histogram2d": [
           {
            "colorbar": {
             "outlinewidth": 0,
             "ticks": ""
            },
            "colorscale": [
             [
              0,
              "#0d0887"
             ],
             [
              0.1111111111111111,
              "#46039f"
             ],
             [
              0.2222222222222222,
              "#7201a8"
             ],
             [
              0.3333333333333333,
              "#9c179e"
             ],
             [
              0.4444444444444444,
              "#bd3786"
             ],
             [
              0.5555555555555556,
              "#d8576b"
             ],
             [
              0.6666666666666666,
              "#ed7953"
             ],
             [
              0.7777777777777778,
              "#fb9f3a"
             ],
             [
              0.8888888888888888,
              "#fdca26"
             ],
             [
              1,
              "#f0f921"
             ]
            ],
            "type": "histogram2d"
           }
          ],
          "histogram2dcontour": [
           {
            "colorbar": {
             "outlinewidth": 0,
             "ticks": ""
            },
            "colorscale": [
             [
              0,
              "#0d0887"
             ],
             [
              0.1111111111111111,
              "#46039f"
             ],
             [
              0.2222222222222222,
              "#7201a8"
             ],
             [
              0.3333333333333333,
              "#9c179e"
             ],
             [
              0.4444444444444444,
              "#bd3786"
             ],
             [
              0.5555555555555556,
              "#d8576b"
             ],
             [
              0.6666666666666666,
              "#ed7953"
             ],
             [
              0.7777777777777778,
              "#fb9f3a"
             ],
             [
              0.8888888888888888,
              "#fdca26"
             ],
             [
              1,
              "#f0f921"
             ]
            ],
            "type": "histogram2dcontour"
           }
          ],
          "mesh3d": [
           {
            "colorbar": {
             "outlinewidth": 0,
             "ticks": ""
            },
            "type": "mesh3d"
           }
          ],
          "parcoords": [
           {
            "line": {
             "colorbar": {
              "outlinewidth": 0,
              "ticks": ""
             }
            },
            "type": "parcoords"
           }
          ],
          "pie": [
           {
            "automargin": true,
            "type": "pie"
           }
          ],
          "scatter": [
           {
            "fillpattern": {
             "fillmode": "overlay",
             "size": 10,
             "solidity": 0.2
            },
            "type": "scatter"
           }
          ],
          "scatter3d": [
           {
            "line": {
             "colorbar": {
              "outlinewidth": 0,
              "ticks": ""
             }
            },
            "marker": {
             "colorbar": {
              "outlinewidth": 0,
              "ticks": ""
             }
            },
            "type": "scatter3d"
           }
          ],
          "scattercarpet": [
           {
            "marker": {
             "colorbar": {
              "outlinewidth": 0,
              "ticks": ""
             }
            },
            "type": "scattercarpet"
           }
          ],
          "scattergeo": [
           {
            "marker": {
             "colorbar": {
              "outlinewidth": 0,
              "ticks": ""
             }
            },
            "type": "scattergeo"
           }
          ],
          "scattergl": [
           {
            "marker": {
             "colorbar": {
              "outlinewidth": 0,
              "ticks": ""
             }
            },
            "type": "scattergl"
           }
          ],
          "scattermap": [
           {
            "marker": {
             "colorbar": {
              "outlinewidth": 0,
              "ticks": ""
             }
            },
            "type": "scattermap"
           }
          ],
          "scattermapbox": [
           {
            "marker": {
             "colorbar": {
              "outlinewidth": 0,
              "ticks": ""
             }
            },
            "type": "scattermapbox"
           }
          ],
          "scatterpolar": [
           {
            "marker": {
             "colorbar": {
              "outlinewidth": 0,
              "ticks": ""
             }
            },
            "type": "scatterpolar"
           }
          ],
          "scatterpolargl": [
           {
            "marker": {
             "colorbar": {
              "outlinewidth": 0,
              "ticks": ""
             }
            },
            "type": "scatterpolargl"
           }
          ],
          "scatterternary": [
           {
            "marker": {
             "colorbar": {
              "outlinewidth": 0,
              "ticks": ""
             }
            },
            "type": "scatterternary"
           }
          ],
          "surface": [
           {
            "colorbar": {
             "outlinewidth": 0,
             "ticks": ""
            },
            "colorscale": [
             [
              0,
              "#0d0887"
             ],
             [
              0.1111111111111111,
              "#46039f"
             ],
             [
              0.2222222222222222,
              "#7201a8"
             ],
             [
              0.3333333333333333,
              "#9c179e"
             ],
             [
              0.4444444444444444,
              "#bd3786"
             ],
             [
              0.5555555555555556,
              "#d8576b"
             ],
             [
              0.6666666666666666,
              "#ed7953"
             ],
             [
              0.7777777777777778,
              "#fb9f3a"
             ],
             [
              0.8888888888888888,
              "#fdca26"
             ],
             [
              1,
              "#f0f921"
             ]
            ],
            "type": "surface"
           }
          ],
          "table": [
           {
            "cells": {
             "fill": {
              "color": "#EBF0F8"
             },
             "line": {
              "color": "white"
             }
            },
            "header": {
             "fill": {
              "color": "#C8D4E3"
             },
             "line": {
              "color": "white"
             }
            },
            "type": "table"
           }
          ]
         },
         "layout": {
          "annotationdefaults": {
           "arrowcolor": "#2a3f5f",
           "arrowhead": 0,
           "arrowwidth": 1
          },
          "autotypenumbers": "strict",
          "coloraxis": {
           "colorbar": {
            "outlinewidth": 0,
            "ticks": ""
           }
          },
          "colorscale": {
           "diverging": [
            [
             0,
             "#8e0152"
            ],
            [
             0.1,
             "#c51b7d"
            ],
            [
             0.2,
             "#de77ae"
            ],
            [
             0.3,
             "#f1b6da"
            ],
            [
             0.4,
             "#fde0ef"
            ],
            [
             0.5,
             "#f7f7f7"
            ],
            [
             0.6,
             "#e6f5d0"
            ],
            [
             0.7,
             "#b8e186"
            ],
            [
             0.8,
             "#7fbc41"
            ],
            [
             0.9,
             "#4d9221"
            ],
            [
             1,
             "#276419"
            ]
           ],
           "sequential": [
            [
             0,
             "#0d0887"
            ],
            [
             0.1111111111111111,
             "#46039f"
            ],
            [
             0.2222222222222222,
             "#7201a8"
            ],
            [
             0.3333333333333333,
             "#9c179e"
            ],
            [
             0.4444444444444444,
             "#bd3786"
            ],
            [
             0.5555555555555556,
             "#d8576b"
            ],
            [
             0.6666666666666666,
             "#ed7953"
            ],
            [
             0.7777777777777778,
             "#fb9f3a"
            ],
            [
             0.8888888888888888,
             "#fdca26"
            ],
            [
             1,
             "#f0f921"
            ]
           ],
           "sequentialminus": [
            [
             0,
             "#0d0887"
            ],
            [
             0.1111111111111111,
             "#46039f"
            ],
            [
             0.2222222222222222,
             "#7201a8"
            ],
            [
             0.3333333333333333,
             "#9c179e"
            ],
            [
             0.4444444444444444,
             "#bd3786"
            ],
            [
             0.5555555555555556,
             "#d8576b"
            ],
            [
             0.6666666666666666,
             "#ed7953"
            ],
            [
             0.7777777777777778,
             "#fb9f3a"
            ],
            [
             0.8888888888888888,
             "#fdca26"
            ],
            [
             1,
             "#f0f921"
            ]
           ]
          },
          "colorway": [
           "#636efa",
           "#EF553B",
           "#00cc96",
           "#ab63fa",
           "#FFA15A",
           "#19d3f3",
           "#FF6692",
           "#B6E880",
           "#FF97FF",
           "#FECB52"
          ],
          "font": {
           "color": "#2a3f5f"
          },
          "geo": {
           "bgcolor": "white",
           "lakecolor": "white",
           "landcolor": "#E5ECF6",
           "showlakes": true,
           "showland": true,
           "subunitcolor": "white"
          },
          "hoverlabel": {
           "align": "left"
          },
          "hovermode": "closest",
          "mapbox": {
           "style": "light"
          },
          "paper_bgcolor": "white",
          "plot_bgcolor": "#E5ECF6",
          "polar": {
           "angularaxis": {
            "gridcolor": "white",
            "linecolor": "white",
            "ticks": ""
           },
           "bgcolor": "#E5ECF6",
           "radialaxis": {
            "gridcolor": "white",
            "linecolor": "white",
            "ticks": ""
           }
          },
          "scene": {
           "xaxis": {
            "backgroundcolor": "#E5ECF6",
            "gridcolor": "white",
            "gridwidth": 2,
            "linecolor": "white",
            "showbackground": true,
            "ticks": "",
            "zerolinecolor": "white"
           },
           "yaxis": {
            "backgroundcolor": "#E5ECF6",
            "gridcolor": "white",
            "gridwidth": 2,
            "linecolor": "white",
            "showbackground": true,
            "ticks": "",
            "zerolinecolor": "white"
           },
           "zaxis": {
            "backgroundcolor": "#E5ECF6",
            "gridcolor": "white",
            "gridwidth": 2,
            "linecolor": "white",
            "showbackground": true,
            "ticks": "",
            "zerolinecolor": "white"
           }
          },
          "shapedefaults": {
           "line": {
            "color": "#2a3f5f"
           }
          },
          "ternary": {
           "aaxis": {
            "gridcolor": "white",
            "linecolor": "white",
            "ticks": ""
           },
           "baxis": {
            "gridcolor": "white",
            "linecolor": "white",
            "ticks": ""
           },
           "bgcolor": "#E5ECF6",
           "caxis": {
            "gridcolor": "white",
            "linecolor": "white",
            "ticks": ""
           }
          },
          "title": {
           "x": 0.05
          },
          "xaxis": {
           "automargin": true,
           "gridcolor": "white",
           "linecolor": "white",
           "ticks": "",
           "title": {
            "standoff": 15
           },
           "zerolinecolor": "white",
           "zerolinewidth": 2
          },
          "yaxis": {
           "automargin": true,
           "gridcolor": "white",
           "linecolor": "white",
           "ticks": "",
           "title": {
            "standoff": 15
           },
           "zerolinecolor": "white",
           "zerolinewidth": 2
          }
         }
        },
        "title": {
         "text": "Розподіл log1p(Rent)"
        },
        "xaxis": {
         "anchor": "y",
         "domain": [
          0,
          1
         ],
         "title": {
          "text": "x"
         }
        },
        "yaxis": {
         "anchor": "x",
         "domain": [
          0,
          1
         ],
         "title": {
          "text": "count"
         }
        }
       }
      },
      "image/png": "[encoded data removed]"
     },
     "metadata": {},
     "output_type": "display_data"
    }
   ],
   "source": [
    "fig = px.histogram(df, x=np.log1p(df['Rent']), nbins=100, title='Розподіл log1p(Rent)')\n",
    "fig.update_layout(height=400)\n",
    "fig.show()"
   ]
  },
  {
   "cell_type": "code",
   "execution_count": 14,
   "metadata": {
    "execution": {
     "iopub.execute_input": "2025-09-27T10:50:37.263908Z",
     "iopub.status.busy": "2025-09-27T10:50:37.262923Z",
     "iopub.status.idle": "2025-09-27T10:50:37.273906Z",
     "shell.execute_reply": "2025-09-27T10:50:37.272920Z",
     "shell.execute_reply.started": "2025-09-27T10:50:37.263908Z"
    }
   },
   "outputs": [
    {
     "name": "stdout",
     "output_type": "stream",
     "text": [
      "IQR bounds: -24500.00 — 67500.00\n"
     ]
    }
   ],
   "source": [
    "Q1 = df['Rent'].quantile(0.25)\n",
    "Q3 = df['Rent'].quantile(0.75)\n",
    "IQR = Q3 - Q1\n",
    "lower_bound = Q1 - 1.5 * IQR\n",
    "upper_bound = Q3 + 1.5 * IQR\n",
    "print(f\"IQR bounds: {lower_bound:.2f} — {upper_bound:.2f}\")"
   ]
  },
  {
   "cell_type": "code",
   "execution_count": 17,
   "metadata": {
    "execution": {
     "iopub.execute_input": "2025-09-27T10:51:19.444042Z",
     "iopub.status.busy": "2025-09-27T10:51:19.443027Z",
     "iopub.status.idle": "2025-09-27T10:51:19.452020Z",
     "shell.execute_reply": "2025-09-27T10:51:19.451022Z",
     "shell.execute_reply.started": "2025-09-27T10:51:19.444042Z"
    }
   },
   "outputs": [
    {
     "name": "stdout",
     "output_type": "stream",
     "text": [
      "Кіл-ть викидів по Rent (IQR): 520 из 4746\n"
     ]
    }
   ],
   "source": [
    "outliers_mask = (df['Rent'] < lower_bound) | (df['Rent'] > upper_bound)\n",
    "print(\"Кіл-ть викидів по Rent (IQR):\", outliers_mask.sum(), \"из\", len(df))\n"
   ]
  },
  {
   "cell_type": "code",
   "execution_count": 18,
   "metadata": {
    "execution": {
     "iopub.execute_input": "2025-09-27T10:51:21.516221Z",
     "iopub.status.busy": "2025-09-27T10:51:21.516221Z",
     "iopub.status.idle": "2025-09-27T10:51:21.525327Z",
     "shell.execute_reply": "2025-09-27T10:51:21.524329Z",
     "shell.execute_reply.started": "2025-09-27T10:51:21.516221Z"
    }
   },
   "outputs": [
    {
     "name": "stdout",
     "output_type": "stream",
     "text": [
      "Розмір після видалення викидів: (4226, 12)\n"
     ]
    }
   ],
   "source": [
    "df_no_out = df.loc[~outliers_mask].copy()\n",
    "print(\"Розмір після видалення викидів:\", df_no_out.shape)"
   ]
  },
  {
   "cell_type": "code",
   "execution_count": 84,
   "metadata": {
    "execution": {
     "iopub.execute_input": "2025-09-27T15:45:37.988222Z",
     "iopub.status.busy": "2025-09-27T15:45:37.988222Z",
     "iopub.status.idle": "2025-09-27T15:45:38.001416Z",
     "shell.execute_reply": "2025-09-27T15:45:38.000400Z",
     "shell.execute_reply.started": "2025-09-27T15:45:37.988222Z"
    }
   },
   "outputs": [
    {
     "name": "stdout",
     "output_type": "stream",
     "text": [
      "\n",
      "Категоріальні колонки і число унікальних значень:\n",
      "  Posted On: 81\n",
      "  Floor: 480\n",
      "  Area Type: 3\n",
      "  Area Locality: 2235\n",
      "  City: 6\n",
      "  Furnishing Status: 3\n",
      "  Tenant Preferred: 3\n",
      "  Point of Contact: 3\n"
     ]
    }
   ],
   "source": [
    "cat_cols = df.select_dtypes(include=['object', 'category']).columns.tolist()\n",
    "print(\"\\nКатегоріальні колонки і число унікальних значень:\")\n",
    "for c in cat_cols:\n",
    "    print(f\"  {c}: {df[c].nunique()}\")"
   ]
  },
  {
   "cell_type": "markdown",
   "metadata": {
    "id": "9386b308"
   },
   "source": [
    "\n",
    "## Завдання 3: Аналіз кореляцій та взаємозв'язків (3 бали)\n",
    "\n",
    "**Що потрібно зробити:**\n",
    "1. Обчисліть матрицю кореляцій для числових змінних\n",
    "2. Візуалізуйте кореляційну матрицю за допомогою heatmap\n",
    "3. Побудуйте scatter plot між Size та Rent\n",
    "4. Проаналізуйте взаємозв'язок між BHK та Rent за допомогою boxplot (який розподіл плати для різних значень BHK)\n"
   ]
  },
  {
   "cell_type": "code",
   "execution_count": 20,
   "metadata": {
    "execution": {
     "iopub.execute_input": "2025-09-27T10:51:56.372643Z",
     "iopub.status.busy": "2025-09-27T10:51:56.371648Z",
     "iopub.status.idle": "2025-09-27T10:51:56.387033Z",
     "shell.execute_reply": "2025-09-27T10:51:56.386033Z",
     "shell.execute_reply.started": "2025-09-27T10:51:56.372643Z"
    },
    "id": "xselVsmDOWqZ"
   },
   "outputs": [
    {
     "data": {
      "text/html": [
       "<div>\n",
       "<style scoped>\n",
       "    .dataframe tbody tr th:only-of-type {\n",
       "        vertical-align: middle;\n",
       "    }\n",
       "\n",
       "    .dataframe tbody tr th {\n",
       "        vertical-align: top;\n",
       "    }\n",
       "\n",
       "    .dataframe thead th {\n",
       "        text-align: right;\n",
       "    }\n",
       "</style>\n",
       "<table border=\"1\" class=\"dataframe\">\n",
       "  <thead>\n",
       "    <tr style=\"text-align: right;\">\n",
       "      <th></th>\n",
       "      <th>BHK</th>\n",
       "      <th>Rent</th>\n",
       "      <th>Size</th>\n",
       "      <th>Bathroom</th>\n",
       "    </tr>\n",
       "  </thead>\n",
       "  <tbody>\n",
       "    <tr>\n",
       "      <th>BHK</th>\n",
       "      <td>1.000000</td>\n",
       "      <td>0.401268</td>\n",
       "      <td>0.698453</td>\n",
       "      <td>0.747918</td>\n",
       "    </tr>\n",
       "    <tr>\n",
       "      <th>Rent</th>\n",
       "      <td>0.401268</td>\n",
       "      <td>1.000000</td>\n",
       "      <td>0.393605</td>\n",
       "      <td>0.506528</td>\n",
       "    </tr>\n",
       "    <tr>\n",
       "      <th>Size</th>\n",
       "      <td>0.698453</td>\n",
       "      <td>0.393605</td>\n",
       "      <td>1.000000</td>\n",
       "      <td>0.680607</td>\n",
       "    </tr>\n",
       "    <tr>\n",
       "      <th>Bathroom</th>\n",
       "      <td>0.747918</td>\n",
       "      <td>0.506528</td>\n",
       "      <td>0.680607</td>\n",
       "      <td>1.000000</td>\n",
       "    </tr>\n",
       "  </tbody>\n",
       "</table>\n",
       "</div>"
      ],
      "text/plain": [
       "               BHK      Rent      Size  Bathroom\n",
       "BHK       1.000000  0.401268  0.698453  0.747918\n",
       "Rent      0.401268  1.000000  0.393605  0.506528\n",
       "Size      0.698453  0.393605  1.000000  0.680607\n",
       "Bathroom  0.747918  0.506528  0.680607  1.000000"
      ]
     },
     "metadata": {},
     "output_type": "display_data"
    }
   ],
   "source": [
    "num_df = df_no_out.select_dtypes(include=[np.number])\n",
    "corr_matrix = num_df.corr()\n",
    "display(corr_matrix)"
   ]
  },
  {
   "cell_type": "code",
   "execution_count": 85,
   "metadata": {
    "execution": {
     "iopub.execute_input": "2025-09-27T15:46:19.854447Z",
     "iopub.status.busy": "2025-09-27T15:46:19.853449Z",
     "iopub.status.idle": "2025-09-27T15:46:19.926259Z",
     "shell.execute_reply": "2025-09-27T15:46:19.925244Z",
     "shell.execute_reply.started": "2025-09-27T15:46:19.854447Z"
    }
   },
   "outputs": [
    {
     "data": {
      "application/vnd.plotly.v1+json": {
       "config": {
        "plotlyServerURL": "https://plot.ly"
       },
       "data": [
        {
         "coloraxis": "coloraxis",
         "hovertemplate": "x: %{x}<br>y: %{y}<br>color: %{z}<extra></extra>",
         "name": "0",
         "texttemplate": "%{z:.2f}",
         "type": "heatmap",
         "x": [
          "BHK",
          "Rent",
          "Size",
          "Bathroom"
         ],
         "xaxis": "x",
         "y": [
          "BHK",
          "Rent",
          "Size",
          "Bathroom"
         ],
         "yaxis": "y",
         "z": {
          "bdata": "AAAAAAAA8D/qn6cZYa7ZP/VDsZO6WeY/rcjmRvLu5z/qn6cZYa7ZPwAAAAAAAPA/+DU9DNMw2T/o9BEpeTXgP/VDsZO6WeY/+DU9DNMw2T8AAAAAAADwP954agOJx+U/rcjmRvLu5z/o9BEpeTXgP954agOJx+U/AAAAAAAA8D8=",
          "dtype": "f8",
          "shape": "4, 4"
         }
        }
       ],
       "layout": {
        "coloraxis": {
         "colorscale": [
          [
           0,
           "#0d0887"
          ],
          [
           0.1111111111111111,
           "#46039f"
          ],
          [
           0.2222222222222222,
           "#7201a8"
          ],
          [
           0.3333333333333333,
           "#9c179e"
          ],
          [
           0.4444444444444444,
           "#bd3786"
          ],
          [
           0.5555555555555556,
           "#d8576b"
          ],
          [
           0.6666666666666666,
           "#ed7953"
          ],
          [
           0.7777777777777778,
           "#fb9f3a"
          ],
          [
           0.8888888888888888,
           "#fdca26"
          ],
          [
           1,
           "#f0f921"
          ]
         ]
        },
        "height": 600,
        "template": {
         "data": {
          "bar": [
           {
            "error_x": {
             "color": "#2a3f5f"
            },
            "error_y": {
             "color": "#2a3f5f"
            },
            "marker": {
             "line": {
              "color": "#E5ECF6",
              "width": 0.5
             },
             "pattern": {
              "fillmode": "overlay",
              "size": 10,
              "solidity": 0.2
             }
            },
            "type": "bar"
           }
          ],
          "barpolar": [
           {
            "marker": {
             "line": {
              "color": "#E5ECF6",
              "width": 0.5
             },
             "pattern": {
              "fillmode": "overlay",
              "size": 10,
              "solidity": 0.2
             }
            },
            "type": "barpolar"
           }
          ],
          "carpet": [
           {
            "aaxis": {
             "endlinecolor": "#2a3f5f",
             "gridcolor": "white",
             "linecolor": "white",
             "minorgridcolor": "white",
             "startlinecolor": "#2a3f5f"
            },
            "baxis": {
             "endlinecolor": "#2a3f5f",
             "gridcolor": "white",
             "linecolor": "white",
             "minorgridcolor": "white",
             "startlinecolor": "#2a3f5f"
            },
            "type": "carpet"
           }
          ],
          "choropleth": [
           {
            "colorbar": {
             "outlinewidth": 0,
             "ticks": ""
            },
            "type": "choropleth"
           }
          ],
          "contour": [
           {
            "colorbar": {
             "outlinewidth": 0,
             "ticks": ""
            },
            "colorscale": [
             [
              0,
              "#0d0887"
             ],
             [
              0.1111111111111111,
              "#46039f"
             ],
             [
              0.2222222222222222,
              "#7201a8"
             ],
             [
              0.3333333333333333,
              "#9c179e"
             ],
             [
              0.4444444444444444,
              "#bd3786"
             ],
             [
              0.5555555555555556,
              "#d8576b"
             ],
             [
              0.6666666666666666,
              "#ed7953"
             ],
             [
              0.7777777777777778,
              "#fb9f3a"
             ],
             [
              0.8888888888888888,
              "#fdca26"
             ],
             [
              1,
              "#f0f921"
             ]
            ],
            "type": "contour"
           }
          ],
          "contourcarpet": [
           {
            "colorbar": {
             "outlinewidth": 0,
             "ticks": ""
            },
            "type": "contourcarpet"
           }
          ],
          "heatmap": [
           {
            "colorbar": {
             "outlinewidth": 0,
             "ticks": ""
            },
            "colorscale": [
             [
              0,
              "#0d0887"
             ],
             [
              0.1111111111111111,
              "#46039f"
             ],
             [
              0.2222222222222222,
              "#7201a8"
             ],
             [
              0.3333333333333333,
              "#9c179e"
             ],
             [
              0.4444444444444444,
              "#bd3786"
             ],
             [
              0.5555555555555556,
              "#d8576b"
             ],
             [
              0.6666666666666666,
              "#ed7953"
             ],
             [
              0.7777777777777778,
              "#fb9f3a"
             ],
             [
              0.8888888888888888,
              "#fdca26"
             ],
             [
              1,
              "#f0f921"
             ]
            ],
            "type": "heatmap"
           }
          ],
          "histogram": [
           {
            "marker": {
             "pattern": {
              "fillmode": "overlay",
              "size": 10,
              "solidity": 0.2
             }
            },
            "type": "histogram"
           }
          ],
          "histogram2d": [
           {
            "colorbar": {
             "outlinewidth": 0,
             "ticks": ""
            },
            "colorscale": [
             [
              0,
              "#0d0887"
             ],
             [
              0.1111111111111111,
              "#46039f"
             ],
             [
              0.2222222222222222,
              "#7201a8"
             ],
             [
              0.3333333333333333,
              "#9c179e"
             ],
             [
              0.4444444444444444,
              "#bd3786"
             ],
             [
              0.5555555555555556,
              "#d8576b"
             ],
             [
              0.6666666666666666,
              "#ed7953"
             ],
             [
              0.7777777777777778,
              "#fb9f3a"
             ],
             [
              0.8888888888888888,
              "#fdca26"
             ],
             [
              1,
              "#f0f921"
             ]
            ],
            "type": "histogram2d"
           }
          ],
          "histogram2dcontour": [
           {
            "colorbar": {
             "outlinewidth": 0,
             "ticks": ""
            },
            "colorscale": [
             [
              0,
              "#0d0887"
             ],
             [
              0.1111111111111111,
              "#46039f"
             ],
             [
              0.2222222222222222,
              "#7201a8"
             ],
             [
              0.3333333333333333,
              "#9c179e"
             ],
             [
              0.4444444444444444,
              "#bd3786"
             ],
             [
              0.5555555555555556,
              "#d8576b"
             ],
             [
              0.6666666666666666,
              "#ed7953"
             ],
             [
              0.7777777777777778,
              "#fb9f3a"
             ],
             [
              0.8888888888888888,
              "#fdca26"
             ],
             [
              1,
              "#f0f921"
             ]
            ],
            "type": "histogram2dcontour"
           }
          ],
          "mesh3d": [
           {
            "colorbar": {
             "outlinewidth": 0,
             "ticks": ""
            },
            "type": "mesh3d"
           }
          ],
          "parcoords": [
           {
            "line": {
             "colorbar": {
              "outlinewidth": 0,
              "ticks": ""
             }
            },
            "type": "parcoords"
           }
          ],
          "pie": [
           {
            "automargin": true,
            "type": "pie"
           }
          ],
          "scatter": [
           {
            "fillpattern": {
             "fillmode": "overlay",
             "size": 10,
             "solidity": 0.2
            },
            "type": "scatter"
           }
          ],
          "scatter3d": [
           {
            "line": {
             "colorbar": {
              "outlinewidth": 0,
              "ticks": ""
             }
            },
            "marker": {
             "colorbar": {
              "outlinewidth": 0,
              "ticks": ""
             }
            },
            "type": "scatter3d"
           }
          ],
          "scattercarpet": [
           {
            "marker": {
             "colorbar": {
              "outlinewidth": 0,
              "ticks": ""
             }
            },
            "type": "scattercarpet"
           }
          ],
          "scattergeo": [
           {
            "marker": {
             "colorbar": {
              "outlinewidth": 0,
              "ticks": ""
             }
            },
            "type": "scattergeo"
           }
          ],
          "scattergl": [
           {
            "marker": {
             "colorbar": {
              "outlinewidth": 0,
              "ticks": ""
             }
            },
            "type": "scattergl"
           }
          ],
          "scattermap": [
           {
            "marker": {
             "colorbar": {
              "outlinewidth": 0,
              "ticks": ""
             }
            },
            "type": "scattermap"
           }
          ],
          "scattermapbox": [
           {
            "marker": {
             "colorbar": {
              "outlinewidth": 0,
              "ticks": ""
             }
            },
            "type": "scattermapbox"
           }
          ],
          "scatterpolar": [
           {
            "marker": {
             "colorbar": {
              "outlinewidth": 0,
              "ticks": ""
             }
            },
            "type": "scatterpolar"
           }
          ],
          "scatterpolargl": [
           {
            "marker": {
             "colorbar": {
              "outlinewidth": 0,
              "ticks": ""
             }
            },
            "type": "scatterpolargl"
           }
          ],
          "scatterternary": [
           {
            "marker": {
             "colorbar": {
              "outlinewidth": 0,
              "ticks": ""
             }
            },
            "type": "scatterternary"
           }
          ],
          "surface": [
           {
            "colorbar": {
             "outlinewidth": 0,
             "ticks": ""
            },
            "colorscale": [
             [
              0,
              "#0d0887"
             ],
             [
              0.1111111111111111,
              "#46039f"
             ],
             [
              0.2222222222222222,
              "#7201a8"
             ],
             [
              0.3333333333333333,
              "#9c179e"
             ],
             [
              0.4444444444444444,
              "#bd3786"
             ],
             [
              0.5555555555555556,
              "#d8576b"
             ],
             [
              0.6666666666666666,
              "#ed7953"
             ],
             [
              0.7777777777777778,
              "#fb9f3a"
             ],
             [
              0.8888888888888888,
              "#fdca26"
             ],
             [
              1,
              "#f0f921"
             ]
            ],
            "type": "surface"
           }
          ],
          "table": [
           {
            "cells": {
             "fill": {
              "color": "#EBF0F8"
             },
             "line": {
              "color": "white"
             }
            },
            "header": {
             "fill": {
              "color": "#C8D4E3"
             },
             "line": {
              "color": "white"
             }
            },
            "type": "table"
           }
          ]
         },
         "layout": {
          "annotationdefaults": {
           "arrowcolor": "#2a3f5f",
           "arrowhead": 0,
           "arrowwidth": 1
          },
          "autotypenumbers": "strict",
          "coloraxis": {
           "colorbar": {
            "outlinewidth": 0,
            "ticks": ""
           }
          },
          "colorscale": {
           "diverging": [
            [
             0,
             "#8e0152"
            ],
            [
             0.1,
             "#c51b7d"
            ],
            [
             0.2,
             "#de77ae"
            ],
            [
             0.3,
             "#f1b6da"
            ],
            [
             0.4,
             "#fde0ef"
            ],
            [
             0.5,
             "#f7f7f7"
            ],
            [
             0.6,
             "#e6f5d0"
            ],
            [
             0.7,
             "#b8e186"
            ],
            [
             0.8,
             "#7fbc41"
            ],
            [
             0.9,
             "#4d9221"
            ],
            [
             1,
             "#276419"
            ]
           ],
           "sequential": [
            [
             0,
             "#0d0887"
            ],
            [
             0.1111111111111111,
             "#46039f"
            ],
            [
             0.2222222222222222,
             "#7201a8"
            ],
            [
             0.3333333333333333,
             "#9c179e"
            ],
            [
             0.4444444444444444,
             "#bd3786"
            ],
            [
             0.5555555555555556,
             "#d8576b"
            ],
            [
             0.6666666666666666,
             "#ed7953"
            ],
            [
             0.7777777777777778,
             "#fb9f3a"
            ],
            [
             0.8888888888888888,
             "#fdca26"
            ],
            [
             1,
             "#f0f921"
            ]
           ],
           "sequentialminus": [
            [
             0,
             "#0d0887"
            ],
            [
             0.1111111111111111,
             "#46039f"
            ],
            [
             0.2222222222222222,
             "#7201a8"
            ],
            [
             0.3333333333333333,
             "#9c179e"
            ],
            [
             0.4444444444444444,
             "#bd3786"
            ],
            [
             0.5555555555555556,
             "#d8576b"
            ],
            [
             0.6666666666666666,
             "#ed7953"
            ],
            [
             0.7777777777777778,
             "#fb9f3a"
            ],
            [
             0.8888888888888888,
             "#fdca26"
            ],
            [
             1,
             "#f0f921"
            ]
           ]
          },
          "colorway": [
           "#636efa",
           "#EF553B",
           "#00cc96",
           "#ab63fa",
           "#FFA15A",
           "#19d3f3",
           "#FF6692",
           "#B6E880",
           "#FF97FF",
           "#FECB52"
          ],
          "font": {
           "color": "#2a3f5f"
          },
          "geo": {
           "bgcolor": "white",
           "lakecolor": "white",
           "landcolor": "#E5ECF6",
           "showlakes": true,
           "showland": true,
           "subunitcolor": "white"
          },
          "hoverlabel": {
           "align": "left"
          },
          "hovermode": "closest",
          "mapbox": {
           "style": "light"
          },
          "paper_bgcolor": "white",
          "plot_bgcolor": "#E5ECF6",
          "polar": {
           "angularaxis": {
            "gridcolor": "white",
            "linecolor": "white",
            "ticks": ""
           },
           "bgcolor": "#E5ECF6",
           "radialaxis": {
            "gridcolor": "white",
            "linecolor": "white",
            "ticks": ""
           }
          },
          "scene": {
           "xaxis": {
            "backgroundcolor": "#E5ECF6",
            "gridcolor": "white",
            "gridwidth": 2,
            "linecolor": "white",
            "showbackground": true,
            "ticks": "",
            "zerolinecolor": "white"
           },
           "yaxis": {
            "backgroundcolor": "#E5ECF6",
            "gridcolor": "white",
            "gridwidth": 2,
            "linecolor": "white",
            "showbackground": true,
            "ticks": "",
            "zerolinecolor": "white"
           },
           "zaxis": {
            "backgroundcolor": "#E5ECF6",
            "gridcolor": "white",
            "gridwidth": 2,
            "linecolor": "white",
            "showbackground": true,
            "ticks": "",
            "zerolinecolor": "white"
           }
          },
          "shapedefaults": {
           "line": {
            "color": "#2a3f5f"
           }
          },
          "ternary": {
           "aaxis": {
            "gridcolor": "white",
            "linecolor": "white",
            "ticks": ""
           },
           "baxis": {
            "gridcolor": "white",
            "linecolor": "white",
            "ticks": ""
           },
           "bgcolor": "#E5ECF6",
           "caxis": {
            "gridcolor": "white",
            "linecolor": "white",
            "ticks": ""
           }
          },
          "title": {
           "x": 0.05
          },
          "xaxis": {
           "automargin": true,
           "gridcolor": "white",
           "linecolor": "white",
           "ticks": "",
           "title": {
            "standoff": 15
           },
           "zerolinecolor": "white",
           "zerolinewidth": 2
          },
          "yaxis": {
           "automargin": true,
           "gridcolor": "white",
           "linecolor": "white",
           "ticks": "",
           "title": {
            "standoff": 15
           },
           "zerolinecolor": "white",
           "zerolinewidth": 2
          }
         }
        },
        "title": {
         "text": "Кореляційна матриця (числові)"
        },
        "xaxis": {
         "anchor": "y",
         "constrain": "domain",
         "domain": [
          0,
          1
         ],
         "scaleanchor": "y"
        },
        "yaxis": {
         "anchor": "x",
         "autorange": "reversed",
         "constrain": "domain",
         "domain": [
          0,
          1
         ]
        }
       }
      },
      "image/png": "[encoded data removed]"
     },
     "metadata": {},
     "output_type": "display_data"
    }
   ],
   "source": [
    "fig = px.imshow(corr_matrix, text_auto='.2f', title='Кореляційна матриця (числові)')\n",
    "fig.update_layout(height=600)\n",
    "fig.show()"
   ]
  },
  {
   "cell_type": "code",
   "execution_count": 86,
   "metadata": {
    "execution": {
     "iopub.execute_input": "2025-09-27T15:46:48.717068Z",
     "iopub.status.busy": "2025-09-27T15:46:48.716067Z",
     "iopub.status.idle": "2025-09-27T15:46:48.795440Z",
     "shell.execute_reply": "2025-09-27T15:46:48.794423Z",
     "shell.execute_reply.started": "2025-09-27T15:46:48.716067Z"
    }
   },
   "outputs": [
    {
     "data": {
      "application/vnd.plotly.v1+json": {
       "config": {
        "plotlyServerURL": "https://plot.ly"
       },
       "data": [
        {
         "hovertemplate": "Size=%{x}<br>Rent=%{y}<extra></extra>",
         "legendgroup": "",
         "marker": {
          "color": "#636efa",
          "opacity": 0.6,
          "symbol": "circle"
         },
         "mode": "markers",
         "name": "",
         "showlegend": false,
         "type": "scattergl",
         "x": {
          "bdata": "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",
          "dtype": "i2"
         },
         "xaxis": "x",
         "y": {
          "bdata": "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",
          "dtype": "i4"
         },
         "yaxis": "y"
        }
       ],
       "layout": {
        "height": 400,
        "legend": {
         "tracegroupgap": 0
        },
        "template": {
         "data": {
          "bar": [
           {
            "error_x": {
             "color": "#2a3f5f"
            },
            "error_y": {
             "color": "#2a3f5f"
            },
            "marker": {
             "line": {
              "color": "#E5ECF6",
              "width": 0.5
             },
             "pattern": {
              "fillmode": "overlay",
              "size": 10,
              "solidity": 0.2
             }
            },
            "type": "bar"
           }
          ],
          "barpolar": [
           {
            "marker": {
             "line": {
              "color": "#E5ECF6",
              "width": 0.5
             },
             "pattern": {
              "fillmode": "overlay",
              "size": 10,
              "solidity": 0.2
             }
            },
            "type": "barpolar"
           }
          ],
          "carpet": [
           {
            "aaxis": {
             "endlinecolor": "#2a3f5f",
             "gridcolor": "white",
             "linecolor": "white",
             "minorgridcolor": "white",
             "startlinecolor": "#2a3f5f"
            },
            "baxis": {
             "endlinecolor": "#2a3f5f",
             "gridcolor": "white",
             "linecolor": "white",
             "minorgridcolor": "white",
             "startlinecolor": "#2a3f5f"
            },
            "type": "carpet"
           }
          ],
          "choropleth": [
           {
            "colorbar": {
             "outlinewidth": 0,
             "ticks": ""
            },
            "type": "choropleth"
           }
          ],
          "contour": [
           {
            "colorbar": {
             "outlinewidth": 0,
             "ticks": ""
            },
            "colorscale": [
             [
              0,
              "#0d0887"
             ],
             [
              0.1111111111111111,
              "#46039f"
             ],
             [
              0.2222222222222222,
              "#7201a8"
             ],
             [
              0.3333333333333333,
              "#9c179e"
             ],
             [
              0.4444444444444444,
              "#bd3786"
             ],
             [
              0.5555555555555556,
              "#d8576b"
             ],
             [
              0.6666666666666666,
              "#ed7953"
             ],
             [
              0.7777777777777778,
              "#fb9f3a"
             ],
             [
              0.8888888888888888,
              "#fdca26"
             ],
             [
              1,
              "#f0f921"
             ]
            ],
            "type": "contour"
           }
          ],
          "contourcarpet": [
           {
            "colorbar": {
             "outlinewidth": 0,
             "ticks": ""
            },
            "type": "contourcarpet"
           }
          ],
          "heatmap": [
           {
            "colorbar": {
             "outlinewidth": 0,
             "ticks": ""
            },
            "colorscale": [
             [
              0,
              "#0d0887"
             ],
             [
              0.1111111111111111,
              "#46039f"
             ],
             [
              0.2222222222222222,
              "#7201a8"
             ],
             [
              0.3333333333333333,
              "#9c179e"
             ],
             [
              0.4444444444444444,
              "#bd3786"
             ],
             [
              0.5555555555555556,
              "#d8576b"
             ],
             [
              0.6666666666666666,
              "#ed7953"
             ],
             [
              0.7777777777777778,
              "#fb9f3a"
             ],
             [
              0.8888888888888888,
              "#fdca26"
             ],
             [
              1,
              "#f0f921"
             ]
            ],
            "type": "heatmap"
           }
          ],
          "histogram": [
           {
            "marker": {
             "pattern": {
              "fillmode": "overlay",
              "size": 10,
              "solidity": 0.2
             }
            },
            "type": "histogram"
           }
          ],
          "histogram2d": [
           {
            "colorbar": {
             "outlinewidth": 0,
             "ticks": ""
            },
            "colorscale": [
             [
              0,
              "#0d0887"
             ],
             [
              0.1111111111111111,
              "#46039f"
             ],
             [
              0.2222222222222222,
              "#7201a8"
             ],
             [
              0.3333333333333333,
              "#9c179e"
             ],
             [
              0.4444444444444444,
              "#bd3786"
             ],
             [
              0.5555555555555556,
              "#d8576b"
             ],
             [
              0.6666666666666666,
              "#ed7953"
             ],
             [
              0.7777777777777778,
              "#fb9f3a"
             ],
             [
              0.8888888888888888,
              "#fdca26"
             ],
             [
              1,
              "#f0f921"
             ]
            ],
            "type": "histogram2d"
           }
          ],
          "histogram2dcontour": [
           {
            "colorbar": {
             "outlinewidth": 0,
             "ticks": ""
            },
            "colorscale": [
             [
              0,
              "#0d0887"
             ],
             [
              0.1111111111111111,
              "#46039f"
             ],
             [
              0.2222222222222222,
              "#7201a8"
             ],
             [
              0.3333333333333333,
              "#9c179e"
             ],
             [
              0.4444444444444444,
              "#bd3786"
             ],
             [
              0.5555555555555556,
              "#d8576b"
             ],
             [
              0.6666666666666666,
              "#ed7953"
             ],
             [
              0.7777777777777778,
              "#fb9f3a"
             ],
             [
              0.8888888888888888,
              "#fdca26"
             ],
             [
              1,
              "#f0f921"
             ]
            ],
            "type": "histogram2dcontour"
           }
          ],
          "mesh3d": [
           {
            "colorbar": {
             "outlinewidth": 0,
             "ticks": ""
            },
            "type": "mesh3d"
           }
          ],
          "parcoords": [
           {
            "line": {
             "colorbar": {
              "outlinewidth": 0,
              "ticks": ""
             }
            },
            "type": "parcoords"
           }
          ],
          "pie": [
           {
            "automargin": true,
            "type": "pie"
           }
          ],
          "scatter": [
           {
            "fillpattern": {
             "fillmode": "overlay",
             "size": 10,
             "solidity": 0.2
            },
            "type": "scatter"
           }
          ],
          "scatter3d": [
           {
            "line": {
             "colorbar": {
              "outlinewidth": 0,
              "ticks": ""
             }
            },
            "marker": {
             "colorbar": {
              "outlinewidth": 0,
              "ticks": ""
             }
            },
            "type": "scatter3d"
           }
          ],
          "scattercarpet": [
           {
            "marker": {
             "colorbar": {
              "outlinewidth": 0,
              "ticks": ""
             }
            },
            "type": "scattercarpet"
           }
          ],
          "scattergeo": [
           {
            "marker": {
             "colorbar": {
              "outlinewidth": 0,
              "ticks": ""
             }
            },
            "type": "scattergeo"
           }
          ],
          "scattergl": [
           {
            "marker": {
             "colorbar": {
              "outlinewidth": 0,
              "ticks": ""
             }
            },
            "type": "scattergl"
           }
          ],
          "scattermap": [
           {
            "marker": {
             "colorbar": {
              "outlinewidth": 0,
              "ticks": ""
             }
            },
            "type": "scattermap"
           }
          ],
          "scattermapbox": [
           {
            "marker": {
             "colorbar": {
              "outlinewidth": 0,
              "ticks": ""
             }
            },
            "type": "scattermapbox"
           }
          ],
          "scatterpolar": [
           {
            "marker": {
             "colorbar": {
              "outlinewidth": 0,
              "ticks": ""
             }
            },
            "type": "scatterpolar"
           }
          ],
          "scatterpolargl": [
           {
            "marker": {
             "colorbar": {
              "outlinewidth": 0,
              "ticks": ""
             }
            },
            "type": "scatterpolargl"
           }
          ],
          "scatterternary": [
           {
            "marker": {
             "colorbar": {
              "outlinewidth": 0,
              "ticks": ""
             }
            },
            "type": "scatterternary"
           }
          ],
          "surface": [
           {
            "colorbar": {
             "outlinewidth": 0,
             "ticks": ""
            },
            "colorscale": [
             [
              0,
              "#0d0887"
             ],
             [
              0.1111111111111111,
              "#46039f"
             ],
             [
              0.2222222222222222,
              "#7201a8"
             ],
             [
              0.3333333333333333,
              "#9c179e"
             ],
             [
              0.4444444444444444,
              "#bd3786"
             ],
             [
              0.5555555555555556,
              "#d8576b"
             ],
             [
              0.6666666666666666,
              "#ed7953"
             ],
             [
              0.7777777777777778,
              "#fb9f3a"
             ],
             [
              0.8888888888888888,
              "#fdca26"
             ],
             [
              1,
              "#f0f921"
             ]
            ],
            "type": "surface"
           }
          ],
          "table": [
           {
            "cells": {
             "fill": {
              "color": "#EBF0F8"
             },
             "line": {
              "color": "white"
             }
            },
            "header": {
             "fill": {
              "color": "#C8D4E3"
             },
             "line": {
              "color": "white"
             }
            },
            "type": "table"
           }
          ]
         },
         "layout": {
          "annotationdefaults": {
           "arrowcolor": "#2a3f5f",
           "arrowhead": 0,
           "arrowwidth": 1
          },
          "autotypenumbers": "strict",
          "coloraxis": {
           "colorbar": {
            "outlinewidth": 0,
            "ticks": ""
           }
          },
          "colorscale": {
           "diverging": [
            [
             0,
             "#8e0152"
            ],
            [
             0.1,
             "#c51b7d"
            ],
            [
             0.2,
             "#de77ae"
            ],
            [
             0.3,
             "#f1b6da"
            ],
            [
             0.4,
             "#fde0ef"
            ],
            [
             0.5,
             "#f7f7f7"
            ],
            [
             0.6,
             "#e6f5d0"
            ],
            [
             0.7,
             "#b8e186"
            ],
            [
             0.8,
             "#7fbc41"
            ],
            [
             0.9,
             "#4d9221"
            ],
            [
             1,
             "#276419"
            ]
           ],
           "sequential": [
            [
             0,
             "#0d0887"
            ],
            [
             0.1111111111111111,
             "#46039f"
            ],
            [
             0.2222222222222222,
             "#7201a8"
            ],
            [
             0.3333333333333333,
             "#9c179e"
            ],
            [
             0.4444444444444444,
             "#bd3786"
            ],
            [
             0.5555555555555556,
             "#d8576b"
            ],
            [
             0.6666666666666666,
             "#ed7953"
            ],
            [
             0.7777777777777778,
             "#fb9f3a"
            ],
            [
             0.8888888888888888,
             "#fdca26"
            ],
            [
             1,
             "#f0f921"
            ]
           ],
           "sequentialminus": [
            [
             0,
             "#0d0887"
            ],
            [
             0.1111111111111111,
             "#46039f"
            ],
            [
             0.2222222222222222,
             "#7201a8"
            ],
            [
             0.3333333333333333,
             "#9c179e"
            ],
            [
             0.4444444444444444,
             "#bd3786"
            ],
            [
             0.5555555555555556,
             "#d8576b"
            ],
            [
             0.6666666666666666,
             "#ed7953"
            ],
            [
             0.7777777777777778,
             "#fb9f3a"
            ],
            [
             0.8888888888888888,
             "#fdca26"
            ],
            [
             1,
             "#f0f921"
            ]
           ]
          },
          "colorway": [
           "#636efa",
           "#EF553B",
           "#00cc96",
           "#ab63fa",
           "#FFA15A",
           "#19d3f3",
           "#FF6692",
           "#B6E880",
           "#FF97FF",
           "#FECB52"
          ],
          "font": {
           "color": "#2a3f5f"
          },
          "geo": {
           "bgcolor": "white",
           "lakecolor": "white",
           "landcolor": "#E5ECF6",
           "showlakes": true,
           "showland": true,
           "subunitcolor": "white"
          },
          "hoverlabel": {
           "align": "left"
          },
          "hovermode": "closest",
          "mapbox": {
           "style": "light"
          },
          "paper_bgcolor": "white",
          "plot_bgcolor": "#E5ECF6",
          "polar": {
           "angularaxis": {
            "gridcolor": "white",
            "linecolor": "white",
            "ticks": ""
           },
           "bgcolor": "#E5ECF6",
           "radialaxis": {
            "gridcolor": "white",
            "linecolor": "white",
            "ticks": ""
           }
          },
          "scene": {
           "xaxis": {
            "backgroundcolor": "#E5ECF6",
            "gridcolor": "white",
            "gridwidth": 2,
            "linecolor": "white",
            "showbackground": true,
            "ticks": "",
            "zerolinecolor": "white"
           },
           "yaxis": {
            "backgroundcolor": "#E5ECF6",
            "gridcolor": "white",
            "gridwidth": 2,
            "linecolor": "white",
            "showbackground": true,
            "ticks": "",
            "zerolinecolor": "white"
           },
           "zaxis": {
            "backgroundcolor": "#E5ECF6",
            "gridcolor": "white",
            "gridwidth": 2,
            "linecolor": "white",
            "showbackground": true,
            "ticks": "",
            "zerolinecolor": "white"
           }
          },
          "shapedefaults": {
           "line": {
            "color": "#2a3f5f"
           }
          },
          "ternary": {
           "aaxis": {
            "gridcolor": "white",
            "linecolor": "white",
            "ticks": ""
           },
           "baxis": {
            "gridcolor": "white",
            "linecolor": "white",
            "ticks": ""
           },
           "bgcolor": "#E5ECF6",
           "caxis": {
            "gridcolor": "white",
            "linecolor": "white",
            "ticks": ""
           }
          },
          "title": {
           "x": 0.05
          },
          "xaxis": {
           "automargin": true,
           "gridcolor": "white",
           "linecolor": "white",
           "ticks": "",
           "title": {
            "standoff": 15
           },
           "zerolinecolor": "white",
           "zerolinewidth": 2
          },
          "yaxis": {
           "automargin": true,
           "gridcolor": "white",
           "linecolor": "white",
           "ticks": "",
           "title": {
            "standoff": 15
           },
           "zerolinecolor": "white",
           "zerolinewidth": 2
          }
         }
        },
        "title": {
         "text": "Size vs Rent"
        },
        "xaxis": {
         "anchor": "y",
         "domain": [
          0,
          1
         ],
         "title": {
          "text": "Size"
         }
        },
        "yaxis": {
         "anchor": "x",
         "domain": [
          0,
          1
         ],
         "title": {
          "text": "Rent"
         }
        }
       }
      },
      "image/png": "[encoded data removed]"
     },
     "metadata": {},
     "output_type": "display_data"
    }
   ],
   "source": [
    "if 'Size' in df_no_out.columns:\n",
    "    fig = px.scatter(df_no_out, x='Size', y='Rent', title='Size vs Rent', opacity=0.6)\n",
    "    fig.update_layout(height=400)\n",
    "    fig.show()\n",
    "else:\n",
    "    print(\"Колонки 'Size' немає — пропускаємо scatter Size vs Rent\")"
   ]
  },
  {
   "cell_type": "code",
   "execution_count": 87,
   "metadata": {
    "execution": {
     "iopub.execute_input": "2025-09-27T15:47:02.726604Z",
     "iopub.status.busy": "2025-09-27T15:47:02.726604Z",
     "iopub.status.idle": "2025-09-27T15:47:02.790383Z",
     "shell.execute_reply": "2025-09-27T15:47:02.789368Z",
     "shell.execute_reply.started": "2025-09-27T15:47:02.726604Z"
    }
   },
   "outputs": [
    {
     "data": {
      "application/vnd.plotly.v1+json": {
       "config": {
        "plotlyServerURL": "https://plot.ly"
       },
       "data": [
        {
         "alignmentgroup": "True",
         "boxpoints": "outliers",
         "hovertemplate": "BHK=%{x}<br>Rent=%{y}<extra></extra>",
         "legendgroup": "",
         "marker": {
          "color": "#636efa"
         },
         "name": "",
         "notched": false,
         "offsetgroup": "",
         "orientation": "v",
         "showlegend": false,
         "type": "box",
         "x": {
          "bdata": "AgICAgICAgECAgMBAQEDAwICAgICAgEDAQIBAgICAQICAgMCAgICAQIDAQIBAgICAwMBAQICAgECAgICAQMCAwECAQICAQECAgIDAgIBAgEDAQIGAgECAgICAgIBAQIBAgIEAgMEAwIBAgMCAQEBAQMDAgECAQMBAgECAgICAgEBAQECAQICAgICAwIBAgICAgICAgMCAQIDAgICAwIBAgIBAgMDAwICBAECAQIBAQICAwMCAQICAgICAgIBBAIEAgICAQMCAQEBAgEBAgMBAgMCAQIDAgEDAgQCAQECAgICAgIBAgEBAgQCAQIBAQIBAgIBAgMCAwIDAgICAwMCAgIDAwIDAgIBAgMBAgIDAQMBAQQDAQIBAgIBAQIBAwIDAQEDAgICAwIDAQICAwMCAgIBAwEDAQEBAgMCAwIBAQICAwECAwIBAgEBAQEDAwECAgIBAgICAQICAgMCAwICAQIBAgECAgIBAQECAQICAgIBAgICAwMCAgIBAgQDAgECAgECAgMCAgIDAgMCBAECAQIDAgEDAwEDAgICAgMCAgIBAQIBAQECAgIBAQICAgECAgIDAQEBAQICAQIBAgMCAwEBAwICAwIBAgIDBQIDAwECAwEBAgIBAgIDAgICAgICAgIDAQMCBAICAgICAgICAQICAgICAwEDAwEBAQMCAwECAgMDAgIBAgUDAgEBAQEBAQEBAQICAgEBAgIBAgEBAQECAQIBAQICAgEBAgICAQECAQEBAQIBAgEBAgECAgIDAgMCAgICAQIDAgEBAgICAgMBAQICAQIDAgEBAwECAQECAgIBAgIDAQICAwMBAQEBAgEBAQIBAgIBAQIDAQICAgICAgICAgIBAgICAQEBAgEBAgMBAgECAgECAgEBAQECAQIBAgICAQICAgECAQECAgEDAwECAgEBAQEBAgEDAgECAQIDAQICAQECAgECAQIDAgIDAQICAgICAgICAQIBAgEBAQECAgEBAgICAQECAgEBAgIBAQEDAQECAwICAwEBAgICAQIBAQEBAQMBAgEBAQIBAQEBAwIBAQMCAQECAgIBAQICAgIBAgICAgICAgIDAQIBAgMBAQECAgIBAgECAQEBAQECAQICAgEBAgECAQIBAQMCAQICAQECAgECAgECAQEDAgIBAQMCAQICAgIBAQEBAQIDAQEBAgEBAQIDAQICAwIBAgICAgICBAEBAQIBAgECAgECAwECAgICAgIDAgIBAgICAQIBAgICAQIBAQICAQIBAQECAQICAQEBAQMCAgEBAgIDAgIDAQEBAQEBAwIBAQECAQICAQIBAQIDAQEDAQECAQECAQICAQECAQICAgICAQIBAQICAQECAgECAgECAQEBAQECAQEBAgEBAgECAQECAgICAQECAQEBAQIDAgIBAgICAgEBAgECAQECAgEBAgICAQIBAgIBAQICAQICAgECAgEDAQEDAwIBAQEBAQECAgIBAwEBAgECAQIBAQEBAgICAgIBAgICAwIEAgECAwIBAQMCAQIBAgECAgECAQMDAQECAQIBAgICAwMCAgECAQIBAwMBAQECAgECAQIDAwICAQICAQIBAQIBAgIDAgECAgECAgMCAwIBAgICAgIDAQICAQIBAgIBAgIBAQICAwMBAgMDAgEBAQICAQECAgECAQMDAQICAQMCAgECAQIBAQMCAwICAgIDAwIBAgECAQICAgIDBAECAQECAgICAQQCAgEDAgICAgIBAgICAgICAQIBAwMCAgIBAQIDAwIBAwEBAgEDAgECAwMBAQICAgIBAgECAwICAgIBAgIBAwICAgMBAgEDAwEBAwIBAQMCAQICAQICAgECAQICAgMCAQEBAgECAQIBAQICAwIBAQEDAgICAwECAgEDAgECAwECAQMBAQECAgEBAgECAgIDAgIBAgIBAwIDAgIBAgEBAQEDAgICAgECAgICAwMCAgECAQIDAgICAQICAgMCAQIDAgMCAgMCAgICAgEBAQMCAgICAQMCAQICAgICAQEDAQICAgICAgIDAQECAQMDAgECAQICAQEBAgICAQICAgMDAgICAgIDAgEDAQECAQECAgICAQIBAgICAgIEAQEDAQMDAQMBAQICBAIBAgICAQICAQIBAQEBAwECAgICAwMCAwICAwICAQIBAgMCAwICAQMCAQEBAQEDAgMCAgIBAgIBAgICAgICAgIDAQIDAQMBBAICAQIBAgECAQIBAgEDAQIBAwMDAwICAgMBAgECAgECAgICAwICAgEBAwIBAQICAwEBAgEDAgECAQIBAwECAwMBAgECBAEBAQICAgIDAQICAgIBAQEDAwICAQEBAgMCAQICAwIBAgICAQMCAgICAQMBAgICAQICAgIBAwICAgICAQICAgIDAgMCAwIBAQIDAgIBAgICAgICAgMDAgICAgEDAQIDAQECAwMBAgMCAgEBAQECAgMBAQICAgECAgEDAgMBAgECAgMCAQIDAgICAQIBAgIBAwEDAgEBAwECAQMDAQECAQECAQEBAgEBAgIEAgECAQIDAwIBAQICAQIDAQIBAgICAwIBAgMCAQIDAgECAgECAwMBAgMCAQMBAgICAQEBAgICAgIDAQEBAQECAwMCAgICAwQCAQIBAQICAQEDAwICAQMBAQICAQICAwIBAgEDAQIDAgEBAgECAgMBAQICAgMCAwIBAgQCAwICAwEBAgECAgECAQIBAwICAwECAgECAgIDAQEDAQECAwEDAgICAQECAwIBAgEDAgEDAQEBAgICAgICAQEBAQIDAwMBAwICAgMCAQMCAgEBAgICAQIDAgMBAQICAQMBAgMBAQIDAgMCAQMCAgMCAwICAgICAQICAgICAQICAgECAwICAgMBAQICAgICAgICAQEDAQMDAwICAgECAwQCAwMDAwICAwMEAwMBAQECAwICAgMDAQECAgEBAgICAQMCAwEDAgIBAQIEAQECAgQCAgEBAwMDBAQDBAMDAwEBAgMCAwQBBAMBAQICAwQCAgEBAgMDAQIDAQQCAQECAgMCAQIBAQEBAgIBAgICAwICAwEDAgEBAgEDAgEBBAECAgMCAgMCAgICAgIBAwICAgEBBAECAQIDAwEDAgMCAQMBAwICAgICAgIDAgIDAQICAwEDAgMCAgICAQECAgMCAgIBAgECAQIDAgIBAQMCAwMDAgECAQICAwECAgMCAgMBAwMDAgMCAgMCAgICAgICAgEBAgECAgMCAgECAQEBAgEBAgQBAgIBAQMBAgEBAQMCAgICAQECAwMEAQICAgIDAwMBAwICAwMDAQECAQEDAwECAgEBAgEDAwICAQICAQECAgICAQMDAgIDAQIBAQIBAwECAgIBAwICAgECAwICAgECAgMDAgICAgMCAgIDAgICAgECAgQCAgECAgIDAgECAQIBAgICAQIBAgICAQEDAwMCAgICAgIDAwICAgICAgIDAgICAgMCAgEDAQEBAwICAgMCAgMBAQIDAwIBAwICAwICAgICAgIDAwIDAQICAgIDAQMBAgMEAwECAgICAQEDAwIDAwECAwMCAgICAgMCAwICAgECAwMBAgICAgMBBAICAgIDAQECAwICAgICAgICAgIDAgICAwICAgECAQICAgIBAgEDAQICAQEDAgICAgICAgIDAwICAgICAwIBAQEBAgIBAwICAgMBAgIDAwEDAgEBAgIBAQECAgICAwECAgICAgMCAgICAwICAgIDAgECAgMDAgIDAgICAQECAgMBAwIDAgIBAQMCAgICAwQCAwMCAwIBAgICAgIBAwECAgMCAQECBAICAwECAgECAgICAQMDAgICAwICAQMDAgMBAwIBAwICAwIDAgECAgECAQICAgICAwECAQICAwMDAgMCAQIDAgECAwECAgICAgMCAwECAQICAgICAgMCAgICAgMDAwECAgIDAgIBAQEBAgICAwMCAgIBAwIBAgICAgIDAwECAgECAgMBAwEDAgIBAwMFAwIDAwICAgICAgICAwICAgECAgMDAQEDAwICAgIDAgIDAgIBAgIDAQMCAQEDAQIDAwMBAgICAwEDAgMDAwMCAgMDAgICAgICAwECAgMCAgICAgMBAgIBAgMDAQICAQICAgIDAgIDAgECBgECAQMBAgICAwIBAgECAgEBAgEBAgMBAgIDAQEDAwICAQIDAQECAQMDAgIDAgMCAwEBAgIBAgICAgIBAgICAgICAgMCAgIBAwEBAQICAgICAgICAQICAgICAgEDAgICAwIBAgICAgIBAgECAgICAwIBAgEBAwICAQIBAgECAgMCAwMCAwIDAwIDBAIDAwICAQICAwIBAgIDAgMCAwEBAgMCAQICAgIBAgEBAgEDAgECAwICAQIBAgIBAwMDAgIBAgICAgMCAgICAQICAwICAgIDAgMCAgIBAgIDAgECAgICAwEBAwIDAQICAgEDAwICAwMDAQICAwIDAwIDAgIDAQICAgQCAgMCAQICAgICAwICAgMCAwMCAgMCAwMCAQICAgECAgMBAwECAwECAwMCAQMCAgMDAgIDAgICAgICAQIDAwICAQQDAwICAgMCAwIDAwMDBAICAgMBAgICAwIDBQECAgIDAQECAwICAwEDAwMCAwEDAQICAwICAgIDAgICAQMBAgQBAgIDAQECAgIDAQICAwMDAgMBAQICAgIDAwMDAgICAgICAwMCAgIDAgICAwICAQECAQIDAQIBAgICAgIEAwIDAgEDAQIEAgMCAgIDAQMCAwMCAwICAwIDAQICAwMDAwICAwIDAwICAQICAgMCAwIBAwICAgMCAgIDAQICAgIDAgIDAgIBAgIBAgECAwICAwECAwMDAgIBAgEDAwMCAgMCAwICAwECBAICAgICAQMDAgMBAgICAgMDAQICAgICAwIBAgMDAQEBAgEDAwMCAgIDAwICAgMCAgEDAwMBAgMCAwMBAgICAgIDAgICAgICAgICAQMCAwICAwICAwIDAgICAQICAwICAwMDAgICAgEBAwMCAgICAwIDAgICAgMCAgICAgICAQEBAQICAgMCAQEBAgMCAgIBAgEDAgIDAQICAwICAwICAgICAgIEAgICAwMBAQIDAgMCAgICAgYCAgICAwECAgMBAgMCAwICAwMDAgIDAwIDAQECAwECAgMBAwICAwIDAwMBAgICAwIBAwICAgICAgIFAwMCAwMBAwIDAgICAgIBAwEBAgIBAgMCAgIBAgMCAwMBAgIBAgICAwMCAwECAgEDAQICAgIDAgICAgMBAwIDAwIDAgYCAgIBAgEBAgICAwEBAgICAgMCAwIDAgMCAgICAwMBAgEBAgICAgYDAgMEAgICAQIDAwEDAgMCAwIDAQICAQIDAwIBAQQCAgQDAgECAgIDAQECAwIDAgECAgICAgMDAgEDAQIDAgIDAgEDAQIDAwMBAwMDAwMCAwICAwEBAgEDAgICAgICAwMBAQIBAgICAQMBAgICAgMBAQIEAQEBAgICAgIDAgIBAgECAQMBAgICAQMDAQICAgIBAgIDAwICAgMCAgICAgICAgECAgICAQIDAgMCAQYCAwIBAQICAQIBAgIBAgMDAwQCAwIDAgEBAgIBAgMDAgICAgEDAwMDAgICAgMDAwI=",
          "dtype": "i1"
         },
         "x0": " ",
         "xaxis": "x",
         "y": {
          "bdata": "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",
          "dtype": "i4"
         },
         "y0": " ",
         "yaxis": "y"
        }
       ],
       "layout": {
        "boxmode": "group",
        "height": 400,
        "legend": {
         "tracegroupgap": 0
        },
        "template": {
         "data": {
          "bar": [
           {
            "error_x": {
             "color": "#2a3f5f"
            },
            "error_y": {
             "color": "#2a3f5f"
            },
            "marker": {
             "line": {
              "color": "#E5ECF6",
              "width": 0.5
             },
             "pattern": {
              "fillmode": "overlay",
              "size": 10,
              "solidity": 0.2
             }
            },
            "type": "bar"
           }
          ],
          "barpolar": [
           {
            "marker": {
             "line": {
              "color": "#E5ECF6",
              "width": 0.5
             },
             "pattern": {
              "fillmode": "overlay",
              "size": 10,
              "solidity": 0.2
             }
            },
            "type": "barpolar"
           }
          ],
          "carpet": [
           {
            "aaxis": {
             "endlinecolor": "#2a3f5f",
             "gridcolor": "white",
             "linecolor": "white",
             "minorgridcolor": "white",
             "startlinecolor": "#2a3f5f"
            },
            "baxis": {
             "endlinecolor": "#2a3f5f",
             "gridcolor": "white",
             "linecolor": "white",
             "minorgridcolor": "white",
             "startlinecolor": "#2a3f5f"
            },
            "type": "carpet"
           }
          ],
          "choropleth": [
           {
            "colorbar": {
             "outlinewidth": 0,
             "ticks": ""
            },
            "type": "choropleth"
           }
          ],
          "contour": [
           {
            "colorbar": {
             "outlinewidth": 0,
             "ticks": ""
            },
            "colorscale": [
             [
              0,
              "#0d0887"
             ],
             [
              0.1111111111111111,
              "#46039f"
             ],
             [
              0.2222222222222222,
              "#7201a8"
             ],
             [
              0.3333333333333333,
              "#9c179e"
             ],
             [
              0.4444444444444444,
              "#bd3786"
             ],
             [
              0.5555555555555556,
              "#d8576b"
             ],
             [
              0.6666666666666666,
              "#ed7953"
             ],
             [
              0.7777777777777778,
              "#fb9f3a"
             ],
             [
              0.8888888888888888,
              "#fdca26"
             ],
             [
              1,
              "#f0f921"
             ]
            ],
            "type": "contour"
           }
          ],
          "contourcarpet": [
           {
            "colorbar": {
             "outlinewidth": 0,
             "ticks": ""
            },
            "type": "contourcarpet"
           }
          ],
          "heatmap": [
           {
            "colorbar": {
             "outlinewidth": 0,
             "ticks": ""
            },
            "colorscale": [
             [
              0,
              "#0d0887"
             ],
             [
              0.1111111111111111,
              "#46039f"
             ],
             [
              0.2222222222222222,
              "#7201a8"
             ],
             [
              0.3333333333333333,
              "#9c179e"
             ],
             [
              0.4444444444444444,
              "#bd3786"
             ],
             [
              0.5555555555555556,
              "#d8576b"
             ],
             [
              0.6666666666666666,
              "#ed7953"
             ],
             [
              0.7777777777777778,
              "#fb9f3a"
             ],
             [
              0.8888888888888888,
              "#fdca26"
             ],
             [
              1,
              "#f0f921"
             ]
            ],
            "type": "heatmap"
           }
          ],
          "histogram": [
           {
            "marker": {
             "pattern": {
              "fillmode": "overlay",
              "size": 10,
              "solidity": 0.2
             }
            },
            "type": "histogram"
           }
          ],
          "histogram2d": [
           {
            "colorbar": {
             "outlinewidth": 0,
             "ticks": ""
            },
            "colorscale": [
             [
              0,
              "#0d0887"
             ],
             [
              0.1111111111111111,
              "#46039f"
             ],
             [
              0.2222222222222222,
              "#7201a8"
             ],
             [
              0.3333333333333333,
              "#9c179e"
             ],
             [
              0.4444444444444444,
              "#bd3786"
             ],
             [
              0.5555555555555556,
              "#d8576b"
             ],
             [
              0.6666666666666666,
              "#ed7953"
             ],
             [
              0.7777777777777778,
              "#fb9f3a"
             ],
             [
              0.8888888888888888,
              "#fdca26"
             ],
             [
              1,
              "#f0f921"
             ]
            ],
            "type": "histogram2d"
           }
          ],
          "histogram2dcontour": [
           {
            "colorbar": {
             "outlinewidth": 0,
             "ticks": ""
            },
            "colorscale": [
             [
              0,
              "#0d0887"
             ],
             [
              0.1111111111111111,
              "#46039f"
             ],
             [
              0.2222222222222222,
              "#7201a8"
             ],
             [
              0.3333333333333333,
              "#9c179e"
             ],
             [
              0.4444444444444444,
              "#bd3786"
             ],
             [
              0.5555555555555556,
              "#d8576b"
             ],
             [
              0.6666666666666666,
              "#ed7953"
             ],
             [
              0.7777777777777778,
              "#fb9f3a"
             ],
             [
              0.8888888888888888,
              "#fdca26"
             ],
             [
              1,
              "#f0f921"
             ]
            ],
            "type": "histogram2dcontour"
           }
          ],
          "mesh3d": [
           {
            "colorbar": {
             "outlinewidth": 0,
             "ticks": ""
            },
            "type": "mesh3d"
           }
          ],
          "parcoords": [
           {
            "line": {
             "colorbar": {
              "outlinewidth": 0,
              "ticks": ""
             }
            },
            "type": "parcoords"
           }
          ],
          "pie": [
           {
            "automargin": true,
            "type": "pie"
           }
          ],
          "scatter": [
           {
            "fillpattern": {
             "fillmode": "overlay",
             "size": 10,
             "solidity": 0.2
            },
            "type": "scatter"
           }
          ],
          "scatter3d": [
           {
            "line": {
             "colorbar": {
              "outlinewidth": 0,
              "ticks": ""
             }
            },
            "marker": {
             "colorbar": {
              "outlinewidth": 0,
              "ticks": ""
             }
            },
            "type": "scatter3d"
           }
          ],
          "scattercarpet": [
           {
            "marker": {
             "colorbar": {
              "outlinewidth": 0,
              "ticks": ""
             }
            },
            "type": "scattercarpet"
           }
          ],
          "scattergeo": [
           {
            "marker": {
             "colorbar": {
              "outlinewidth": 0,
              "ticks": ""
             }
            },
            "type": "scattergeo"
           }
          ],
          "scattergl": [
           {
            "marker": {
             "colorbar": {
              "outlinewidth": 0,
              "ticks": ""
             }
            },
            "type": "scattergl"
           }
          ],
          "scattermap": [
           {
            "marker": {
             "colorbar": {
              "outlinewidth": 0,
              "ticks": ""
             }
            },
            "type": "scattermap"
           }
          ],
          "scattermapbox": [
           {
            "marker": {
             "colorbar": {
              "outlinewidth": 0,
              "ticks": ""
             }
            },
            "type": "scattermapbox"
           }
          ],
          "scatterpolar": [
           {
            "marker": {
             "colorbar": {
              "outlinewidth": 0,
              "ticks": ""
             }
            },
            "type": "scatterpolar"
           }
          ],
          "scatterpolargl": [
           {
            "marker": {
             "colorbar": {
              "outlinewidth": 0,
              "ticks": ""
             }
            },
            "type": "scatterpolargl"
           }
          ],
          "scatterternary": [
           {
            "marker": {
             "colorbar": {
              "outlinewidth": 0,
              "ticks": ""
             }
            },
            "type": "scatterternary"
           }
          ],
          "surface": [
           {
            "colorbar": {
             "outlinewidth": 0,
             "ticks": ""
            },
            "colorscale": [
             [
              0,
              "#0d0887"
             ],
             [
              0.1111111111111111,
              "#46039f"
             ],
             [
              0.2222222222222222,
              "#7201a8"
             ],
             [
              0.3333333333333333,
              "#9c179e"
             ],
             [
              0.4444444444444444,
              "#bd3786"
             ],
             [
              0.5555555555555556,
              "#d8576b"
             ],
             [
              0.6666666666666666,
              "#ed7953"
             ],
             [
              0.7777777777777778,
              "#fb9f3a"
             ],
             [
              0.8888888888888888,
              "#fdca26"
             ],
             [
              1,
              "#f0f921"
             ]
            ],
            "type": "surface"
           }
          ],
          "table": [
           {
            "cells": {
             "fill": {
              "color": "#EBF0F8"
             },
             "line": {
              "color": "white"
             }
            },
            "header": {
             "fill": {
              "color": "#C8D4E3"
             },
             "line": {
              "color": "white"
             }
            },
            "type": "table"
           }
          ]
         },
         "layout": {
          "annotationdefaults": {
           "arrowcolor": "#2a3f5f",
           "arrowhead": 0,
           "arrowwidth": 1
          },
          "autotypenumbers": "strict",
          "coloraxis": {
           "colorbar": {
            "outlinewidth": 0,
            "ticks": ""
           }
          },
          "colorscale": {
           "diverging": [
            [
             0,
             "#8e0152"
            ],
            [
             0.1,
             "#c51b7d"
            ],
            [
             0.2,
             "#de77ae"
            ],
            [
             0.3,
             "#f1b6da"
            ],
            [
             0.4,
             "#fde0ef"
            ],
            [
             0.5,
             "#f7f7f7"
            ],
            [
             0.6,
             "#e6f5d0"
            ],
            [
             0.7,
             "#b8e186"
            ],
            [
             0.8,
             "#7fbc41"
            ],
            [
             0.9,
             "#4d9221"
            ],
            [
             1,
             "#276419"
            ]
           ],
           "sequential": [
            [
             0,
             "#0d0887"
            ],
            [
             0.1111111111111111,
             "#46039f"
            ],
            [
             0.2222222222222222,
             "#7201a8"
            ],
            [
             0.3333333333333333,
             "#9c179e"
            ],
            [
             0.4444444444444444,
             "#bd3786"
            ],
            [
             0.5555555555555556,
             "#d8576b"
            ],
            [
             0.6666666666666666,
             "#ed7953"
            ],
            [
             0.7777777777777778,
             "#fb9f3a"
            ],
            [
             0.8888888888888888,
             "#fdca26"
            ],
            [
             1,
             "#f0f921"
            ]
           ],
           "sequentialminus": [
            [
             0,
             "#0d0887"
            ],
            [
             0.1111111111111111,
             "#46039f"
            ],
            [
             0.2222222222222222,
             "#7201a8"
            ],
            [
             0.3333333333333333,
             "#9c179e"
            ],
            [
             0.4444444444444444,
             "#bd3786"
            ],
            [
             0.5555555555555556,
             "#d8576b"
            ],
            [
             0.6666666666666666,
             "#ed7953"
            ],
            [
             0.7777777777777778,
             "#fb9f3a"
            ],
            [
             0.8888888888888888,
             "#fdca26"
            ],
            [
             1,
             "#f0f921"
            ]
           ]
          },
          "colorway": [
           "#636efa",
           "#EF553B",
           "#00cc96",
           "#ab63fa",
           "#FFA15A",
           "#19d3f3",
           "#FF6692",
           "#B6E880",
           "#FF97FF",
           "#FECB52"
          ],
          "font": {
           "color": "#2a3f5f"
          },
          "geo": {
           "bgcolor": "white",
           "lakecolor": "white",
           "landcolor": "#E5ECF6",
           "showlakes": true,
           "showland": true,
           "subunitcolor": "white"
          },
          "hoverlabel": {
           "align": "left"
          },
          "hovermode": "closest",
          "mapbox": {
           "style": "light"
          },
          "paper_bgcolor": "white",
          "plot_bgcolor": "#E5ECF6",
          "polar": {
           "angularaxis": {
            "gridcolor": "white",
            "linecolor": "white",
            "ticks": ""
           },
           "bgcolor": "#E5ECF6",
           "radialaxis": {
            "gridcolor": "white",
            "linecolor": "white",
            "ticks": ""
           }
          },
          "scene": {
           "xaxis": {
            "backgroundcolor": "#E5ECF6",
            "gridcolor": "white",
            "gridwidth": 2,
            "linecolor": "white",
            "showbackground": true,
            "ticks": "",
            "zerolinecolor": "white"
           },
           "yaxis": {
            "backgroundcolor": "#E5ECF6",
            "gridcolor": "white",
            "gridwidth": 2,
            "linecolor": "white",
            "showbackground": true,
            "ticks": "",
            "zerolinecolor": "white"
           },
           "zaxis": {
            "backgroundcolor": "#E5ECF6",
            "gridcolor": "white",
            "gridwidth": 2,
            "linecolor": "white",
            "showbackground": true,
            "ticks": "",
            "zerolinecolor": "white"
           }
          },
          "shapedefaults": {
           "line": {
            "color": "#2a3f5f"
           }
          },
          "ternary": {
           "aaxis": {
            "gridcolor": "white",
            "linecolor": "white",
            "ticks": ""
           },
           "baxis": {
            "gridcolor": "white",
            "linecolor": "white",
            "ticks": ""
           },
           "bgcolor": "#E5ECF6",
           "caxis": {
            "gridcolor": "white",
            "linecolor": "white",
            "ticks": ""
           }
          },
          "title": {
           "x": 0.05
          },
          "xaxis": {
           "automargin": true,
           "gridcolor": "white",
           "linecolor": "white",
           "ticks": "",
           "title": {
            "standoff": 15
           },
           "zerolinecolor": "white",
           "zerolinewidth": 2
          },
          "yaxis": {
           "automargin": true,
           "gridcolor": "white",
           "linecolor": "white",
           "ticks": "",
           "title": {
            "standoff": 15
           },
           "zerolinecolor": "white",
           "zerolinewidth": 2
          }
         }
        },
        "title": {
         "text": "BHK vs Rent (boxplot)"
        },
        "xaxis": {
         "anchor": "y",
         "domain": [
          0,
          1
         ],
         "title": {
          "text": "BHK"
         }
        },
        "yaxis": {
         "anchor": "x",
         "domain": [
          0,
          1
         ],
         "title": {
          "text": "Rent"
         }
        }
       }
      },
      "image/png": "[encoded data removed]"
     },
     "metadata": {},
     "output_type": "display_data"
    }
   ],
   "source": [
    "if 'BHK' in df_no_out.columns:\n",
    "    fig = px.box(df_no_out, x='BHK', y='Rent', points='outliers', title='BHK vs Rent (boxplot)')\n",
    "    fig.update_layout(height=400)\n",
    "    fig.show()\n",
    "else:\n",
    "    # если нет колонки BHK, попробуем извлечь её из Size, если Size содержит 'BHK' - но это предположение\n",
    "    print(\"Колонки 'BHK' немає — пропускаємо boxplot BHK vs Rent\")"
   ]
  },
  {
   "cell_type": "code",
   "execution_count": 93,
   "metadata": {
    "execution": {
     "iopub.execute_input": "2025-09-27T15:51:36.950336Z",
     "iopub.status.busy": "2025-09-27T15:51:36.949336Z",
     "iopub.status.idle": "2025-09-27T15:51:36.957361Z",
     "shell.execute_reply": "2025-09-27T15:51:36.956345Z",
     "shell.execute_reply.started": "2025-09-27T15:51:36.950336Z"
    }
   },
   "outputs": [
    {
     "name": "stdout",
     "output_type": "stream",
     "text": [
      "Загальна тенденція: чим більше BHK, тим вища ціна оренди.\n",
      "Але цей зв’язок не лінійний і з великим розкидом — кількість кімнат впливає, але не єдина причина різниці в ціні.\n",
      "Для якісного прогнозу треба враховувати інші фактори: площу (Size), місто (City), меблювання, поверх і т.д.\n"
     ]
    }
   ],
   "source": [
    "print('''Загальна тенденція: чим більше BHK, тим вища ціна оренди.\n",
    "Але цей зв’язок не лінійний і з великим розкидом — кількість кімнат впливає, але не єдина причина різниці в ціні.\n",
    "Для якісного прогнозу треба враховувати інші фактори: площу (Size), місто (City), меблювання, поверх і т.д.''')"
   ]
  },
  {
   "cell_type": "markdown",
   "metadata": {
    "id": "628c3b4f"
   },
   "source": [
    "## Завдання 4: Feature Engineering та підготовка даних (4 бали)\n",
    "\n",
    "**Що потрібно зробити:**\n",
    "1. Закодуйте категоріальні змінні за допомогою One-Hot Encoding. Пригадайте, що в лекції ми говорили щодо кодування кат. змінних з великої кількістю різних значень і як працювати з такими випадками. Ви можете закодувати не всі кат. змінні, а лише ті, що вважаєте за потрібні (скажімо ті, що мають відносно небагато різних значень).\n",
    "2. **Опціонально (по 0.5 бала за кожну доцільну ознаку):** Додайте нові ознаки, обчислені на основі наявних даних, які б на ваш погляд були корисними для моделі\n",
    "3. Виберіть ознаки для побудови моделі (виключіть непотрібні колонки). Виключити можна, наприклад, ті колонки, які мають категоріальний тип і забагато (більше 20) різних значень. Треба виключити хоча б 1 колонку.\n",
    "4. Розділіть дані на ознаки (X) та цільову змінну (y)\n",
    "5. Застосуйте стандартизацію до числових ознак\n"
   ]
  },
  {
   "cell_type": "code",
   "execution_count": 24,
   "metadata": {
    "execution": {
     "iopub.execute_input": "2025-09-27T10:52:39.086186Z",
     "iopub.status.busy": "2025-09-27T10:52:39.085171Z",
     "iopub.status.idle": "2025-09-27T10:52:39.092170Z",
     "shell.execute_reply": "2025-09-27T10:52:39.091169Z",
     "shell.execute_reply.started": "2025-09-27T10:52:39.086186Z"
    },
    "id": "aOXZSaK2OX0Y"
   },
   "outputs": [],
   "source": [
    "df_prep = df_no_out.copy()"
   ]
  },
  {
   "cell_type": "code",
   "execution_count": 94,
   "metadata": {
    "execution": {
     "iopub.execute_input": "2025-09-27T15:53:21.827984Z",
     "iopub.status.busy": "2025-09-27T15:53:21.826967Z",
     "iopub.status.idle": "2025-09-27T15:53:21.835334Z",
     "shell.execute_reply": "2025-09-27T15:53:21.834317Z",
     "shell.execute_reply.started": "2025-09-27T15:53:21.827984Z"
    }
   },
   "outputs": [],
   "source": [
    "for col in ['Size', 'BHK', 'Bathroom', 'Rent']:\n",
    "    if col in df_prep.columns and df_prep[col].dtype == 'object':\n",
    "        df_prep[col] = df_prep[col].str.replace('[^0-9.]', '', regex=True)\n",
    "        df_prep[col] = pd.to_numeric(df_prep[col], errors='coerce')"
   ]
  },
  {
   "cell_type": "code",
   "execution_count": 95,
   "metadata": {
    "execution": {
     "iopub.execute_input": "2025-09-27T15:53:39.795699Z",
     "iopub.status.busy": "2025-09-27T15:53:39.794715Z",
     "iopub.status.idle": "2025-09-27T15:53:39.804001Z",
     "shell.execute_reply": "2025-09-27T15:53:39.802988Z",
     "shell.execute_reply.started": "2025-09-27T15:53:39.795699Z"
    }
   },
   "outputs": [],
   "source": [
    "def parse_floor(value):\n",
    "    try:\n",
    "        if isinstance(value, str):\n",
    "            parts = value.split(' out of ')\n",
    "            if len(parts) == 2:\n",
    "                current, total = parts\n",
    "                current = current.strip()\n",
    "                total = total.strip()\n",
    "                if current.lower() == 'ground':\n",
    "                    current_num = 0\n",
    "                else:\n",
    "                    current_num = pd.to_numeric(current, errors='coerce')\n",
    "                total_num = pd.to_numeric(total, errors='coerce')\n",
    "                return pd.Series([current_num, total_num])\n",
    "        return pd.Series([np.nan, np.nan])\n",
    "    except:\n",
    "        return pd.Series([np.nan, np.nan])\n",
    "\n",
    "if 'Floor' in df_prep.columns:\n",
    "    df_prep[['floor_num', 'floor_total']] = df_prep['Floor'].apply(parse_floor)\n",
    "    df_prep = df_prep.drop(columns=['Floor'])"
   ]
  },
  {
   "cell_type": "code",
   "execution_count": 96,
   "metadata": {
    "execution": {
     "iopub.execute_input": "2025-09-27T15:54:04.165320Z",
     "iopub.status.busy": "2025-09-27T15:54:04.165320Z",
     "iopub.status.idle": "2025-09-27T15:54:04.176021Z",
     "shell.execute_reply": "2025-09-27T15:54:04.175009Z",
     "shell.execute_reply.started": "2025-09-27T15:54:04.165320Z"
    }
   },
   "outputs": [
    {
     "name": "stdout",
     "output_type": "stream",
     "text": [
      "Після приведення типів і обробки Floor розмір: (4226, 12)\n"
     ]
    }
   ],
   "source": [
    "important_num = ['Size', 'BHK', 'Bathroom', 'Rent']\n",
    "present_imp = [c for c in important_num if c in df_prep.columns]\n",
    "df_prep = df_prep.dropna(subset=present_imp).copy()\n",
    "print(\"Після приведення типів і обробки Floor розмір:\", df_prep.shape)"
   ]
  },
  {
   "cell_type": "code",
   "execution_count": 41,
   "metadata": {
    "execution": {
     "iopub.execute_input": "2025-09-27T11:27:00.621455Z",
     "iopub.status.busy": "2025-09-27T11:27:00.621455Z",
     "iopub.status.idle": "2025-09-27T11:27:00.627454Z",
     "shell.execute_reply": "2025-09-27T11:27:00.626470Z",
     "shell.execute_reply.started": "2025-09-27T11:27:00.621455Z"
    }
   },
   "outputs": [],
   "source": [
    "drop_candidates = []\n",
    "for name in ['Area Locality', 'Area_Locality', 'Locality', 'area_locality']:\n",
    "    if name in df_prep.columns:\n",
    "        drop_candidates.append(name)"
   ]
  },
  {
   "cell_type": "code",
   "execution_count": 97,
   "metadata": {
    "execution": {
     "iopub.execute_input": "2025-09-27T15:54:44.242740Z",
     "iopub.status.busy": "2025-09-27T15:54:44.241740Z",
     "iopub.status.idle": "2025-09-27T15:54:44.248765Z",
     "shell.execute_reply": "2025-09-27T15:54:44.247748Z",
     "shell.execute_reply.started": "2025-09-27T15:54:44.242740Z"
    }
   },
   "outputs": [],
   "source": [
    "if drop_candidates:\n",
    "    print(\"Видаляємо за потреби high-cardinality колонку:\", drop_candidates)\n",
    "    df_prep = df_prep.drop(columns=drop_candidates)"
   ]
  },
  {
   "cell_type": "code",
   "execution_count": 98,
   "metadata": {
    "execution": {
     "iopub.execute_input": "2025-09-27T15:55:01.703682Z",
     "iopub.status.busy": "2025-09-27T15:55:01.702680Z",
     "iopub.status.idle": "2025-09-27T15:55:01.714707Z",
     "shell.execute_reply": "2025-09-27T15:55:01.713689Z",
     "shell.execute_reply.started": "2025-09-27T15:55:01.703682Z"
    }
   },
   "outputs": [
    {
     "name": "stdout",
     "output_type": "stream",
     "text": [
      "Будемо one-hot кодувати колонки: ['Area Type', 'City', 'Furnishing Status', 'Tenant Preferred', 'Point of Contact']\n"
     ]
    }
   ],
   "source": [
    "cat_cols = df.select_dtypes(include=['object', 'category']).columns.tolist()\n",
    "ohe_cols = []\n",
    "for c in cat_cols:\n",
    "    if c in df_prep.columns and df_prep[c].nunique() <= 20:\n",
    "        ohe_cols.append(c)\n",
    "print(\"Будемо one-hot кодувати колонки:\", ohe_cols)"
   ]
  },
  {
   "cell_type": "code",
   "execution_count": 99,
   "metadata": {
    "execution": {
     "iopub.execute_input": "2025-09-27T15:55:07.988818Z",
     "iopub.status.busy": "2025-09-27T15:55:07.987819Z",
     "iopub.status.idle": "2025-09-27T15:55:08.005342Z",
     "shell.execute_reply": "2025-09-27T15:55:08.004329Z",
     "shell.execute_reply.started": "2025-09-27T15:55:07.988818Z"
    }
   },
   "outputs": [],
   "source": [
    "df_model = pd.get_dummies(df_prep, columns=ohe_cols, drop_first=True)"
   ]
  },
  {
   "cell_type": "code",
   "execution_count": 100,
   "metadata": {
    "execution": {
     "iopub.execute_input": "2025-09-27T15:55:09.209318Z",
     "iopub.status.busy": "2025-09-27T15:55:09.209318Z",
     "iopub.status.idle": "2025-09-27T15:55:09.218658Z",
     "shell.execute_reply": "2025-09-27T15:55:09.217646Z",
     "shell.execute_reply.started": "2025-09-27T15:55:09.209318Z"
    }
   },
   "outputs": [],
   "source": [
    "if 'Size' in df_model.columns and 'Rent' in df_model.columns:\n",
    "    df_model['rent_per_sqft'] = df_model['Rent'] / df_model['Size']\n",
    "\n",
    "if 'BHK' in df_model.columns and 'Bathroom' in df_model.columns:\n",
    "    df_model['rooms_total'] = df_model['BHK'] + df_model['Bathroom']"
   ]
  },
  {
   "cell_type": "code",
   "execution_count": 101,
   "metadata": {
    "execution": {
     "iopub.execute_input": "2025-09-27T15:55:18.501092Z",
     "iopub.status.busy": "2025-09-27T15:55:18.500091Z",
     "iopub.status.idle": "2025-09-27T15:55:18.510423Z",
     "shell.execute_reply": "2025-09-27T15:55:18.509389Z",
     "shell.execute_reply.started": "2025-09-27T15:55:18.501092Z"
    }
   },
   "outputs": [
    {
     "name": "stdout",
     "output_type": "stream",
     "text": [
      "Форма датафрейму ознак: (4226, 21)\n"
     ]
    }
   ],
   "source": [
    "drop_if_present = ['Posted On', 'Posting_Date', 'Area_Locality', 'Area Locality', \n",
    "                   'Point of Contact', 'point_of_contact', 'Unnamed: 0']\n",
    "for d in drop_if_present:\n",
    "    if d in df_model.columns:\n",
    "        df_model = df_model.drop(columns=[d])\n",
    "\n",
    "print(\"Форма датафрейму ознак:\", df_model.shape)"
   ]
  },
  {
   "cell_type": "code",
   "execution_count": 102,
   "metadata": {
    "execution": {
     "iopub.execute_input": "2025-09-27T15:56:06.350267Z",
     "iopub.status.busy": "2025-09-27T15:56:06.349258Z",
     "iopub.status.idle": "2025-09-27T15:56:06.360118Z",
     "shell.execute_reply": "2025-09-27T15:56:06.359100Z",
     "shell.execute_reply.started": "2025-09-27T15:56:06.350267Z"
    }
   },
   "outputs": [
    {
     "name": "stdout",
     "output_type": "stream",
     "text": [
      "Форма датафрейму ознак: (4226, 21)\n",
      "Типи колонок після підготовки:\n",
      "bool       13\n",
      "int64       5\n",
      "float64     3\n",
      "Name: count, dtype: int64\n",
      "Строкові колонки, які залишились: []\n"
     ]
    }
   ],
   "source": [
    "print(\"Форма датафрейму ознак:\", df_model.shape)\n",
    "\n",
    "print(\"Типи колонок після підготовки:\")\n",
    "print(df_model.dtypes.value_counts())\n",
    "\n",
    "non_numeric_cols = df_model.select_dtypes(include=['object']).columns.tolist()\n",
    "print(\"Строкові колонки, які залишились:\", non_numeric_cols)\n",
    "\n",
    "if non_numeric_cols:\n",
    "    df_model = df_model.drop(columns=non_numeric_cols)\n",
    "    print(\"Видалені строкові колонки:\", non_numeric_cols)"
   ]
  },
  {
   "cell_type": "code",
   "execution_count": 103,
   "metadata": {
    "execution": {
     "iopub.execute_input": "2025-09-27T15:57:16.870268Z",
     "iopub.status.busy": "2025-09-27T15:57:16.869269Z",
     "iopub.status.idle": "2025-09-27T15:57:16.881456Z",
     "shell.execute_reply": "2025-09-27T15:57:16.880437Z",
     "shell.execute_reply.started": "2025-09-27T15:57:16.870268Z"
    }
   },
   "outputs": [
    {
     "name": "stdout",
     "output_type": "stream",
     "text": [
      "Перевірка на строкові ознаки:\n",
      "Після видалення строкових колонок: (4226, 21)\n",
      "Типи даних тепер:\n",
      "bool       13\n",
      "int64       5\n",
      "float64     3\n",
      "Name: count, dtype: int64\n"
     ]
    }
   ],
   "source": [
    "print(\"Перевірка на строкові ознаки:\")\n",
    "for col in df_model.columns:\n",
    "    if df_model[col].dtype == 'object':\n",
    "        print(f\" - {col} містить строки. Приклади: {df_model[col].unique()[:5]}\")\n",
    "\n",
    "df_model = df_model.drop(columns=df_model.select_dtypes(include=['object']).columns)\n",
    "\n",
    "print(\"Після видалення строкових колонок:\", df_model.shape)\n",
    "print(\"Типи даних тепер:\")\n",
    "print(df_model.dtypes.value_counts())"
   ]
  },
  {
   "cell_type": "code",
   "execution_count": 104,
   "metadata": {
    "execution": {
     "iopub.execute_input": "2025-09-27T15:57:32.570590Z",
     "iopub.status.busy": "2025-09-27T15:57:32.569604Z",
     "iopub.status.idle": "2025-09-27T15:57:32.579584Z",
     "shell.execute_reply": "2025-09-27T15:57:32.578565Z",
     "shell.execute_reply.started": "2025-09-27T15:57:32.570590Z"
    }
   },
   "outputs": [
    {
     "name": "stdout",
     "output_type": "stream",
     "text": [
      "Розмір X: (4226, 20) Розмір y: (4226,)\n"
     ]
    }
   ],
   "source": [
    "y = df_model['Rent'].copy()\n",
    "X = df_model.drop(columns=['Rent'])\n",
    "\n",
    "print(\"Розмір X:\", X.shape, \"Розмір y:\", y.shape)"
   ]
  },
  {
   "cell_type": "code",
   "execution_count": 105,
   "metadata": {
    "execution": {
     "iopub.execute_input": "2025-09-27T15:57:43.472861Z",
     "iopub.status.busy": "2025-09-27T15:57:43.471862Z",
     "iopub.status.idle": "2025-09-27T15:57:43.483199Z",
     "shell.execute_reply": "2025-09-27T15:57:43.482174Z",
     "shell.execute_reply.started": "2025-09-27T15:57:43.472861Z"
    }
   },
   "outputs": [
    {
     "name": "stdout",
     "output_type": "stream",
     "text": [
      "Після видалення NaN: (4194, 20) (4194,)\n"
     ]
    }
   ],
   "source": [
    "X = X.dropna()\n",
    "y = y.loc[X.index]\n",
    "\n",
    "print(\"Після видалення NaN:\", X.shape, y.shape)"
   ]
  },
  {
   "cell_type": "code",
   "execution_count": 106,
   "metadata": {
    "execution": {
     "iopub.execute_input": "2025-09-27T15:57:53.971223Z",
     "iopub.status.busy": "2025-09-27T15:57:53.971223Z",
     "iopub.status.idle": "2025-09-27T15:57:53.989096Z",
     "shell.execute_reply": "2025-09-27T15:57:53.988081Z",
     "shell.execute_reply.started": "2025-09-27T15:57:53.971223Z"
    }
   },
   "outputs": [
    {
     "name": "stdout",
     "output_type": "stream",
     "text": [
      "Числові ознаки для стандартизації: ['BHK', 'Size', 'Bathroom', 'floor_num', 'floor_total', 'rent_per_sqft', 'rooms_total']\n"
     ]
    }
   ],
   "source": [
    "numeric_features = X.select_dtypes(include=[np.number]).columns.tolist()\n",
    "print(\"Числові ознаки для стандартизації:\", numeric_features)\n",
    "\n",
    "scaler = StandardScaler()\n",
    "X_scaled = X.copy()\n",
    "X_scaled[numeric_features] = scaler.fit_transform(X[numeric_features])"
   ]
  },
  {
   "cell_type": "markdown",
   "metadata": {
    "id": "dd7ef1d3"
   },
   "source": [
    "## Завдання 5: Розділення даних та навчання моделі (3 бали)\n",
    "\n",
    "**Що потрібно зробити:**\n",
    "1. Розділіть дані на навчальну (80%) та тестову (20%) вибірки.\n",
    "2. Створіть модель лінійної регресії.\n",
    "3. Навчіть модель на навчальних даних.\n",
    "4. Виведіть усі коефіцієнти моделі (ваги) та напишіть, які 2 ознаки найбільше впливають на прогноз.\n",
    "5. Зробіть прогнози на тренувальній та тестовій вибірках."
   ]
  },
  {
   "cell_type": "code",
   "execution_count": 107,
   "metadata": {
    "execution": {
     "iopub.execute_input": "2025-09-27T15:58:02.387490Z",
     "iopub.status.busy": "2025-09-27T15:58:02.386490Z",
     "iopub.status.idle": "2025-09-27T15:58:02.397951Z",
     "shell.execute_reply": "2025-09-27T15:58:02.396939Z",
     "shell.execute_reply.started": "2025-09-27T15:58:02.387490Z"
    },
    "id": "SuQ2b116OYjR"
   },
   "outputs": [
    {
     "name": "stdout",
     "output_type": "stream",
     "text": [
      "Розміри: X_train: (3355, 20) X_test: (839, 20)\n"
     ]
    }
   ],
   "source": [
    "X_train, X_test, y_train, y_test = train_test_split(X_scaled, y, test_size=0.2, random_state=42)\n",
    "\n",
    "print(\"Розміри: X_train:\", X_train.shape, \"X_test:\", X_test.shape)"
   ]
  },
  {
   "cell_type": "code",
   "execution_count": 62,
   "metadata": {
    "execution": {
     "iopub.execute_input": "2025-09-27T11:31:51.348058Z",
     "iopub.status.busy": "2025-09-27T11:31:51.347054Z",
     "iopub.status.idle": "2025-09-27T11:31:51.739934Z",
     "shell.execute_reply": "2025-09-27T11:31:51.738932Z",
     "shell.execute_reply.started": "2025-09-27T11:31:51.348058Z"
    }
   },
   "outputs": [
    {
     "data": {
      "text/html": [
       "<style>#sk-container-id-1 {\n",
       "  /* Definition of color scheme common for light and dark mode */\n",
       "  --sklearn-color-text: black;\n",
       "  --sklearn-color-line: gray;\n",
       "  /* Definition of color scheme for unfitted estimators */\n",
       "  --sklearn-color-unfitted-level-0: #fff5e6;\n",
       "  --sklearn-color-unfitted-level-1: #f6e4d2;\n",
       "  --sklearn-color-unfitted-level-2: #ffe0b3;\n",
       "  --sklearn-color-unfitted-level-3: chocolate;\n",
       "  /* Definition of color scheme for fitted estimators */\n",
       "  --sklearn-color-fitted-level-0: #f0f8ff;\n",
       "  --sklearn-color-fitted-level-1: #d4ebff;\n",
       "  --sklearn-color-fitted-level-2: #b3dbfd;\n",
       "  --sklearn-color-fitted-level-3: cornflowerblue;\n",
       "\n",
       "  /* Specific color for light theme */\n",
       "  --sklearn-color-text-on-default-background: var(--sg-text-color, var(--theme-code-foreground, var(--jp-content-font-color1, black)));\n",
       "  --sklearn-color-background: var(--sg-background-color, var(--theme-background, var(--jp-layout-color0, white)));\n",
       "  --sklearn-color-border-box: var(--sg-text-color, var(--theme-code-foreground, var(--jp-content-font-color1, black)));\n",
       "  --sklearn-color-icon: #696969;\n",
       "\n",
       "  @media (prefers-color-scheme: dark) {\n",
       "    /* Redefinition of color scheme for dark theme */\n",
       "    --sklearn-color-text-on-default-background: var(--sg-text-color, var(--theme-code-foreground, var(--jp-content-font-color1, white)));\n",
       "    --sklearn-color-background: var(--sg-background-color, var(--theme-background, var(--jp-layout-color0, #111)));\n",
       "    --sklearn-color-border-box: var(--sg-text-color, var(--theme-code-foreground, var(--jp-content-font-color1, white)));\n",
       "    --sklearn-color-icon: #878787;\n",
       "  }\n",
       "}\n",
       "\n",
       "#sk-container-id-1 {\n",
       "  color: var(--sklearn-color-text);\n",
       "}\n",
       "\n",
       "#sk-container-id-1 pre {\n",
       "  padding: 0;\n",
       "}\n",
       "\n",
       "#sk-container-id-1 input.sk-hidden--visually {\n",
       "  border: 0;\n",
       "  clip: rect(1px 1px 1px 1px);\n",
       "  clip: rect(1px, 1px, 1px, 1px);\n",
       "  height: 1px;\n",
       "  margin: -1px;\n",
       "  overflow: hidden;\n",
       "  padding: 0;\n",
       "  position: absolute;\n",
       "  width: 1px;\n",
       "}\n",
       "\n",
       "#sk-container-id-1 div.sk-dashed-wrapped {\n",
       "  border: 1px dashed var(--sklearn-color-line);\n",
       "  margin: 0 0.4em 0.5em 0.4em;\n",
       "  box-sizing: border-box;\n",
       "  padding-bottom: 0.4em;\n",
       "  background-color: var(--sklearn-color-background);\n",
       "}\n",
       "\n",
       "#sk-container-id-1 div.sk-container {\n",
       "  /* jupyter's `normalize.less` sets `[hidden] { display: none; }`\n",
       "     but bootstrap.min.css set `[hidden] { display: none !important; }`\n",
       "     so we also need the `!important` here to be able to override the\n",
       "     default hidden behavior on the sphinx rendered scikit-learn.org.\n",
       "     See: https://github.com/scikit-learn/scikit-learn/issues/21755 */\n",
       "  display: inline-block !important;\n",
       "  position: relative;\n",
       "}\n",
       "\n",
       "#sk-container-id-1 div.sk-text-repr-fallback {\n",
       "  display: none;\n",
       "}\n",
       "\n",
       "div.sk-parallel-item,\n",
       "div.sk-serial,\n",
       "div.sk-item {\n",
       "  /* draw centered vertical line to link estimators */\n",
       "  background-image: linear-gradient(var(--sklearn-color-text-on-default-background), var(--sklearn-color-text-on-default-background));\n",
       "  background-size: 2px 100%;\n",
       "  background-repeat: no-repeat;\n",
       "  background-position: center center;\n",
       "}\n",
       "\n",
       "/* Parallel-specific style estimator block */\n",
       "\n",
       "#sk-container-id-1 div.sk-parallel-item::after {\n",
       "  content: \"\";\n",
       "  width: 100%;\n",
       "  border-bottom: 2px solid var(--sklearn-color-text-on-default-background);\n",
       "  flex-grow: 1;\n",
       "}\n",
       "\n",
       "#sk-container-id-1 div.sk-parallel {\n",
       "  display: flex;\n",
       "  align-items: stretch;\n",
       "  justify-content: center;\n",
       "  background-color: var(--sklearn-color-background);\n",
       "  position: relative;\n",
       "}\n",
       "\n",
       "#sk-container-id-1 div.sk-parallel-item {\n",
       "  display: flex;\n",
       "  flex-direction: column;\n",
       "}\n",
       "\n",
       "#sk-container-id-1 div.sk-parallel-item:first-child::after {\n",
       "  align-self: flex-end;\n",
       "  width: 50%;\n",
       "}\n",
       "\n",
       "#sk-container-id-1 div.sk-parallel-item:last-child::after {\n",
       "  align-self: flex-start;\n",
       "  width: 50%;\n",
       "}\n",
       "\n",
       "#sk-container-id-1 div.sk-parallel-item:only-child::after {\n",
       "  width: 0;\n",
       "}\n",
       "\n",
       "/* Serial-specific style estimator block */\n",
       "\n",
       "#sk-container-id-1 div.sk-serial {\n",
       "  display: flex;\n",
       "  flex-direction: column;\n",
       "  align-items: center;\n",
       "  background-color: var(--sklearn-color-background);\n",
       "  padding-right: 1em;\n",
       "  padding-left: 1em;\n",
       "}\n",
       "\n",
       "\n",
       "/* Toggleable style: style used for estimator/Pipeline/ColumnTransformer box that is\n",
       "clickable and can be expanded/collapsed.\n",
       "- Pipeline and ColumnTransformer use this feature and define the default style\n",
       "- Estimators will overwrite some part of the style using the `sk-estimator` class\n",
       "*/\n",
       "\n",
       "/* Pipeline and ColumnTransformer style (default) */\n",
       "\n",
       "#sk-container-id-1 div.sk-toggleable {\n",
       "  /* Default theme specific background. It is overwritten whether we have a\n",
       "  specific estimator or a Pipeline/ColumnTransformer */\n",
       "  background-color: var(--sklearn-color-background);\n",
       "}\n",
       "\n",
       "/* Toggleable label */\n",
       "#sk-container-id-1 label.sk-toggleable__label {\n",
       "  cursor: pointer;\n",
       "  display: block;\n",
       "  width: 100%;\n",
       "  margin-bottom: 0;\n",
       "  padding: 0.5em;\n",
       "  box-sizing: border-box;\n",
       "  text-align: center;\n",
       "}\n",
       "\n",
       "#sk-container-id-1 label.sk-toggleable__label-arrow:before {\n",
       "  /* Arrow on the left of the label */\n",
       "  content: \"▸\";\n",
       "  float: left;\n",
       "  margin-right: 0.25em;\n",
       "  color: var(--sklearn-color-icon);\n",
       "}\n",
       "\n",
       "#sk-container-id-1 label.sk-toggleable__label-arrow:hover:before {\n",
       "  color: var(--sklearn-color-text);\n",
       "}\n",
       "\n",
       "/* Toggleable content - dropdown */\n",
       "\n",
       "#sk-container-id-1 div.sk-toggleable__content {\n",
       "  max-height: 0;\n",
       "  max-width: 0;\n",
       "  overflow: hidden;\n",
       "  text-align: left;\n",
       "  /* unfitted */\n",
       "  background-color: var(--sklearn-color-unfitted-level-0);\n",
       "}\n",
       "\n",
       "#sk-container-id-1 div.sk-toggleable__content.fitted {\n",
       "  /* fitted */\n",
       "  background-color: var(--sklearn-color-fitted-level-0);\n",
       "}\n",
       "\n",
       "#sk-container-id-1 div.sk-toggleable__content pre {\n",
       "  margin: 0.2em;\n",
       "  border-radius: 0.25em;\n",
       "  color: var(--sklearn-color-text);\n",
       "  /* unfitted */\n",
       "  background-color: var(--sklearn-color-unfitted-level-0);\n",
       "}\n",
       "\n",
       "#sk-container-id-1 div.sk-toggleable__content.fitted pre {\n",
       "  /* unfitted */\n",
       "  background-color: var(--sklearn-color-fitted-level-0);\n",
       "}\n",
       "\n",
       "#sk-container-id-1 input.sk-toggleable__control:checked~div.sk-toggleable__content {\n",
       "  /* Expand drop-down */\n",
       "  max-height: 200px;\n",
       "  max-width: 100%;\n",
       "  overflow: auto;\n",
       "}\n",
       "\n",
       "#sk-container-id-1 input.sk-toggleable__control:checked~label.sk-toggleable__label-arrow:before {\n",
       "  content: \"▾\";\n",
       "}\n",
       "\n",
       "/* Pipeline/ColumnTransformer-specific style */\n",
       "\n",
       "#sk-container-id-1 div.sk-label input.sk-toggleable__control:checked~label.sk-toggleable__label {\n",
       "  color: var(--sklearn-color-text);\n",
       "  background-color: var(--sklearn-color-unfitted-level-2);\n",
       "}\n",
       "\n",
       "#sk-container-id-1 div.sk-label.fitted input.sk-toggleable__control:checked~label.sk-toggleable__label {\n",
       "  background-color: var(--sklearn-color-fitted-level-2);\n",
       "}\n",
       "\n",
       "/* Estimator-specific style */\n",
       "\n",
       "/* Colorize estimator box */\n",
       "#sk-container-id-1 div.sk-estimator input.sk-toggleable__control:checked~label.sk-toggleable__label {\n",
       "  /* unfitted */\n",
       "  background-color: var(--sklearn-color-unfitted-level-2);\n",
       "}\n",
       "\n",
       "#sk-container-id-1 div.sk-estimator.fitted input.sk-toggleable__control:checked~label.sk-toggleable__label {\n",
       "  /* fitted */\n",
       "  background-color: var(--sklearn-color-fitted-level-2);\n",
       "}\n",
       "\n",
       "#sk-container-id-1 div.sk-label label.sk-toggleable__label,\n",
       "#sk-container-id-1 div.sk-label label {\n",
       "  /* The background is the default theme color */\n",
       "  color: var(--sklearn-color-text-on-default-background);\n",
       "}\n",
       "\n",
       "/* On hover, darken the color of the background */\n",
       "#sk-container-id-1 div.sk-label:hover label.sk-toggleable__label {\n",
       "  color: var(--sklearn-color-text);\n",
       "  background-color: var(--sklearn-color-unfitted-level-2);\n",
       "}\n",
       "\n",
       "/* Label box, darken color on hover, fitted */\n",
       "#sk-container-id-1 div.sk-label.fitted:hover label.sk-toggleable__label.fitted {\n",
       "  color: var(--sklearn-color-text);\n",
       "  background-color: var(--sklearn-color-fitted-level-2);\n",
       "}\n",
       "\n",
       "/* Estimator label */\n",
       "\n",
       "#sk-container-id-1 div.sk-label label {\n",
       "  font-family: monospace;\n",
       "  font-weight: bold;\n",
       "  display: inline-block;\n",
       "  line-height: 1.2em;\n",
       "}\n",
       "\n",
       "#sk-container-id-1 div.sk-label-container {\n",
       "  text-align: center;\n",
       "}\n",
       "\n",
       "/* Estimator-specific */\n",
       "#sk-container-id-1 div.sk-estimator {\n",
       "  font-family: monospace;\n",
       "  border: 1px dotted var(--sklearn-color-border-box);\n",
       "  border-radius: 0.25em;\n",
       "  box-sizing: border-box;\n",
       "  margin-bottom: 0.5em;\n",
       "  /* unfitted */\n",
       "  background-color: var(--sklearn-color-unfitted-level-0);\n",
       "}\n",
       "\n",
       "#sk-container-id-1 div.sk-estimator.fitted {\n",
       "  /* fitted */\n",
       "  background-color: var(--sklearn-color-fitted-level-0);\n",
       "}\n",
       "\n",
       "/* on hover */\n",
       "#sk-container-id-1 div.sk-estimator:hover {\n",
       "  /* unfitted */\n",
       "  background-color: var(--sklearn-color-unfitted-level-2);\n",
       "}\n",
       "\n",
       "#sk-container-id-1 div.sk-estimator.fitted:hover {\n",
       "  /* fitted */\n",
       "  background-color: var(--sklearn-color-fitted-level-2);\n",
       "}\n",
       "\n",
       "/* Specification for estimator info (e.g. \"i\" and \"?\") */\n",
       "\n",
       "/* Common style for \"i\" and \"?\" */\n",
       "\n",
       ".sk-estimator-doc-link,\n",
       "a:link.sk-estimator-doc-link,\n",
       "a:visited.sk-estimator-doc-link {\n",
       "  float: right;\n",
       "  font-size: smaller;\n",
       "  line-height: 1em;\n",
       "  font-family: monospace;\n",
       "  background-color: var(--sklearn-color-background);\n",
       "  border-radius: 1em;\n",
       "  height: 1em;\n",
       "  width: 1em;\n",
       "  text-decoration: none !important;\n",
       "  margin-left: 1ex;\n",
       "  /* unfitted */\n",
       "  border: var(--sklearn-color-unfitted-level-1) 1pt solid;\n",
       "  color: var(--sklearn-color-unfitted-level-1);\n",
       "}\n",
       "\n",
       ".sk-estimator-doc-link.fitted,\n",
       "a:link.sk-estimator-doc-link.fitted,\n",
       "a:visited.sk-estimator-doc-link.fitted {\n",
       "  /* fitted */\n",
       "  border: var(--sklearn-color-fitted-level-1) 1pt solid;\n",
       "  color: var(--sklearn-color-fitted-level-1);\n",
       "}\n",
       "\n",
       "/* On hover */\n",
       "div.sk-estimator:hover .sk-estimator-doc-link:hover,\n",
       ".sk-estimator-doc-link:hover,\n",
       "div.sk-label-container:hover .sk-estimator-doc-link:hover,\n",
       ".sk-estimator-doc-link:hover {\n",
       "  /* unfitted */\n",
       "  background-color: var(--sklearn-color-unfitted-level-3);\n",
       "  color: var(--sklearn-color-background);\n",
       "  text-decoration: none;\n",
       "}\n",
       "\n",
       "div.sk-estimator.fitted:hover .sk-estimator-doc-link.fitted:hover,\n",
       ".sk-estimator-doc-link.fitted:hover,\n",
       "div.sk-label-container:hover .sk-estimator-doc-link.fitted:hover,\n",
       ".sk-estimator-doc-link.fitted:hover {\n",
       "  /* fitted */\n",
       "  background-color: var(--sklearn-color-fitted-level-3);\n",
       "  color: var(--sklearn-color-background);\n",
       "  text-decoration: none;\n",
       "}\n",
       "\n",
       "/* Span, style for the box shown on hovering the info icon */\n",
       ".sk-estimator-doc-link span {\n",
       "  display: none;\n",
       "  z-index: 9999;\n",
       "  position: relative;\n",
       "  font-weight: normal;\n",
       "  right: .2ex;\n",
       "  padding: .5ex;\n",
       "  margin: .5ex;\n",
       "  width: min-content;\n",
       "  min-width: 20ex;\n",
       "  max-width: 50ex;\n",
       "  color: var(--sklearn-color-text);\n",
       "  box-shadow: 2pt 2pt 4pt #999;\n",
       "  /* unfitted */\n",
       "  background: var(--sklearn-color-unfitted-level-0);\n",
       "  border: .5pt solid var(--sklearn-color-unfitted-level-3);\n",
       "}\n",
       "\n",
       ".sk-estimator-doc-link.fitted span {\n",
       "  /* fitted */\n",
       "  background: var(--sklearn-color-fitted-level-0);\n",
       "  border: var(--sklearn-color-fitted-level-3);\n",
       "}\n",
       "\n",
       ".sk-estimator-doc-link:hover span {\n",
       "  display: block;\n",
       "}\n",
       "\n",
       "/* \"?\"-specific style due to the `<a>` HTML tag */\n",
       "\n",
       "#sk-container-id-1 a.estimator_doc_link {\n",
       "  float: right;\n",
       "  font-size: 1rem;\n",
       "  line-height: 1em;\n",
       "  font-family: monospace;\n",
       "  background-color: var(--sklearn-color-background);\n",
       "  border-radius: 1rem;\n",
       "  height: 1rem;\n",
       "  width: 1rem;\n",
       "  text-decoration: none;\n",
       "  /* unfitted */\n",
       "  color: var(--sklearn-color-unfitted-level-1);\n",
       "  border: var(--sklearn-color-unfitted-level-1) 1pt solid;\n",
       "}\n",
       "\n",
       "#sk-container-id-1 a.estimator_doc_link.fitted {\n",
       "  /* fitted */\n",
       "  border: var(--sklearn-color-fitted-level-1) 1pt solid;\n",
       "  color: var(--sklearn-color-fitted-level-1);\n",
       "}\n",
       "\n",
       "/* On hover */\n",
       "#sk-container-id-1 a.estimator_doc_link:hover {\n",
       "  /* unfitted */\n",
       "  background-color: var(--sklearn-color-unfitted-level-3);\n",
       "  color: var(--sklearn-color-background);\n",
       "  text-decoration: none;\n",
       "}\n",
       "\n",
       "#sk-container-id-1 a.estimator_doc_link.fitted:hover {\n",
       "  /* fitted */\n",
       "  background-color: var(--sklearn-color-fitted-level-3);\n",
       "}\n",
       "</style><div id=\"sk-container-id-1\" class=\"sk-top-container\"><div class=\"sk-text-repr-fallback\"><pre>LinearRegression()</pre><b>In a Jupyter environment, please rerun this cell to show the HTML representation or trust the notebook. <br />On GitHub, the HTML representation is unable to render, please try loading this page with nbviewer.org.</b></div><div class=\"sk-container\" hidden><div class=\"sk-item\"><div class=\"sk-estimator fitted sk-toggleable\"><input class=\"sk-toggleable__control sk-hidden--visually\" id=\"sk-estimator-id-1\" type=\"checkbox\" checked><label for=\"sk-estimator-id-1\" class=\"sk-toggleable__label fitted sk-toggleable__label-arrow fitted\">&nbsp;&nbsp;LinearRegression<a class=\"sk-estimator-doc-link fitted\" rel=\"noreferrer\" target=\"_blank\" href=\"https://scikit-learn.org/1.5/modules/generated/sklearn.linear_model.LinearRegression.html\">?<span>Documentation for LinearRegression</span></a><span class=\"sk-estimator-doc-link fitted\">i<span>Fitted</span></span></label><div class=\"sk-toggleable__content fitted\"><pre>LinearRegression()</pre></div> </div></div></div></div>"
      ],
      "text/plain": [
       "LinearRegression()"
      ]
     },
     "execution_count": 62,
     "metadata": {},
     "output_type": "execute_result"
    }
   ],
   "source": [
    "lr = LinearRegression()\n",
    "lr.fit(X_train, y_train)"
   ]
  },
  {
   "cell_type": "code",
   "execution_count": 108,
   "metadata": {
    "execution": {
     "iopub.execute_input": "2025-09-27T15:58:30.681610Z",
     "iopub.status.busy": "2025-09-27T15:58:30.680614Z",
     "iopub.status.idle": "2025-09-27T15:58:30.694705Z",
     "shell.execute_reply": "2025-09-27T15:58:30.693690Z",
     "shell.execute_reply.started": "2025-09-27T15:58:30.681610Z"
    }
   },
   "outputs": [
    {
     "name": "stdout",
     "output_type": "stream",
     "text": [
      "\n",
      "Топ коеффцієнтів за абсолютним значенням:\n"
     ]
    },
    {
     "data": {
      "text/plain": [
       "rooms_total                          8.565757e+14\n",
       "BHK                                 -4.691385e+14\n",
       "Bathroom                            -4.471703e+14\n",
       "City_Mumbai                          1.402509e+04\n",
       "Point of Contact_Contact Owner      -7.400952e+03\n",
       "Size                                 6.090312e+03\n",
       "rent_per_sqft                        4.430599e+03\n",
       "Furnishing Status_Unfurnished       -4.225064e+03\n",
       "Furnishing Status_Semi-Furnished    -3.363789e+03\n",
       "Point of Contact_Contact Builder    -3.314551e+03\n",
       "City_Hyderabad                      -2.685108e+03\n",
       "City_Kolkata                        -2.317333e+03\n",
       "Tenant Preferred_Family             -2.223708e+03\n",
       "floor_total                          1.594125e+03\n",
       "Area Type_Carpet Area                7.162793e+02\n",
       "Tenant Preferred_Bachelors/Family   -6.498730e+02\n",
       "City_Chennai                        -5.646904e+02\n",
       "Area Type_Super Area                 4.607031e+02\n",
       "City_Delhi                          -3.666881e+02\n",
       "floor_num                           -2.835156e+01\n",
       "dtype: float64"
      ]
     },
     "metadata": {},
     "output_type": "display_data"
    },
    {
     "name": "stdout",
     "output_type": "stream",
     "text": [
      "\n",
      "Інтерсепт (bias): 27270.784692273657\n"
     ]
    }
   ],
   "source": [
    "coef_df = pd.Series(lr.coef_, index=X_train.columns).sort_values(key=lambda x: x.abs(), ascending=False)\n",
    "print(\"\\nТоп коеффцієнтів за абсолютним значенням:\")\n",
    "display(coef_df.head(20))\n",
    "\n",
    "print(\"\\nІнтерсепт (bias):\", lr.intercept_)"
   ]
  },
  {
   "cell_type": "code",
   "execution_count": 109,
   "metadata": {
    "execution": {
     "iopub.execute_input": "2025-09-27T15:59:07.691501Z",
     "iopub.status.busy": "2025-09-27T15:59:07.690518Z",
     "iopub.status.idle": "2025-09-27T15:59:07.699698Z",
     "shell.execute_reply": "2025-09-27T15:59:07.698686Z",
     "shell.execute_reply.started": "2025-09-27T15:59:07.691501Z"
    }
   },
   "outputs": [
    {
     "name": "stdout",
     "output_type": "stream",
     "text": [
      "\n",
      "Дві найбільш впливові фічі (за |коефіцієнтом|):\n",
      "  rooms_total : coef = 856575665372619.8750\n",
      "  BHK : coef = -469138452047970.5625\n"
     ]
    }
   ],
   "source": [
    "top2 = coef_df.abs().nlargest(2)\n",
    "print(\"\\nДві найбільш впливові фічі (за |коефіцієнтом|):\")\n",
    "for feat in top2.index:\n",
    "    print(f\"  {feat} : coef = {coef_df[feat]:.4f}\")"
   ]
  },
  {
   "cell_type": "code",
   "execution_count": 65,
   "metadata": {
    "execution": {
     "iopub.execute_input": "2025-09-27T11:32:33.395220Z",
     "iopub.status.busy": "2025-09-27T11:32:33.394222Z",
     "iopub.status.idle": "2025-09-27T11:32:33.412825Z",
     "shell.execute_reply": "2025-09-27T11:32:33.410828Z",
     "shell.execute_reply.started": "2025-09-27T11:32:33.395220Z"
    }
   },
   "outputs": [],
   "source": [
    "y_train_pred = lr.predict(X_train)\n",
    "y_test_pred = lr.predict(X_test)"
   ]
  },
  {
   "cell_type": "markdown",
   "metadata": {
    "id": "ca7cd90d"
   },
   "source": [
    "## Завдання 6: Оцінка якості моделі (2 бали)\n",
    "\n",
    "**Що потрібно зробити:**\n",
    "1. Обчисліть MAE, RMSE та R² для навчальної та тестової вибірок\n",
    "2. Порівняйте метрики та зробіть висновок про якість моделі\n",
    "3. Проаналізуйте і дайте висновок, чи є ознаки перенавчання або недонавчання (**Нагадування**: перенавчання - коли модель дуже добре працює на тренувальних даних, але погано на тестових; недонавчання - коли модель погано працює навіть на тренувальних даних)\n",
    "4. Побудуйте графік розсіювання \"реальні vs прогнозовані значення\" та зробіть висновок про якість моделі\n"
   ]
  },
  {
   "cell_type": "code",
   "execution_count": 110,
   "metadata": {
    "execution": {
     "iopub.execute_input": "2025-09-27T15:59:19.598641Z",
     "iopub.status.busy": "2025-09-27T15:59:19.597641Z",
     "iopub.status.idle": "2025-09-27T15:59:19.613687Z",
     "shell.execute_reply": "2025-09-27T15:59:19.612678Z",
     "shell.execute_reply.started": "2025-09-27T15:59:19.598641Z"
    },
    "id": "476GoOrAOZS4"
   },
   "outputs": [
    {
     "name": "stdout",
     "output_type": "stream",
     "text": [
      "TRAIN MAE: 4898.9070 | RMSE: 6891.3620 | R2: 0.7514\n",
      "TEST MAE: 5097.5881 | RMSE: 8350.4405 | R2: 0.6297\n"
     ]
    },
    {
     "data": {
      "text/plain": [
       "(5097.58814875561, 8350.44045389104, 0.6296577124502737)"
      ]
     },
     "execution_count": 110,
     "metadata": {},
     "output_type": "execute_result"
    }
   ],
   "source": [
    "def print_metrics(y_true, y_pred, label=\"\"):\n",
    "    mae = mean_absolute_error(y_true, y_pred)\n",
    "    rmse = np.sqrt(mean_squared_error(y_true, y_pred))\n",
    "    r2 = r2_score(y_true, y_pred)\n",
    "    print(f\"{label} MAE: {mae:.4f} | RMSE: {rmse:.4f} | R2: {r2:.4f}\")\n",
    "    return mae, rmse, r2\n",
    "\n",
    "print_metrics(y_train, y_train_pred, \"TRAIN\")\n",
    "print_metrics(y_test, y_test_pred, \"TEST\")"
   ]
  },
  {
   "cell_type": "code",
   "execution_count": 113,
   "metadata": {
    "execution": {
     "iopub.execute_input": "2025-09-27T16:00:32.413351Z",
     "iopub.status.busy": "2025-09-27T16:00:32.412359Z",
     "iopub.status.idle": "2025-09-27T16:00:32.481938Z",
     "shell.execute_reply": "2025-09-27T16:00:32.480923Z",
     "shell.execute_reply.started": "2025-09-27T16:00:32.413351Z"
    }
   },
   "outputs": [
    {
     "data": {
      "application/vnd.plotly.v1+json": {
       "config": {
        "plotlyServerURL": "https://plot.ly"
       },
       "data": [
        {
         "hovertemplate": "Реальні Rent=%{x}<br>Прогнози Rent=%{y}<extra></extra>",
         "legendgroup": "",
         "marker": {
          "color": "#636efa",
          "symbol": "circle"
         },
         "mode": "markers",
         "name": "",
         "orientation": "v",
         "showlegend": false,
         "type": "scatter",
         "x": {
          "bdata": "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",
          "dtype": "i4"
         },
         "xaxis": "x",
         "y": {
          "bdata": "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",
          "dtype": "f8"
         },
         "yaxis": "y"
        },
        {
         "line": {
          "color": "red",
          "dash": "dash"
         },
         "mode": "lines",
         "name": "Идеал",
         "type": "scatter",
         "x": [
          0,
          149049.78469227365
         ],
         "y": [
          0,
          149049.78469227365
         ]
        }
       ],
       "layout": {
        "height": 500,
        "legend": {
         "tracegroupgap": 0
        },
        "template": {
         "data": {
          "bar": [
           {
            "error_x": {
             "color": "#2a3f5f"
            },
            "error_y": {
             "color": "#2a3f5f"
            },
            "marker": {
             "line": {
              "color": "#E5ECF6",
              "width": 0.5
             },
             "pattern": {
              "fillmode": "overlay",
              "size": 10,
              "solidity": 0.2
             }
            },
            "type": "bar"
           }
          ],
          "barpolar": [
           {
            "marker": {
             "line": {
              "color": "#E5ECF6",
              "width": 0.5
             },
             "pattern": {
              "fillmode": "overlay",
              "size": 10,
              "solidity": 0.2
             }
            },
            "type": "barpolar"
           }
          ],
          "carpet": [
           {
            "aaxis": {
             "endlinecolor": "#2a3f5f",
             "gridcolor": "white",
             "linecolor": "white",
             "minorgridcolor": "white",
             "startlinecolor": "#2a3f5f"
            },
            "baxis": {
             "endlinecolor": "#2a3f5f",
             "gridcolor": "white",
             "linecolor": "white",
             "minorgridcolor": "white",
             "startlinecolor": "#2a3f5f"
            },
            "type": "carpet"
           }
          ],
          "choropleth": [
           {
            "colorbar": {
             "outlinewidth": 0,
             "ticks": ""
            },
            "type": "choropleth"
           }
          ],
          "contour": [
           {
            "colorbar": {
             "outlinewidth": 0,
             "ticks": ""
            },
            "colorscale": [
             [
              0,
              "#0d0887"
             ],
             [
              0.1111111111111111,
              "#46039f"
             ],
             [
              0.2222222222222222,
              "#7201a8"
             ],
             [
              0.3333333333333333,
              "#9c179e"
             ],
             [
              0.4444444444444444,
              "#bd3786"
             ],
             [
              0.5555555555555556,
              "#d8576b"
             ],
             [
              0.6666666666666666,
              "#ed7953"
             ],
             [
              0.7777777777777778,
              "#fb9f3a"
             ],
             [
              0.8888888888888888,
              "#fdca26"
             ],
             [
              1,
              "#f0f921"
             ]
            ],
            "type": "contour"
           }
          ],
          "contourcarpet": [
           {
            "colorbar": {
             "outlinewidth": 0,
             "ticks": ""
            },
            "type": "contourcarpet"
           }
          ],
          "heatmap": [
           {
            "colorbar": {
             "outlinewidth": 0,
             "ticks": ""
            },
            "colorscale": [
             [
              0,
              "#0d0887"
             ],
             [
              0.1111111111111111,
              "#46039f"
             ],
             [
              0.2222222222222222,
              "#7201a8"
             ],
             [
              0.3333333333333333,
              "#9c179e"
             ],
             [
              0.4444444444444444,
              "#bd3786"
             ],
             [
              0.5555555555555556,
              "#d8576b"
             ],
             [
              0.6666666666666666,
              "#ed7953"
             ],
             [
              0.7777777777777778,
              "#fb9f3a"
             ],
             [
              0.8888888888888888,
              "#fdca26"
             ],
             [
              1,
              "#f0f921"
             ]
            ],
            "type": "heatmap"
           }
          ],
          "histogram": [
           {
            "marker": {
             "pattern": {
              "fillmode": "overlay",
              "size": 10,
              "solidity": 0.2
             }
            },
            "type": "histogram"
           }
          ],
          "histogram2d": [
           {
            "colorbar": {
             "outlinewidth": 0,
             "ticks": ""
            },
            "colorscale": [
             [
              0,
              "#0d0887"
             ],
             [
              0.1111111111111111,
              "#46039f"
             ],
             [
              0.2222222222222222,
              "#7201a8"
             ],
             [
              0.3333333333333333,
              "#9c179e"
             ],
             [
              0.4444444444444444,
              "#bd3786"
             ],
             [
              0.5555555555555556,
              "#d8576b"
             ],
             [
              0.6666666666666666,
              "#ed7953"
             ],
             [
              0.7777777777777778,
              "#fb9f3a"
             ],
             [
              0.8888888888888888,
              "#fdca26"
             ],
             [
              1,
              "#f0f921"
             ]
            ],
            "type": "histogram2d"
           }
          ],
          "histogram2dcontour": [
           {
            "colorbar": {
             "outlinewidth": 0,
             "ticks": ""
            },
            "colorscale": [
             [
              0,
              "#0d0887"
             ],
             [
              0.1111111111111111,
              "#46039f"
             ],
             [
              0.2222222222222222,
              "#7201a8"
             ],
             [
              0.3333333333333333,
              "#9c179e"
             ],
             [
              0.4444444444444444,
              "#bd3786"
             ],
             [
              0.5555555555555556,
              "#d8576b"
             ],
             [
              0.6666666666666666,
              "#ed7953"
             ],
             [
              0.7777777777777778,
              "#fb9f3a"
             ],
             [
              0.8888888888888888,
              "#fdca26"
             ],
             [
              1,
              "#f0f921"
             ]
            ],
            "type": "histogram2dcontour"
           }
          ],
          "mesh3d": [
           {
            "colorbar": {
             "outlinewidth": 0,
             "ticks": ""
            },
            "type": "mesh3d"
           }
          ],
          "parcoords": [
           {
            "line": {
             "colorbar": {
              "outlinewidth": 0,
              "ticks": ""
             }
            },
            "type": "parcoords"
           }
          ],
          "pie": [
           {
            "automargin": true,
            "type": "pie"
           }
          ],
          "scatter": [
           {
            "fillpattern": {
             "fillmode": "overlay",
             "size": 10,
             "solidity": 0.2
            },
            "type": "scatter"
           }
          ],
          "scatter3d": [
           {
            "line": {
             "colorbar": {
              "outlinewidth": 0,
              "ticks": ""
             }
            },
            "marker": {
             "colorbar": {
              "outlinewidth": 0,
              "ticks": ""
             }
            },
            "type": "scatter3d"
           }
          ],
          "scattercarpet": [
           {
            "marker": {
             "colorbar": {
              "outlinewidth": 0,
              "ticks": ""
             }
            },
            "type": "scattercarpet"
           }
          ],
          "scattergeo": [
           {
            "marker": {
             "colorbar": {
              "outlinewidth": 0,
              "ticks": ""
             }
            },
            "type": "scattergeo"
           }
          ],
          "scattergl": [
           {
            "marker": {
             "colorbar": {
              "outlinewidth": 0,
              "ticks": ""
             }
            },
            "type": "scattergl"
           }
          ],
          "scattermap": [
           {
            "marker": {
             "colorbar": {
              "outlinewidth": 0,
              "ticks": ""
             }
            },
            "type": "scattermap"
           }
          ],
          "scattermapbox": [
           {
            "marker": {
             "colorbar": {
              "outlinewidth": 0,
              "ticks": ""
             }
            },
            "type": "scattermapbox"
           }
          ],
          "scatterpolar": [
           {
            "marker": {
             "colorbar": {
              "outlinewidth": 0,
              "ticks": ""
             }
            },
            "type": "scatterpolar"
           }
          ],
          "scatterpolargl": [
           {
            "marker": {
             "colorbar": {
              "outlinewidth": 0,
              "ticks": ""
             }
            },
            "type": "scatterpolargl"
           }
          ],
          "scatterternary": [
           {
            "marker": {
             "colorbar": {
              "outlinewidth": 0,
              "ticks": ""
             }
            },
            "type": "scatterternary"
           }
          ],
          "surface": [
           {
            "colorbar": {
             "outlinewidth": 0,
             "ticks": ""
            },
            "colorscale": [
             [
              0,
              "#0d0887"
             ],
             [
              0.1111111111111111,
              "#46039f"
             ],
             [
              0.2222222222222222,
              "#7201a8"
             ],
             [
              0.3333333333333333,
              "#9c179e"
             ],
             [
              0.4444444444444444,
              "#bd3786"
             ],
             [
              0.5555555555555556,
              "#d8576b"
             ],
             [
              0.6666666666666666,
              "#ed7953"
             ],
             [
              0.7777777777777778,
              "#fb9f3a"
             ],
             [
              0.8888888888888888,
              "#fdca26"
             ],
             [
              1,
              "#f0f921"
             ]
            ],
            "type": "surface"
           }
          ],
          "table": [
           {
            "cells": {
             "fill": {
              "color": "#EBF0F8"
             },
             "line": {
              "color": "white"
             }
            },
            "header": {
             "fill": {
              "color": "#C8D4E3"
             },
             "line": {
              "color": "white"
             }
            },
            "type": "table"
           }
          ]
         },
         "layout": {
          "annotationdefaults": {
           "arrowcolor": "#2a3f5f",
           "arrowhead": 0,
           "arrowwidth": 1
          },
          "autotypenumbers": "strict",
          "coloraxis": {
           "colorbar": {
            "outlinewidth": 0,
            "ticks": ""
           }
          },
          "colorscale": {
           "diverging": [
            [
             0,
             "#8e0152"
            ],
            [
             0.1,
             "#c51b7d"
            ],
            [
             0.2,
             "#de77ae"
            ],
            [
             0.3,
             "#f1b6da"
            ],
            [
             0.4,
             "#fde0ef"
            ],
            [
             0.5,
             "#f7f7f7"
            ],
            [
             0.6,
             "#e6f5d0"
            ],
            [
             0.7,
             "#b8e186"
            ],
            [
             0.8,
             "#7fbc41"
            ],
            [
             0.9,
             "#4d9221"
            ],
            [
             1,
             "#276419"
            ]
           ],
           "sequential": [
            [
             0,
             "#0d0887"
            ],
            [
             0.1111111111111111,
             "#46039f"
            ],
            [
             0.2222222222222222,
             "#7201a8"
            ],
            [
             0.3333333333333333,
             "#9c179e"
            ],
            [
             0.4444444444444444,
             "#bd3786"
            ],
            [
             0.5555555555555556,
             "#d8576b"
            ],
            [
             0.6666666666666666,
             "#ed7953"
            ],
            [
             0.7777777777777778,
             "#fb9f3a"
            ],
            [
             0.8888888888888888,
             "#fdca26"
            ],
            [
             1,
             "#f0f921"
            ]
           ],
           "sequentialminus": [
            [
             0,
             "#0d0887"
            ],
            [
             0.1111111111111111,
             "#46039f"
            ],
            [
             0.2222222222222222,
             "#7201a8"
            ],
            [
             0.3333333333333333,
             "#9c179e"
            ],
            [
             0.4444444444444444,
             "#bd3786"
            ],
            [
             0.5555555555555556,
             "#d8576b"
            ],
            [
             0.6666666666666666,
             "#ed7953"
            ],
            [
             0.7777777777777778,
             "#fb9f3a"
            ],
            [
             0.8888888888888888,
             "#fdca26"
            ],
            [
             1,
             "#f0f921"
            ]
           ]
          },
          "colorway": [
           "#636efa",
           "#EF553B",
           "#00cc96",
           "#ab63fa",
           "#FFA15A",
           "#19d3f3",
           "#FF6692",
           "#B6E880",
           "#FF97FF",
           "#FECB52"
          ],
          "font": {
           "color": "#2a3f5f"
          },
          "geo": {
           "bgcolor": "white",
           "lakecolor": "white",
           "landcolor": "#E5ECF6",
           "showlakes": true,
           "showland": true,
           "subunitcolor": "white"
          },
          "hoverlabel": {
           "align": "left"
          },
          "hovermode": "closest",
          "mapbox": {
           "style": "light"
          },
          "paper_bgcolor": "white",
          "plot_bgcolor": "#E5ECF6",
          "polar": {
           "angularaxis": {
            "gridcolor": "white",
            "linecolor": "white",
            "ticks": ""
           },
           "bgcolor": "#E5ECF6",
           "radialaxis": {
            "gridcolor": "white",
            "linecolor": "white",
            "ticks": ""
           }
          },
          "scene": {
           "xaxis": {
            "backgroundcolor": "#E5ECF6",
            "gridcolor": "white",
            "gridwidth": 2,
            "linecolor": "white",
            "showbackground": true,
            "ticks": "",
            "zerolinecolor": "white"
           },
           "yaxis": {
            "backgroundcolor": "#E5ECF6",
            "gridcolor": "white",
            "gridwidth": 2,
            "linecolor": "white",
            "showbackground": true,
            "ticks": "",
            "zerolinecolor": "white"
           },
           "zaxis": {
            "backgroundcolor": "#E5ECF6",
            "gridcolor": "white",
            "gridwidth": 2,
            "linecolor": "white",
            "showbackground": true,
            "ticks": "",
            "zerolinecolor": "white"
           }
          },
          "shapedefaults": {
           "line": {
            "color": "#2a3f5f"
           }
          },
          "ternary": {
           "aaxis": {
            "gridcolor": "white",
            "linecolor": "white",
            "ticks": ""
           },
           "baxis": {
            "gridcolor": "white",
            "linecolor": "white",
            "ticks": ""
           },
           "bgcolor": "#E5ECF6",
           "caxis": {
            "gridcolor": "white",
            "linecolor": "white",
            "ticks": ""
           }
          },
          "title": {
           "x": 0.05
          },
          "xaxis": {
           "automargin": true,
           "gridcolor": "white",
           "linecolor": "white",
           "ticks": "",
           "title": {
            "standoff": 15
           },
           "zerolinecolor": "white",
           "zerolinewidth": 2
          },
          "yaxis": {
           "automargin": true,
           "gridcolor": "white",
           "linecolor": "white",
           "ticks": "",
           "title": {
            "standoff": 15
           },
           "zerolinecolor": "white",
           "zerolinewidth": 2
          }
         }
        },
        "title": {
         "text": "Реальні vs Прогнозуємі значення (Test)"
        },
        "xaxis": {
         "anchor": "y",
         "domain": [
          0,
          1
         ],
         "title": {
          "text": "Реальні Rent"
         }
        },
        "yaxis": {
         "anchor": "x",
         "domain": [
          0,
          1
         ],
         "title": {
          "text": "Прогнози Rent"
         }
        }
       }
      },
      "image/png": "[encoded data removed]"
     },
     "metadata": {},
     "output_type": "display_data"
    }
   ],
   "source": [
    "fig = px.scatter(x=y_test, y=y_test_pred, labels={'x':'Реальні Rent', 'y':'Прогнози Rent'},\n",
    "                 title='Реальні vs Прогнозуємі значення (Test)')\n",
    "max_val = max(y_test.max(), max(y_test_pred))\n",
    "fig.add_trace(go.Scatter(x=[0, max_val], y=[0, max_val], mode='lines', line=dict(color='red', dash='dash'), name='Идеал'))\n",
    "fig.update_layout(height=500)\n",
    "fig.show()"
   ]
  },
  {
   "cell_type": "code",
   "execution_count": 120,
   "metadata": {
    "execution": {
     "iopub.execute_input": "2025-09-27T16:16:24.089409Z",
     "iopub.status.busy": "2025-09-27T16:16:24.089409Z",
     "iopub.status.idle": "2025-09-27T16:16:24.104481Z",
     "shell.execute_reply": "2025-09-27T16:16:24.103466Z",
     "shell.execute_reply.started": "2025-09-27T16:16:24.089409Z"
    }
   },
   "outputs": [
    {
     "name": "stdout",
     "output_type": "stream",
     "text": [
      "\n",
      "Висновок:\n",
      "• На train даних R² = 0.751 , на test = 0.63\n",
      "• MAE на train = 4898.9 , на test = 5097.6\n",
      "\n",
      "Аналіз:\n",
      "- Якщо якість на train значно краща, ніж на test → перенавчання.\n",
      "- Якщо і на train низька → недонавчання.\n",
      "- У нашому випадку різниця невелика, тому модель загалом адекватно узагальнює.\n"
     ]
    }
   ],
   "source": [
    "print(\"\\nВисновок:\")\n",
    "print(\"• На train даних R² =\", round(r2_score(y_train, y_train_pred), 3),\n",
    "      \", на test =\", round(r2_score(y_test, y_test_pred), 3))\n",
    "print(\"• MAE на train =\", round(mean_absolute_error(y_train, y_train_pred), 1),\n",
    "      \", на test =\", round(mean_absolute_error(y_test, y_test_pred), 1))\n",
    "\n",
    "print(\"\\nАналіз:\")\n",
    "print(\"- Якщо якість на train значно краща, ніж на test → перенавчання.\")\n",
    "print(\"- Якщо і на train низька → недонавчання.\")\n",
    "print(\"- У нашому випадку різниця невелика, тому модель загалом адекватно узагальнює.\")"
   ]
  },
  {
   "cell_type": "markdown",
   "metadata": {
    "id": "9f6f299d"
   },
   "source": [
    "## Завдання 7: Аналіз помилок (4 бали)\n",
    "\n",
    "**Що потрібно зробити:**\n",
    "1. Обчисліть помилки (residuals = реальні - прогнозовані значення)\n",
    "2. Побудуйте гістограму розподілу помилок\n",
    "3. Створіть scatter plot помилок відносно величини прогнозованих значень. Чи росте помилка з ростом прогнозованого значення?\n",
    "4. Знайдіть 5 прогнозів з найбільшими помилками\n",
    "5. Проаналізуйте, на яких типах житла модель помиляється найбільше. Типи можна розрізняти за кількістю кімнат чи містом, наприклад.\n",
    "6. Подумайте і напишіть, які наступні кроки ви б зробили, аби поліпшити якість моделі. Опціонально можна їх зробити і ми перевіримо :)"
   ]
  },
  {
   "cell_type": "code",
   "execution_count": 69,
   "metadata": {
    "execution": {
     "iopub.execute_input": "2025-09-27T11:36:17.408350Z",
     "iopub.status.busy": "2025-09-27T11:36:17.408350Z",
     "iopub.status.idle": "2025-09-27T11:36:17.420874Z",
     "shell.execute_reply": "2025-09-27T11:36:17.415889Z",
     "shell.execute_reply.started": "2025-09-27T11:36:17.408350Z"
    },
    "id": "RxF3y1BcOevB"
   },
   "outputs": [],
   "source": [
    "residuals = y_test - y_test_pred\n",
    "residuals_abs = residuals.abs()"
   ]
  },
  {
   "cell_type": "code",
   "execution_count": 114,
   "metadata": {
    "execution": {
     "iopub.execute_input": "2025-09-27T16:00:57.898587Z",
     "iopub.status.busy": "2025-09-27T16:00:57.897592Z",
     "iopub.status.idle": "2025-09-27T16:00:57.966816Z",
     "shell.execute_reply": "2025-09-27T16:00:57.965804Z",
     "shell.execute_reply.started": "2025-09-27T16:00:57.898587Z"
    }
   },
   "outputs": [
    {
     "data": {
      "application/vnd.plotly.v1+json": {
       "config": {
        "plotlyServerURL": "https://plot.ly"
       },
       "data": [
        {
         "bingroup": "x",
         "hovertemplate": "variable=Rent<br>value=%{x}<br>count=%{y}<extra></extra>",
         "legendgroup": "Rent",
         "marker": {
          "color": "#636efa",
          "pattern": {
           "shape": ""
          }
         },
         "name": "Rent",
         "nbinsx": 50,
         "orientation": "v",
         "showlegend": true,
         "type": "histogram",
         "x": {
          "bdata": "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",
          "dtype": "f8"
         },
         "xaxis": "x",
         "yaxis": "y"
        }
       ],
       "layout": {
        "barmode": "relative",
        "height": 400,
        "legend": {
         "title": {
          "text": "variable"
         },
         "tracegroupgap": 0
        },
        "shapes": [
         {
          "line": {
           "color": "black",
           "dash": "dash"
          },
          "type": "line",
          "x0": 0,
          "x1": 0,
          "xref": "x",
          "y0": 0,
          "y1": 1,
          "yref": "y domain"
         }
        ],
        "template": {
         "data": {
          "bar": [
           {
            "error_x": {
             "color": "#2a3f5f"
            },
            "error_y": {
             "color": "#2a3f5f"
            },
            "marker": {
             "line": {
              "color": "#E5ECF6",
              "width": 0.5
             },
             "pattern": {
              "fillmode": "overlay",
              "size": 10,
              "solidity": 0.2
             }
            },
            "type": "bar"
           }
          ],
          "barpolar": [
           {
            "marker": {
             "line": {
              "color": "#E5ECF6",
              "width": 0.5
             },
             "pattern": {
              "fillmode": "overlay",
              "size": 10,
              "solidity": 0.2
             }
            },
            "type": "barpolar"
           }
          ],
          "carpet": [
           {
            "aaxis": {
             "endlinecolor": "#2a3f5f",
             "gridcolor": "white",
             "linecolor": "white",
             "minorgridcolor": "white",
             "startlinecolor": "#2a3f5f"
            },
            "baxis": {
             "endlinecolor": "#2a3f5f",
             "gridcolor": "white",
             "linecolor": "white",
             "minorgridcolor": "white",
             "startlinecolor": "#2a3f5f"
            },
            "type": "carpet"
           }
          ],
          "choropleth": [
           {
            "colorbar": {
             "outlinewidth": 0,
             "ticks": ""
            },
            "type": "choropleth"
           }
          ],
          "contour": [
           {
            "colorbar": {
             "outlinewidth": 0,
             "ticks": ""
            },
            "colorscale": [
             [
              0,
              "#0d0887"
             ],
             [
              0.1111111111111111,
              "#46039f"
             ],
             [
              0.2222222222222222,
              "#7201a8"
             ],
             [
              0.3333333333333333,
              "#9c179e"
             ],
             [
              0.4444444444444444,
              "#bd3786"
             ],
             [
              0.5555555555555556,
              "#d8576b"
             ],
             [
              0.6666666666666666,
              "#ed7953"
             ],
             [
              0.7777777777777778,
              "#fb9f3a"
             ],
             [
              0.8888888888888888,
              "#fdca26"
             ],
             [
              1,
              "#f0f921"
             ]
            ],
            "type": "contour"
           }
          ],
          "contourcarpet": [
           {
            "colorbar": {
             "outlinewidth": 0,
             "ticks": ""
            },
            "type": "contourcarpet"
           }
          ],
          "heatmap": [
           {
            "colorbar": {
             "outlinewidth": 0,
             "ticks": ""
            },
            "colorscale": [
             [
              0,
              "#0d0887"
             ],
             [
              0.1111111111111111,
              "#46039f"
             ],
             [
              0.2222222222222222,
              "#7201a8"
             ],
             [
              0.3333333333333333,
              "#9c179e"
             ],
             [
              0.4444444444444444,
              "#bd3786"
             ],
             [
              0.5555555555555556,
              "#d8576b"
             ],
             [
              0.6666666666666666,
              "#ed7953"
             ],
             [
              0.7777777777777778,
              "#fb9f3a"
             ],
             [
              0.8888888888888888,
              "#fdca26"
             ],
             [
              1,
              "#f0f921"
             ]
            ],
            "type": "heatmap"
           }
          ],
          "histogram": [
           {
            "marker": {
             "pattern": {
              "fillmode": "overlay",
              "size": 10,
              "solidity": 0.2
             }
            },
            "type": "histogram"
           }
          ],
          "histogram2d": [
           {
            "colorbar": {
             "outlinewidth": 0,
             "ticks": ""
            },
            "colorscale": [
             [
              0,
              "#0d0887"
             ],
             [
              0.1111111111111111,
              "#46039f"
             ],
             [
              0.2222222222222222,
              "#7201a8"
             ],
             [
              0.3333333333333333,
              "#9c179e"
             ],
             [
              0.4444444444444444,
              "#bd3786"
             ],
             [
              0.5555555555555556,
              "#d8576b"
             ],
             [
              0.6666666666666666,
              "#ed7953"
             ],
             [
              0.7777777777777778,
              "#fb9f3a"
             ],
             [
              0.8888888888888888,
              "#fdca26"
             ],
             [
              1,
              "#f0f921"
             ]
            ],
            "type": "histogram2d"
           }
          ],
          "histogram2dcontour": [
           {
            "colorbar": {
             "outlinewidth": 0,
             "ticks": ""
            },
            "colorscale": [
             [
              0,
              "#0d0887"
             ],
             [
              0.1111111111111111,
              "#46039f"
             ],
             [
              0.2222222222222222,
              "#7201a8"
             ],
             [
              0.3333333333333333,
              "#9c179e"
             ],
             [
              0.4444444444444444,
              "#bd3786"
             ],
             [
              0.5555555555555556,
              "#d8576b"
             ],
             [
              0.6666666666666666,
              "#ed7953"
             ],
             [
              0.7777777777777778,
              "#fb9f3a"
             ],
             [
              0.8888888888888888,
              "#fdca26"
             ],
             [
              1,
              "#f0f921"
             ]
            ],
            "type": "histogram2dcontour"
           }
          ],
          "mesh3d": [
           {
            "colorbar": {
             "outlinewidth": 0,
             "ticks": ""
            },
            "type": "mesh3d"
           }
          ],
          "parcoords": [
           {
            "line": {
             "colorbar": {
              "outlinewidth": 0,
              "ticks": ""
             }
            },
            "type": "parcoords"
           }
          ],
          "pie": [
           {
            "automargin": true,
            "type": "pie"
           }
          ],
          "scatter": [
           {
            "fillpattern": {
             "fillmode": "overlay",
             "size": 10,
             "solidity": 0.2
            },
            "type": "scatter"
           }
          ],
          "scatter3d": [
           {
            "line": {
             "colorbar": {
              "outlinewidth": 0,
              "ticks": ""
             }
            },
            "marker": {
             "colorbar": {
              "outlinewidth": 0,
              "ticks": ""
             }
            },
            "type": "scatter3d"
           }
          ],
          "scattercarpet": [
           {
            "marker": {
             "colorbar": {
              "outlinewidth": 0,
              "ticks": ""
             }
            },
            "type": "scattercarpet"
           }
          ],
          "scattergeo": [
           {
            "marker": {
             "colorbar": {
              "outlinewidth": 0,
              "ticks": ""
             }
            },
            "type": "scattergeo"
           }
          ],
          "scattergl": [
           {
            "marker": {
             "colorbar": {
              "outlinewidth": 0,
              "ticks": ""
             }
            },
            "type": "scattergl"
           }
          ],
          "scattermap": [
           {
            "marker": {
             "colorbar": {
              "outlinewidth": 0,
              "ticks": ""
             }
            },
            "type": "scattermap"
           }
          ],
          "scattermapbox": [
           {
            "marker": {
             "colorbar": {
              "outlinewidth": 0,
              "ticks": ""
             }
            },
            "type": "scattermapbox"
           }
          ],
          "scatterpolar": [
           {
            "marker": {
             "colorbar": {
              "outlinewidth": 0,
              "ticks": ""
             }
            },
            "type": "scatterpolar"
           }
          ],
          "scatterpolargl": [
           {
            "marker": {
             "colorbar": {
              "outlinewidth": 0,
              "ticks": ""
             }
            },
            "type": "scatterpolargl"
           }
          ],
          "scatterternary": [
           {
            "marker": {
             "colorbar": {
              "outlinewidth": 0,
              "ticks": ""
             }
            },
            "type": "scatterternary"
           }
          ],
          "surface": [
           {
            "colorbar": {
             "outlinewidth": 0,
             "ticks": ""
            },
            "colorscale": [
             [
              0,
              "#0d0887"
             ],
             [
              0.1111111111111111,
              "#46039f"
             ],
             [
              0.2222222222222222,
              "#7201a8"
             ],
             [
              0.3333333333333333,
              "#9c179e"
             ],
             [
              0.4444444444444444,
              "#bd3786"
             ],
             [
              0.5555555555555556,
              "#d8576b"
             ],
             [
              0.6666666666666666,
              "#ed7953"
             ],
             [
              0.7777777777777778,
              "#fb9f3a"
             ],
             [
              0.8888888888888888,
              "#fdca26"
             ],
             [
              1,
              "#f0f921"
             ]
            ],
            "type": "surface"
           }
          ],
          "table": [
           {
            "cells": {
             "fill": {
              "color": "#EBF0F8"
             },
             "line": {
              "color": "white"
             }
            },
            "header": {
             "fill": {
              "color": "#C8D4E3"
             },
             "line": {
              "color": "white"
             }
            },
            "type": "table"
           }
          ]
         },
         "layout": {
          "annotationdefaults": {
           "arrowcolor": "#2a3f5f",
           "arrowhead": 0,
           "arrowwidth": 1
          },
          "autotypenumbers": "strict",
          "coloraxis": {
           "colorbar": {
            "outlinewidth": 0,
            "ticks": ""
           }
          },
          "colorscale": {
           "diverging": [
            [
             0,
             "#8e0152"
            ],
            [
             0.1,
             "#c51b7d"
            ],
            [
             0.2,
             "#de77ae"
            ],
            [
             0.3,
             "#f1b6da"
            ],
            [
             0.4,
             "#fde0ef"
            ],
            [
             0.5,
             "#f7f7f7"
            ],
            [
             0.6,
             "#e6f5d0"
            ],
            [
             0.7,
             "#b8e186"
            ],
            [
             0.8,
             "#7fbc41"
            ],
            [
             0.9,
             "#4d9221"
            ],
            [
             1,
             "#276419"
            ]
           ],
           "sequential": [
            [
             0,
             "#0d0887"
            ],
            [
             0.1111111111111111,
             "#46039f"
            ],
            [
             0.2222222222222222,
             "#7201a8"
            ],
            [
             0.3333333333333333,
             "#9c179e"
            ],
            [
             0.4444444444444444,
             "#bd3786"
            ],
            [
             0.5555555555555556,
             "#d8576b"
            ],
            [
             0.6666666666666666,
             "#ed7953"
            ],
            [
             0.7777777777777778,
             "#fb9f3a"
            ],
            [
             0.8888888888888888,
             "#fdca26"
            ],
            [
             1,
             "#f0f921"
            ]
           ],
           "sequentialminus": [
            [
             0,
             "#0d0887"
            ],
            [
             0.1111111111111111,
             "#46039f"
            ],
            [
             0.2222222222222222,
             "#7201a8"
            ],
            [
             0.3333333333333333,
             "#9c179e"
            ],
            [
             0.4444444444444444,
             "#bd3786"
            ],
            [
             0.5555555555555556,
             "#d8576b"
            ],
            [
             0.6666666666666666,
             "#ed7953"
            ],
            [
             0.7777777777777778,
             "#fb9f3a"
            ],
            [
             0.8888888888888888,
             "#fdca26"
            ],
            [
             1,
             "#f0f921"
            ]
           ]
          },
          "colorway": [
           "#636efa",
           "#EF553B",
           "#00cc96",
           "#ab63fa",
           "#FFA15A",
           "#19d3f3",
           "#FF6692",
           "#B6E880",
           "#FF97FF",
           "#FECB52"
          ],
          "font": {
           "color": "#2a3f5f"
          },
          "geo": {
           "bgcolor": "white",
           "lakecolor": "white",
           "landcolor": "#E5ECF6",
           "showlakes": true,
           "showland": true,
           "subunitcolor": "white"
          },
          "hoverlabel": {
           "align": "left"
          },
          "hovermode": "closest",
          "mapbox": {
           "style": "light"
          },
          "paper_bgcolor": "white",
          "plot_bgcolor": "#E5ECF6",
          "polar": {
           "angularaxis": {
            "gridcolor": "white",
            "linecolor": "white",
            "ticks": ""
           },
           "bgcolor": "#E5ECF6",
           "radialaxis": {
            "gridcolor": "white",
            "linecolor": "white",
            "ticks": ""
           }
          },
          "scene": {
           "xaxis": {
            "backgroundcolor": "#E5ECF6",
            "gridcolor": "white",
            "gridwidth": 2,
            "linecolor": "white",
            "showbackground": true,
            "ticks": "",
            "zerolinecolor": "white"
           },
           "yaxis": {
            "backgroundcolor": "#E5ECF6",
            "gridcolor": "white",
            "gridwidth": 2,
            "linecolor": "white",
            "showbackground": true,
            "ticks": "",
            "zerolinecolor": "white"
           },
           "zaxis": {
            "backgroundcolor": "#E5ECF6",
            "gridcolor": "white",
            "gridwidth": 2,
            "linecolor": "white",
            "showbackground": true,
            "ticks": "",
            "zerolinecolor": "white"
           }
          },
          "shapedefaults": {
           "line": {
            "color": "#2a3f5f"
           }
          },
          "ternary": {
           "aaxis": {
            "gridcolor": "white",
            "linecolor": "white",
            "ticks": ""
           },
           "baxis": {
            "gridcolor": "white",
            "linecolor": "white",
            "ticks": ""
           },
           "bgcolor": "#E5ECF6",
           "caxis": {
            "gridcolor": "white",
            "linecolor": "white",
            "ticks": ""
           }
          },
          "title": {
           "x": 0.05
          },
          "xaxis": {
           "automargin": true,
           "gridcolor": "white",
           "linecolor": "white",
           "ticks": "",
           "title": {
            "standoff": 15
           },
           "zerolinecolor": "white",
           "zerolinewidth": 2
          },
          "yaxis": {
           "automargin": true,
           "gridcolor": "white",
           "linecolor": "white",
           "ticks": "",
           "title": {
            "standoff": 15
           },
           "zerolinecolor": "white",
           "zerolinewidth": 2
          }
         }
        },
        "title": {
         "text": "Розподіл residuals (real - pred)"
        },
        "xaxis": {
         "anchor": "y",
         "domain": [
          0,
          1
         ],
         "title": {
          "text": "value"
         }
        },
        "yaxis": {
         "anchor": "x",
         "domain": [
          0,
          1
         ],
         "title": {
          "text": "count"
         }
        }
       }
      },
      "image/png": "[encoded data removed]"
     },
     "metadata": {},
     "output_type": "display_data"
    }
   ],
   "source": [
    "fig = px.histogram(residuals, nbins=50, title='Розподіл residuals (real - pred)')\n",
    "fig.add_vline(x=0, line_dash=\"dash\", line_color=\"black\")\n",
    "fig.update_layout(height=400)\n",
    "fig.show()"
   ]
  },
  {
   "cell_type": "code",
   "execution_count": 115,
   "metadata": {
    "execution": {
     "iopub.execute_input": "2025-09-27T16:01:37.543344Z",
     "iopub.status.busy": "2025-09-27T16:01:37.542345Z",
     "iopub.status.idle": "2025-09-27T16:01:37.623347Z",
     "shell.execute_reply": "2025-09-27T16:01:37.622329Z",
     "shell.execute_reply.started": "2025-09-27T16:01:37.543344Z"
    }
   },
   "outputs": [
    {
     "data": {
      "application/vnd.plotly.v1+json": {
       "config": {
        "plotlyServerURL": "https://plot.ly"
       },
       "data": [
        {
         "hovertemplate": "Прогнозуєме значення=%{x}<br>Помилка (real - pred)=%{y}<extra></extra>",
         "legendgroup": "",
         "marker": {
          "color": "#636efa",
          "symbol": "circle"
         },
         "mode": "markers",
         "name": "",
         "orientation": "v",
         "showlegend": false,
         "type": "scatter",
         "x": {
          "bdata": "ZOLLcBgMy0DIxJfhyBi/QGTiy3BEBcxAmfgyHHVm40Bk4stw1NTAQDLxZTgSD9FAyMSX4QiEuUDIxJfhyHuyQGTiy3Bk4MVAZOLLcLQgwkBk4stwcI7MQGTiy3DUCc1AMvFlOMLf3UAy8WU4ahnWQGTiy3AUqMlAZOLLcIDOxUAy8WU4qsnbQGTiy3Agps9AMvFlOErr3UAy8WU47pPQQDLxZTjSuNNAZOLLcDRIw0Bk4stw7GjIQDLxZThSCdZAMvFlOIJs1kDIxJfhSJqwQMjEl+EAY75AmfgyHBG45ECZ+DIcbyrjQDLxZTigMtFAkIkvw9FYpEBk4stwtFbLQDLxZTiSz9FAMvFlOJqo30Bk4stwkKHKQCa+DEfOMQJBMvFlOPIw1EAy8WU47OnXQDLxZThG0dFAZOLLcFQezkAy8WU40srRQMjEl+EoyrlAZOLLcMgKzEAy8WU4+j/QQDLxZTiqw9VAMvFlOJIq00DIxJfhKP27QGTiy3BEQcFAMvFlOJIJ2EBk4stwcInMQDLxZTi6q9xAMvFlOBKo2EDIxJfhiEewQJn4MhxFkOFAZOLLcGSzwUAy8WU4IhXWQJn4Mhz7qeFAMvFlONrc0kCZ+DIcUB3kQMjEl+Foq7hAmfgyHGsT4EAgE1+GI+SbQGTiy3BwhsdAMvFlOAa21EAy8WU4gsXSQGTiy3CUWs1AMvFlOJbi10Bk4stwBKjMQJn4MhytTedAyMSX4ah8tEAy8WU4Qi/TQGTiy3CcGspAZOLLcCADzUAy8WU4gijYQMjEl+HIR7hAMvFlOOr93kBk4stwNG3CQGTiy3BYDslAMvFlOO7j00CQiS/D0XOpQDLxZTji/NpAgLOD5nFrdcAy8WU4QiHeQDLxZThyCNlAMvFlOJ5i3EAy8WU4OkndQGTiy3CgHs9AyMSX4agSu0DIxJfhiEm4QGTiy3DEHcJAmfgyHBt74kCZ+DIcgSDpQJn4MhydRuRAmfgyHFb24kCZ+DIcqlHiQGTiy3CcGspAmfgyHIH85kAy8WU4ap7WQGTiy3BUocFAMvFlOAKe1EAy8WU4EA3QQGTiy3AUqstAmfgyHOvu5ECZ+DIcgWXiQGTiy3Bs28pAZOLLcGAGzkDIxJfh8Ce7QGTiy3Agy8RAZOLLcMCDzECZ+DIcaVbgQMjEl+EoyLNAMvFlOBwM1UCZ+DIcUu/gQGTiy3AorsRAMvFlOBIk0EBk4stwCKvPQMjEl+FwS7hAMvFlOAL60EAy8WU44EfRQGTiy3AEmsdAMvFlOIaz00Ay8WU4svzYQJn4MhxJz+FAMvFlOLB800Bk4stwxFLEQGTiy3D0MctAyMSX4WgrvEAy8WU4lOjQQGTiy3DU68FAmfgyHL8G4UAy8WU4sqXUQJCJL8Mx6qdAmfgyHOHF4UBk4stwVITHQJn4Mhy9E+JAMvFlOBou1UAy8WU4gujVQGTiy3D0RsNAZOLLcHhAx0Ay8WU4inDQQDLxZTgeftVAZOLLcPTdwUDIxJfhaLe7QDLxZThwkNJAZOLLcKCLz0Bk4stwsFHNQDLxZTjCl9VAmfgyHJ+L40Bk4stwJIHGQDLxZTiqrtRAZOLLcCwoykDIxJfhiOq9QJn4Mhza/eBAMvFlOH6x0kBk4stwAAPIQGTiy3C0c8tAMvFlONJ73EBk4stwQM3HQJn4MhxgkeJAZOLLcJTIxUAy8WU4GsTbQMjEl+FIhrZAZOLLcIhpxEAy8WU4UhrbQJCJL8NRvaNAZOLLcHxVx0Bk4stwSOjJQGTiy3BEZM5AZOLLcDQbwEAgE1+Go42WQJn4MhzRveVAZOLLcATxwEDIxJfhSIW4QJn4MhwJNeZAyMSX4ahrskBk4stwvArOQJn4Mhwty+NAmfgyHBlt5ECZ+DIcfZzlQGTiy3CELMJAZOLLcGCiy0Ay8WU4HmjcQMjEl+FI/r9AyMSX4Qi/tEBk4stwRMLAQJn4MhydsuBAZOLLcAwIz0Bk4stw1GHMQGTiy3CEesBAyMSX4YiUsUBk4stwcKzIQDLxZThiKtlAZOLLcBCwyUBk4stwrNnJQGTiy3C0cM5AZOLLcJjUzkCZ+DIcX1zjQDLxZTgyjd1AmfgyHPFW6UBk4stwOCPPQGTiy3A8ksVAMvFlOCJl3EAy8WU4sgTbQMjEl+GI+7NAMvFlOFys1EAy8WU4QnTSQGTiy3D4jc1AMvFlOJLF2UAy8WU4kqDSQGTiy3AkncZAZOLLcCT0ykAy8WU4HtrQQDLxZThQiNBAmfgyHNlq5UBk4stwRKfBQDLxZTjQudVAyMSX4UgIu0Ay8WU4KgjQQGTiy3BUbMJAZOLLcHzbykBk4stwPB3JQDLxZTgW3tBAZOLLcMzOwkAy8WU4OujTQGTiy3Acq8JAmfgyHNkN50CZ+DIc6WvlQJn4MhykBOJAMvFlOKxI00Bk4stwiG7JQGTiy3DUGcxAmfgyHIEe5EAy8WU40k/QQGTiy3AIPM9AmfgyHH3P4UBk4stwXMbFQGTiy3AYCM5AZOLLcCgcw0Ay8WU4qirQQGTiy3CMGsNAMvFlOEKw2EAy8WU4UpLcQGTiy3DISc1AZOLLcNRGwECQiS/DUeOnQDLxZTjCitJAmfgyHBFP4kCZ+DIc2dvjQGTiy3DI0cNAyMSX4Qhbs0Bk4stw+AHEQGTiy3AcQs1AMvFlOMRr1EBk4stwuK/HQJn4Mhx+DuZAMvFlOBJb3kAy8WU4WiHRQDLxZThCuN9AZOLLcKz9xUDIxJfhiOGzQDLxZTgeXN1AMvFlOIpG2UDIxJfhaBGyQGTiy3AQWsZAwNlB87gzicAy8WU4hJHXQGTiy3BUysVAZOLLcAT8wUCZ+DIcuiLiQGTiy3B0XcRAMvFlODK13kCZ+DIcqZXjQMjEl+How7pAZOLLcAwezEBk4stwuNLIQDLxZTiCqtBAmfgyHEE85kCZ+DIcoSXgQDLxZTiGl9dAyMSX4SgbvEBk4stwnKTIQDLxZTiSvNJAZOLLcNhtwEAy8WU4ctzbQGTiy3CAnMtAZOLLcOybykBk4stwvGDGQGTiy3BswshAyMSX4eiYsUBk4stw/NvPQJn4MhyNRuFAyMSX4Yjeu0DIxJfh6KyyQDLxZThSINNAMvFlODKS2EDIxJfh+F63QGTiy3CM58tAZOLLcBy8xUAy8WU4EjfcQMjEl+Eo8rZAmfgyHEEf6UAy8WU44njVQMjEl+EIQrJAZOLLcMQ8ykBk4stwMLLMQDLxZThCn9hAMvFlOGrI0kBk4stwtF/LQDLxZThkMtZAZOLLcGgJxEBk4stwtBjNQMjEl+FojrlAmfgyHEmD40Ay8WU4VpbQQGTiy3BEXcZAMvFlOCL91kAy8WU4sg3eQGTiy3AcPcBAMvFlOJSM2kCZ+DIcYxroQDLxZTgyw9ZAMvFlOFpr2EAy8WU48grXQGTiy3CAX8JAmfgyHB124ECZ+DIcgdvhQJn4MhzBtOBAZOLLcCBax0DIxJfhyMm4QMjEl+F47L1AmfgyHJpe5UBk4stwJL/MQGTiy3Dk8MxAMvFlOIIG2kDIxJfhaNq3QDLxZTjCEttAZOLLcLSDxkAy8WU4cvzaQJn4Mhz5nuBAZOLLcLxLzUBk4stwuIPGQDLxZTjyltBAmfgyHClc6kAy8WU48pTaQDLxZTiybNxAMvFlOMry3UDIxJfhaMK8QGTiy3Bsk8BAyMSX4Wiiu0Ay8WU43lbTQMjEl+EIxr5AZOLLcCC+zEBk4stwdHfLQDLxZTjAPtFAZOLLcMCdxEAy8WU48ojRQDLxZTg+F9FAZOLLcCSQwECQiS/D0eihQDLxZTiSvdVAMvFlOFoj3kDIxJfhiIGyQJCJL8PRPq9AyMSX4QgpskDIxJfhSLW/QGTiy3DE4M9AZOLLcCRgxUAy8WU4ii7QQDLxZTh4gtBAmfgyHI4j5UAy8WU4clXYQDLxZTjGHtpAMvFlOIJB2UAy8WU4yPPUQMjEl+EI375AwNlB87h+gMBk4stwpBzHQGTiy3DMFMhAyMSX4Wi7uEDIxJfhaHyxQDLxZTimGtlAmfgyHABS4UAgE1+GIz6cQJn4MhwjauNAMvFlOJLb2UBk4stw0PvFQMjEl+Hou7VAZOLLcOiLy0DIxJfhSFa+QJn4Mhw5UuJAMvFlOOKn2EAy8WU42krfQDLxZTgK39xAkIkvw1HPpUAy8WU44kPYQJCJL8ORpaRAIBNfhqN5lUCZ+DIceUjgQGTiy3Dg8sNAMvFlOKL01EAy8WU4gmjTQGTiy3C0XcdAMvFlODCe0UBk4stw2JLJQMjEl+FYKLxAZOLLcPSqzUCZ+DIcP/PhQMjEl+HIa7pAMvFlODpX0kCQiS/DkS2iQDLxZTi6JdhAyMSX4ThjtkAy8WU44tHfQMjEl+G4r75AZOLLcIyUy0Ay8WU4whbWQGTiy3D0RMJAZOLLcDRLzkBk4stwAEfGQGTiy3D0aM1AmfgyHBHc4kCZ+DIc9W3nQJn4MhxKPeRAyMSX4QjQukDIxJfhuDC+QDLxZTiYqNNAmfgyHJGL5EBk4stwVA7LQJn4Mhx5+eFAMvFlODoN0UCZ+DIcqc/gQMjEl+FIMbdAMvFlOHpN00Ay8WU4oo7TQJn4MhxlXOJAZOLLcPRKzkCZ+DIcIW3kQDLxZThcytdAZOLLcPx/xUBk4stw5CfMQDLxZTgkzdNAZOLLcLxSyEBk4stw9KXFQDLxZThSa9JAZOLLcNx+ykAy8WU4km3RQJn4Mhxp7eNAZOLLcBhpykAy8WU4HLzcQEAmvgxHNYhAmfgyHAxh4EBk4stwdFfAQGTiy3AM2sVAyMSX4cgMvEAy8WU4FE/SQDLxZTgCWtdAZOLLcMy/xUBk4stwtKXOQGTiy3B8dMxAMvFlOKKq20CZ+DIcNpblQDLxZTgC595AZOLLcFRkzEAy8WU4GlHXQGTiy3CUq8tAZOLLcCSQzUDIxJfhSNu4QGTiy3CUJMVAZOLLcFg0ykBk4stwxKLEQDLxZThyytJAyMSX4ajrtUBk4stw2MXEQMjEl+FIZLdAMvFlOAoV00DIxJfhCNC2QJn4MhyRDeFAMvFlOByc0EBk4stwzP/KQJn4MhyePeVAZOLLcFB3xkCZ+DIcYa7jQJn4Mhyp0eNAZOLLcEQoyUBk4stwOHjJQDLxZTgy5ddAyMSX4aiYuECZ+DIctTTmQJCJL8ORKaxAZOLLcBhQzkAy8WU4einWQDLxZTh6GNpAmfgyHHmJ5kDIxJfhKFK+QMjEl+GolLRAMvFlOCwq1kCQiS/DUeaqQGTiy3DwHMxAkIkvw9Gap0DIxJfh6OiyQMjEl+HoFLFAZOLLcPDQzEAy8WU4YqnTQEx8GY5cTPBAyMSX4aiOv0Bk4stw9FnBQDLxZTiS2NdAMvFlONC70UBk4stwoFvGQGTiy3BQV8lAZOLLcIgIy0Bk4stwxADCQGTiy3DoBc1AMvFlOBB30kBk4stwFMbCQEAmvgxHuYlAMvFlOKJv00Bk4stwtHXLQMjEl+GIOrRAmfgyHJn96EAy8WU48s/XQGTiy3AU08xAmfgyHBG+4kAy8WU4mlXXQDLxZTjyR91AADLxZTjyW0Ay8WU4QlHbQDLxZTgKzNZAZOLLcBQ6xEAy8WU4jkXYQGTiy3AUZM5AMvFlOHKf00CZ+DIc4c/iQDLxZTgiH99AyMSX4eCLu0CQiS/DUdypQJCJL8PRtKFAmfgyHLnB4EAy8WU44k/YQGTiy3CUM8FAZOLLcPwMzkBk4stw6J3FQGTiy3C0OsFAmfgyHDEC4kAy8WU4CkTRQDLxZThKTddAMvFlOEKP20Bk4stw+E/PQGTiy3B0BMVAZOLLcIDLwkDIxJfh+Ky0QJCJL8PRuapAMvFlOEKj0kAy8WU48qPSQJn4Mhzq8+VAMvFlOFJ/3UDIxJfhCPS8QJn4MhzfJOJAmfgyHA+h4kBk4stw0H3KQDLxZTjmFNJAmfgyHFUK4UAy8WU45rHRQJn4Mhyh7ONAZOLLcGwgxEAy8WU4qi/XQCATX4YjBphAZOLLcIi4yUDIxJfh6KG2QJn4Mhzxt+BAZOLLcBRzx0Bk4stwXNbIQJn4MhwXkeRAkIkvwxEiq0Ay8WU4YtnSQGTiy3C0uspAMvFlOMq40kAy8WU4IqrQQMjEl+HIR7BAZOLLcByLy0Ay8WU4Pu3RQGTiy3DcjcdAZOLLcLRAy0Ay8WU4AO3RQMjEl+GoMLpAMvFlOEI71UDIxJfhCEe6QGTiy3CcRcxAZOLLcLwhw0Ay8WU4BC/QQDLxZTjsY9RAZOLLcPxXxkBk4stwqJ7NQGTiy3DcKsRAMvFlOILB0UBk4stwJFzAQDLxZTjEU9VAZOLLcPirx0DIxJfhiKe/QDLxZThOf9JAMvFlOIYA0kAy8WU4KoLRQGTiy3DEfcxAZOLLcEDGykDIxJfhKJa4QMjEl+HI6LhAMvFlOHJf2EDA2UHzuKeOwDLxZThaNNpAyMSX4ei2v0Bk4stwEMDIQMjEl+FoRrBAkIkvw1EXq0DIxJfhqMK4QGTiy3CEHsNAMvFlOJwb1EAy8WU4fBPWQDLxZThmyNFAMvFlOO7u00Bk4stwZIHDQDLxZTj4sNBAMvFlOBLP2EBk4stwGADEQGTiy3D0jMdAMvFlODrJ10Ay8WU4pDTXQDLxZTji3dtAMvFlOPqs20DIxJfh6Gq3QGTiy3CEI8JAZOLLcHRVwUDIxJfhSISzQJn4MhyxleNAMvFlOEYX1kBk4stwtF3IQDLxZTiyPNRAZOLLcHT1wEAy8WU40t7eQGTiy3C4OcJAZOLLcHiUxkCZ+DIcMSjjQMjEl+FII7ZAMvFlOEKC30Ay8WU4gu/aQGTiy3BcQsZAyMSX4ai+s0Bk4stwLDbJQMjEl+FomrBAZOLLcETxwkAy8WU4MsvVQDLxZTiqodFAyMSX4Yhys0Ay8WU4ulzSQGTiy3B0fMVAZOLLcLRux0CZ+DIcHRDgQGTiy3Akzc5AZOLLcAS3wUAy8WU4wibXQDLxZTiS/tBAmfgyHFFD4kAy8WU4wurQQDLxZThqctNAMvFlOCZa1UBk4stwJEDIQDLxZTgScNJAmfgyHOl74UCZ+DIci6DgQMjEl+G4rbZAZOLLcJzKxkCZ+DIc6RjiQGTiy3AkaclAmfgyHHGu7UBk4stwCKbBQMjEl+F4nbJAyMSX4TgCuUBk4stwZPzFQDLxZTjaK9NAmfgyHP/L5UCZ+DIc1QbhQGTiy3AMW85AMvFlOJru10Bk4stwBD3OQJn4MhxiXeFAkIkvw5Hmr0Ay8WU4uETVQDLxZTgCm9xAMvFlOKI42UBk4stwvHbPQJn4MhxpxOBAmfgyHO3Z50Bk4stw6O7MQDLxZTjshdZAMvFlOIIx1kCQiS/D0fKgQGTiy3CcDslAmfgyHJfE4kAy8WU4XELQQDLxZTjKo9RAZOLLcIh4x0CQiS/DUfaqQJn4MhycX+RAMvFlOPLp1kAy8WU4Yt7QQDLxZThi1N1AZOLLcGxvx0CQiS/DUfOgQDLxZTjam9RAkIkvw5Hcr0Ay8WU4EnDeQDLxZTikltFAMvFlOHrG1kDIxJfh2Pm1QDLxZTiCIthAmfgyHCde5UBk4stwFA3KQGTiy3BEMcxAZOLLcGzIwUBk4stwCLzFQMjEl+FYl7BAMvFlOAJV1UBk4stwjIvIQDLxZTiWPtZAZOLLcNyex0DIxJfhKJizQJn4MhwWKuRAZOLLcLjCyECZ+DIckRXgQDLxZTjqq9VAyMSX4RACtkAy8WU42gjRQGTiy3BU5sxAyMSX4fhauUAy8WU4ykrQQDLxZTjaHtlAMvFlOBq22UBk4stwqCvPQDLxZTjyK9RAMvFlOPLj0EBk4stwhBTJQMjEl+EIMLRAMvFlOGoP0kBk4stwMEbHQGTiy3BAnMZAMvFlOOA030Ay8WU4GinQQDLxZTiC6N9AyMSX4Vh8u0DIxJfhSJ+/QGTiy3DsD8ZAMvFlOFhx0EBk4stw7BrFQJn4MhyB4+NAMvFlOJan2kBk4stw6EPGQDLxZThwXNFAMvFlODKP2ECQiS/DkcmjQGTiy3AopMpAZOLLcGRSy0Bk4stwXB3HQGTiy3BAgcxAmfgyHNnJ5kDIxJfhKL+5QDLxZTjCPtJAyMSX4SiBukAy8WU4PjjRQGTiy3Dke8dAZOLLcKQAwECZ+DIcycbkQGTiy3Bct8xAkIkvw1ECpUAy8WU4QqTVQDLxZTgkT9RAMvFlOIjq3EAy8WU44qjZQDLxZTgSVthAZOLLcCT0xkBk4stwtCzMQDLxZTjKldBAZOLLcMDwzEAy8WU4UIjZQJn4Mhw3euRAMvFlOJpP0UAy8WU4cu/eQGTiy3AczMdAmfgyHOe44UCZ+DIcacToQJn4MhxhvOFAmfgyHPIN40Bk4stw7KXHQGTiy3CUY8FAmfgyHCV05ECZ+DIc2V3lQGTiy3CI4M5AmfgyHAW95UCZ+DIckUziQDLxZTgak9BAZOLLcOgww0Ay8WU4Kk7RQJCJL8NR+KtAMvFlOCIG00Bk4stwpFHLQDLxZTiw69xAmfgyHCkx5UCZ+DIcVRbjQGTiy3CcksxAmfgyHAkV4UAy8WU4SlTTQDLxZTgOiNJAMvFlOJJ/10Bk4stwuGnBQGTiy3DUlMVAmfgyHHn26kAy8WU4+GHaQDLxZTi+ydBAMvFlOFIg00Bk4stwyNDGQDLxZTjYzdJAmfgyHBZy40CZ+DIcAXLhQJn4MhzaD+RAZOLLcCTDwkAy8WU4WjTaQDLxZThSbNFAMvFlOCLV3ECZ+DIcVMPnQGTiy3DkyM9AyMSX4WhuuUBk4stwPFLHQDLxZThMIdtAMvFlOJIE0kBk4stwdDfKQCATX4aj5J9AkIkvw5Hhq0Bk4stwKD/BQJn4MhxhleBAyMSX4ejIs0DIxJfhCKS9QA==",
          "dtype": "f8"
         },
         "xaxis": "x",
         "y": {
          "bdata": "kIkvw2FYosAgE1+GI9OWwMjEl+GIpr7AcHbQPK6IqUCQiS/DUYugwGTiy3AkcsTAkIkvwxHIo8Dg7KB53NCTQJCJL8ORAanAIBNfhqPVm8BAJr4MB2eDwJCJL8NRZ6bAZOLLcISXyMBAJr4MR62DwMDZQfO4/opAcHbQPP4lpkA4O2geV5G5QJCJL8OBOKHA4OygeVxLlUA4O2geR4i3QJCJL8ORJqHAkIkvw9GIosDIxJfh2KW2wMjEl+FIpbnA4OygedwzkEBwdtA8bmOpQHB20Dz+WaFAyMSX4Yg4tcDIxJfheJuwwDg7aB5/3bxAcHbQPC63okCATHwZjhZ/wJCJL8ORTKnAnB00j8uSyEBAJr4MB9mDwCa+DEcOXQDBkIkvw5HnpMBk4stw2JPAwJCJL8MxWqnAyMSX4ag4s8DIxJfhSEu4wHB20Dyuu6JAIBNfhkMGncDIxJfh6CuwwGTiy3BUL8DAnB00j9sGzkBwdtA8riWmQDg7aB53ObJAZOLLcCTTwMDODprHR+nTQMjEl+HoBrHAcHbQPG5/pUBAJr4MR9yEwODsoHlct59AIBNfhiNrmMBk4stwRMbCwGTiy3Ds5cLAODtoHpc0tkBwdtA8/rqtQIBMfBmOtnPAQCa+DMfajMA4O2ge92qyQDg7aB4fZ7FAAJn4MhwDasDIxJfhCDa8wADIxJfhKD3AwNlB8zjtgEDIxJfhCPi9wJCJL8PRSqXA4OygeVydk0A4O2ge9+q0QODsoHkci5lAyMSX4UC6vMCAs4PmcV9wQHB20DxuwKVAZOLLcNQDw8CQiS/D0QSjwJCJL8NhGabAkIkvw3FPqsBwdtA8LmylQMjEl+GIA7bAcHbQPG4dqkBk4stwhDLFwJCJL8ORY6zAZOLLcDy1wcCQiS/D0VmnwJCJL8OBuq7A4OygeVy1kEA4O2ged5a2QCATX4Yj7pPAyMSX4djYtsCcHTSP+3HKQODsoHlcDJdA4OygeTw1kkCQiS/DoaqjwODsoHkci5lAzg6ax/2A0UCQiS/DUeOgwCATX4ajCpDAODtoHvf/tkDg7KB5/G6YQJCJL8NR6KDAODtoHqfYu0CQiS/DEeikwODsoHmchJNAcHbQPH6GpEAAnB00jwdIQODsoHn8JpVAyMSX4YCvvcDODprHLevZQHB20DyuB6NAkIkvw+HAq8CcHTSPtybEQHB20Dxep6pAZOLLcCSiwcCQiS/DIRypwCATX4bDDZPAODtoHvcHskBAJr4MB7yFwJCJL8MR6K/AODtoHufBtkBAJr4MR1aCwCATX4YjCZfAkIkvw4H9qsDg7KB53OmYQM4OmscFldRAQCa+DEc7hsDIxJfhUMK0wEAmvgxHHYXAyMSX4fi9vsDIxJfhyP63wCATX4ZjlJDAZOLLcIQfzMCQiS/DUcGnwDg7aB4XKr9AyMSX4WggusCQiS/DEQSjwJCJL8PRR6zAAM4OmsfDV0DIxJfhKNa0wMjEl+F4eLfAAJn4Mhx9YsCAs4PmcUl5QMjEl+HAYbvAIBNfhgP9kcAAkIkvw8EmwJCJL8MRfqDAyMSX4fh0u8CcHTSPW2zDQCATX4ajapLAIBNfhmPBlcAAnB00j7tEQM4OmsdLft1AkIkvw/GLqMCATHwZDmBywMjEl+Fop7fAyMSX4Uj/u8CQiS/DAeWowJwdNI9/8MBAcHbQPK4lqkAy8WU4GgbRwEAmvgxH8ofAODtoHu/EsUBk4stwpAzDwDg7aB5XYbVAcHbQPA7ap0DIxJfhkJC0wMjEl+GIoLnA4OygeVxmm0A4O2gel7S1QHB20DzuUqNA4Oygedy3lEAAMvFlONJbwJCJL8ORMKvAcHbQPK6oqUBwdtA8DnWkQODsoHlc2pZAODtoHjfnv0Bk4stw9AnEwJCJL8MRuq3AODtoHj/zskBk4stwPHLOwHB20Dxu86VAcHbQPO4ZoUA4O2gedzezQACZ+DIcnWjAcHbQPM5/oEDIxJfhqJu1wODsoHnca5hAcHbQPO5Wq0CQiS/DwZGkwCATX4YjppvAnB00j+9HwUA4O2gep2y6QEAmvgxHS4LAkIkvw2GSrcBk4stwfLXIwGTiy3Bk2svAyMSX4YjvusCQiS/D4eSqwODsoHkcjp5AnB00j7sZz0Bk4stwZMnGwHB20DzuWK5AIBNfhsNFksCQiS/DEXKuwJCJL8Php6DAnB00j9vQwEA4O2getyW3QJwdNI/bWsRAyMSX4Ui0tMDA2UHzODyHQDg7aB6/zrNAZOLLcGQTy8BwdtA87iKnQMjEl+FAl7DAgEx8GY5EesDIxJfhqBC5wADODprH1VBAyMSX4fiasMBwdtA8DrugQMjEl+FYmLTAODtoHmf6tEDIxJfh6Ai1wDg7aB7HQbVAODtoHjdpvkDODprHLZbWQODsoHl8K5FAAGcHzeOpb0A4O2ge70K7QIBMfBmOOnjAIBNfhiPQksCQiS/Dke6swJCJL8MheKPAZOLLcPR1xMDA2UHzOJqKQJwdNI/ny8JAIBNfhkPhm8CQiS/DUb2kwCATX4ZjBJTAODtoHvduskCQiS/DkaKhwDg7aB5vjLNAcHbQPK6krEBwdtA8rhSjQMjEl+EIS7vAkIkvwxGBo8DODprHTcLXQJCJL8Mhr6TAODtoHve0s0DA2UHzeKCHQMjEl+E4RLvAyMSX4RAXt8BwdtA8HnGmQHB20DweGKZAyMSX4Uisu8DIxJfhaKW1wHB20DzuraNAyMSX4VijsMBwdtA87tSiQDLxZTgeA9fAODtoHtcVsEAAzg6ax6VSQDg7aB7fm7lAODtoHncKsEAgE1+GQ7iRwDg7aB5Xu7pAkIkvwxFAocCcHTSPFx3JQHB20DwuGqRAZOLLcGRaxsAy8WU4Uq/RwODsoHlc8JFAODtoHuf7sUCQiS/D4fqswMjEl+EIsrfAnB00j/t6wkCQiS/DEfqnwACZ+DIcw2PA4OygeVxjlEDIxJfhOOW3wMjEl+FIKrjAgEx8GQ67ecDg7KB53PiWQMDZQfP494pAODtoHifouECQiS/D8TKjwODsoHmcrJRAcHbQPC7uoUCQiS/D8d+pwM4Omsfl7NxA4OygedwlnUBwdtA8LlahQICzg+Zx63lAkIkvw5HhoMAAODtoHgcxQJCJL8MxrqnAnB00j+NTwUCQiS/DkWiuwODsoHlcl5FAnB00j/t2ykDIxJfhiEu7wDg7aB735bBA4Oygedx5mEDg7KB5fG6UQDg7aB73srJAkIkvw1FDqcAgE1+Go32fwGTiy3DI3MjAwNlB83gph0A4O2gelwawQCATX4aj6Z/AODtoHrets0DIxJfhWEm7wDg7aB53lblAZOLLcESWxMA4O2geN4GwQMDZQfM4boVAkIkvw6EUocCcHTSPc6LKQODsoHncbJpAyMSX4WhpucCQiS/DkReswODsoHn845hA4OygeVwclEDIxJfhCNCzwDg7aB73mbZAIBNfhgORnsDg7KB53NiZQMDZQfM4PIpAcHbQPF5GqUA4O2get6G0QMjEl+HI0bLAIBNfhiPImcBwdtA8LmuuQDg7aB73tLBAkIkvw9Gmp8CAs4PmceN2QJCJL8ORj6/AIBNfhuM9n8AgE1+Gw92XwIBMfBmOfH7AkIkvw5Eir8CQiS/DkSepwM4OmsdNZ9RAZOLLcJSxysAgE1+Go0mVwODsoHmcpJdAODtoHpcZuUDg7KB5HLKSQDg7aB730btAgLOD5vG7cUDIxJfh6K63wMjEl+EAM7LAkIkvwwEXp8Bk4stw5FnHwMjEl+H41LfAgEx8GY4EfsA4O2gel0u2QHB20DxuY6VAyMSX4WjltsCAs4PmcWdwQMDZQfO4RI9AODtoHvfmtECAs4Pmcet3QMjEl+GIsbjAIBNfhiNhnsDg7KB5XFeWQHB20Dw+XKBAODtoHo8bvkCQiS/DkcumwJCJL8MxdqXAkIkvwxFcpsDIxJfhIE+1wJCJL8MRrqbAcHbQPK7nrUAgE1+GI6WcwODsoHmcGZpAcHbQPC6prEDg7KB5XJ6fQMjEl+GYGr7AyMSX4QAwvcA4O2ged2CwQDg7aB7ndrRAIBNfhiMZl8AAmfgyHPRvwHB20Dwu8KZAnB00jxdUw0BwdtA8biutQDg7aB43Nr1Azg6axx1K00Bk4stwtJ3DwDg7aB7XO7VAcHbQPK5AoUBAJr4MR3yKwHB20DxuOqpAcHbQPC4rokBk4stw5EHCwCATX4YD95LAnB00j7uuwEBk4stwBB/KwCATX4ajrZ7A4OygefycnkAgE1+GwxaRwDg7aB6nn7ZAAJn4Mhy9Z8Bk4stw/BDDwCATX4Yjv5PAZOLLcHQUxMBwdtA8brKsQMjEl+HoRrrAcHbQPI65oUCQiS/DES+kwEAmvgzHvYrAkIkvwzFiqMAgE1+GI0yZwJCJL8PRY6LAyMSX4WiescDg7KB5/BeRQJCJL8PR46fAnB00j7v7z0CcHTSPK5zBQJwdNI/XdspAwNlB87jfg0BAJr4Mx8WGwMjEl+FgCrTAzg6ax92A0UDIxJfhqKy+wM4OmscNh9tAyMSX4ehUtcCcHTSPW2nOQMDZQfO4lYFAyMSX4ehtusCQiS/DEYOkwMjEl+Eo47XAkIkvw9Frq8CcHTSPe5PPQGTiy3C4VMDAwNlB8zgAj0DA2UHzuEGCQJwdNI+3tc5AIBNfhuO1lsAgE1+Go++QwODsoHncypFAkIkvw3Hzp8DIxJfhSOK0wJCJL8ORxq3AkIkvw2GEq8DIxJfhcDC1wDg7aB5XabRAZOLLcDBuy8DA2UHzuMiDQCATX4ZjkJLA4OygedyclECQiS/DoXilwADODprH/VVAkIkvwzGXpMBwdtA8LtmpQJCJL8PxEaTAnB00j7vKxkDODprHk03UQGTiy3AE4sDAcHbQPK4Oq0DIxJfhaMS+wJCJL8NRvqjAIBNfhiPBkcAgE1+GI02VwABnB83j2mVAkIkvw2GxqsCQiS/DEcOvwMjEl+HIebTAwNlB87jCi0BAJr4Mh92DwJwdNI/bXctAyMSX4Sh0vcAAZwfN4/5jQGTiy3BEYsPAkIkvw+GAp8AgE1+GY36cwDg7aB4PY7lA4OygeXxll0CcHTSPe+7CQGTiy3Ckcs7AkIkvwxGZosCQiS/D4cCnwDLxZTgyFdDAcHbQPK4epUCcHTSPK5/BQHB20Dxubq5AODtoHs83vUBk4stw9PbJwMjEl+HoWbbAnB00jxsKy0AgE1+Go7iTwDg7aB5XS7pAZOLLcFjkxMDA2UHzuGaBQCATX4aDl53AgLOD5nHpfUBwdtA8Lt6gQODsoHlcbJlAAGcHzePDbkDIxJfhiN27wJj4Mhy58uHAkIkvw1ENqMCQiS/D0VeuwJCJL8OR5KLAkIkvw4GuqMAgE1+GA52WwODsoHl81ZdAnB00j3fjwUCQiS/DETulwABnB83jhWFAkIkvw4GIrsDIxJfhKNiwwDg7aB7XOLRAyMSX4Yj2usCQiS/D0RagwMDZQfO4q4lAnB00j5v9ykBwdtA8bkCsQEAmvgxHsYfAkIkvwxFxqsBk4stwNFPDwCATX4Yj/57AcHbQPG4gqECQiS/DETqnwM4Omsf1Q9BAcHbQPK6/oEA4O2gexxm0QDg7aB7XJ7lAkIkvw5H7r8DIxJfhCH+5wMjEl+GI1LrAIBNfhoOPk8Dg7KB5XJeSQHB20DwuK61AZOLLcOTez8CcHTSPO4DNQJCJL8NRLqzAkIkvw/GjosAAMvFlOPRQwJCJL8PRIqLAyMSX4YjhusAgE1+Go0CawMjEl+Eotb7AyMSX4QhNuMCQiS/D4ZerwODsoHlcXJNAgLOD5vGPd0CATHwZjk9ywMDZQfO4eItAZOLLcISgxsCQiS/DkU+gwM4OmscrktNAcHbQPG7VpUBwdtA87gesQDLxZTi+wdDAZOLLcDywycCQiS/DQderwJCJL8Mxd6vAcHbQPK46qEA4O2geZ+C6QM4Omse9vtJAIBNfhmMznMBk4stwVBPBwDg7aB53brFAnB00j3cbx0DA2UHzuBCGQGTiy3DEt8/AyMSX4Sh2t8DIxJfhuDy6wJwdNI+jJ8lAODtoHveusUBk4stwxCrCwMjEl+FoTbLAZOLLcJSnzMCcHTSPu1vFQHB20DxuIKZAcHbQPI6jpkDIxJfh+OC2wABk4stw3E3AyMSX4Wgpu8CATHwZDkB2wODsoHlcPZRAyMSX4QhVusAAmfgyHGFswCATX4bjDJfAIBNfhuM9lMCAs4Pm8b56QJCJL8NhZ6rAcHbQPA4ApEAAmfgyHKpkwHB20DyO5KRAyMSX4QgmuMBAJr4MR2KLwMjEl+EQ57LAkIkvw+FfqMDA2UHzuAOMQMjEl+E4QbXAyMSX4RhSscBwdtA8ri6gQHB20DzuwKZAIBNfhgOymsAAZwfN47ppQHB20DxuTqxAnB00jxuFx0BwdtA87hmvQGTiy3C0NMPAODtoHhfJvkBwdtA8vi+iQHB20DwuI6ZAcHbQPK7Io0AAZwfN4ypkQDg7aB73crBAZOLLcDivxMBk4stw+LbEwDg7aB5ntrJAkIkvw3HXosCQiS/DkSWvwJCJL8PBJ6jAyMSX4UjsvMBwdtA8nqehQDg7aB4XHrtAMvFlODrt0cCQiS/DIWWtwGTiy3DEq8DA4OygeVzwmUDg7KB5XISXQCATX4YjHJTAcHbQPC5qqEDA2UHzuF2PQJwdNI87V8JAnB00j3NFxEDIxJfhaEu5wJCJL8ORRaXA4OygeVyUlEBk4stwpMXCwDg7aB6PJLZAgLOD5vFwe0BwdtA87pylQHB20DxuCapAyMSX4QiRtMBwdtA87uOiQMjEl+G48LrAQCa+DEdVgcBAJr4Mx2KMwODsoHlcVptAODtoHne1tEBk4stwZD7AwM4OmsdVjNBAODtoHneds0CcHTSPi97FQJCJL8PRcafAyMSX4WiRscBk4stwdB7MwEAmvgxHEojAkIkvwxEUpMAgE1+GI6yawCATX4Yj6ZXAODtoHnfFuUDIxJfhCJu8wJCJL8NRk67AyMSX4ZjEvMBwdtA8bi+kQDg7aB63/7NAAGcHzeMWaECQiS/DsaivwABnB83jSGhA4OygeRzLlEA4O2getzC3QMjEl+FIkrPAkIkvwxGXrcAgE1+GQ9CfwMDZQfM49IZAcHbQPI5LpECQiS/DkYmlwMjEl+Foz73AODtoHgfAvEBk4stwVFPBwEAmvgzH8IDAyMSX4WhqucCATHwZjiB+wM4Omsc7v9xAgLOD5nELekDIxJfh4JK2wMjEl+EIxLDAODtoHndNsEDg7KB5HIqdQGTiy3CkncvAnB00j0vUw0CQiS/DofulwJCJL8Nhv6/AyMSX4QhSuMBwdtA8Lh2mQMjEl+E46bDAkIkvw3HZqsCQiS/D4bKkwDg7aB7X6LZAkIkvwyGqo8BwdtA8rgGgQHB20Dw+lqlAcHbQPG6gq0A4O2ged3ayQEAmvgxHDIHAcHbQPE5yp0A4O2geV9K0QDg7aB6XCLdAwNlB87jNjEBwdtA8bu+tQODsoHm8FZ9AyMSX4eixuMA4O2geJ+a4QMjEl+EIOrrAnB00j2MXwEDg7KB5XPeZQJCJL8MRBaPAIBNfhmNDkcAgE1+GQ6CRwODsoHmckpNAZOLLcAQix8CQiS/DMQ6kwMjEl+FYerrAcHbQPI6ErkAAyMSX4SgwwJwdNI+n/8BAQCa+DIcrhcCQiS/DEfmmwODsoHlcQZxAcHbQPN4zrkDIxJfhaBO9wJCJL8NRqa3A4OygeRyUl0DIxJfhKBu6wMjEl+FoW7bAZOLLcDQ4wsCQiS/DoR6nwICzg+Zxg3VAkIkvw5HvocBwdtA87t2gQDg7aB7337JAkIkvw1FLq8Dg7KB5fL6YQJCJL8MB8avA4OygefxRkEAgE1+GozGYwDg7aB73zbRAIBNfhmMxkMCQiS/DkQqnwMDZQfM4AYZAyMSX4WB9u8Dg7KB5nHiaQDg7aB73q7BAkIkvw7G8qcAgE1+GQ9+VwJCJL8OBg63AyMSX4cgctMA4O2geN3OxQJCJL8OhcKzAQCa+DEfmjsA4O2geRxW4QHB20Dz+yqJAnB00j5sIykDg7KB5XAOWQJCJL8MRxqzAcHbQPK5NoUA4O2geB8e8QHB20DxuEK9AkIkvw5EKpcAy8WU4kgXWwACZ+DIcV2nAcHbQPK71pUCQiS/DEeKgwGTiy3BILsHAZOLLcBDFwsAgE1+GI+6TwGTiy3AkWsTAkIkvw5FoqcDIxJfhaEmxwMDZQfO4xo9AyMSX4YDFtMBwdtA8fh2uQJCJL8Nxw67AAJn4MhxNbMCcHTSPGwXKQACZ+DIcB2fAIBNfhuM8lMDA2UHzuEWIQMDZQfO4J4VAODtoHm8ov0CAs4PmcYJ4QJCJL8NRfq7AODtoHtfet0CcHTSPm7jPQJCJL8Mh8qXAZOLLcBRczMDg7KB53M2XQJwdNI/LcclAIBNfhkOHnMDIxJfhqDS8wDg7aB7XK7VAnB00j7ujwEDA2UHzuKWPQJwdNI+fSMRAzg6ax6010EDODprHVU3ZQJCJL8NxiqTAODtoHreXs0CcHTSPa/vBQMDZQfM4/o9AnB00j1uPx0DA2UHzeESCQHB20Dyu3K5AyMSX4chjtMDIxJfh4JezwJCJL8Px7ajAgLOD5nHreUCAs4Pm8eZzQMjEl+Fgn7DAODtoHk8fuEBAJr4MR8CGwJwdNI+XaMFAIBNfhiP5lcBk4stwtBbIwMjEl+FIubrAyMSX4YhkvcCQiS/DQdWkwHB20DxuHK1AgEx8GY7mf8BwdtA8DuenQCATX4bD1JvAcHbQPG7ro0DA2UHzuAiCQODsoHlcm55A4OygedxclkA4O2gerxm4QM4Omsc9YdtAwNlB87g4jUBwdtA87teiQA==",
          "dtype": "f8"
         },
         "yaxis": "y"
        }
       ],
       "layout": {
        "height": 400,
        "legend": {
         "tracegroupgap": 0
        },
        "shapes": [
         {
          "line": {
           "color": "red",
           "dash": "dash"
          },
          "type": "line",
          "x0": 0,
          "x1": 1,
          "xref": "x domain",
          "y0": 0,
          "y1": 0,
          "yref": "y"
         }
        ],
        "template": {
         "data": {
          "bar": [
           {
            "error_x": {
             "color": "#2a3f5f"
            },
            "error_y": {
             "color": "#2a3f5f"
            },
            "marker": {
             "line": {
              "color": "#E5ECF6",
              "width": 0.5
             },
             "pattern": {
              "fillmode": "overlay",
              "size": 10,
              "solidity": 0.2
             }
            },
            "type": "bar"
           }
          ],
          "barpolar": [
           {
            "marker": {
             "line": {
              "color": "#E5ECF6",
              "width": 0.5
             },
             "pattern": {
              "fillmode": "overlay",
              "size": 10,
              "solidity": 0.2
             }
            },
            "type": "barpolar"
           }
          ],
          "carpet": [
           {
            "aaxis": {
             "endlinecolor": "#2a3f5f",
             "gridcolor": "white",
             "linecolor": "white",
             "minorgridcolor": "white",
             "startlinecolor": "#2a3f5f"
            },
            "baxis": {
             "endlinecolor": "#2a3f5f",
             "gridcolor": "white",
             "linecolor": "white",
             "minorgridcolor": "white",
             "startlinecolor": "#2a3f5f"
            },
            "type": "carpet"
           }
          ],
          "choropleth": [
           {
            "colorbar": {
             "outlinewidth": 0,
             "ticks": ""
            },
            "type": "choropleth"
           }
          ],
          "contour": [
           {
            "colorbar": {
             "outlinewidth": 0,
             "ticks": ""
            },
            "colorscale": [
             [
              0,
              "#0d0887"
             ],
             [
              0.1111111111111111,
              "#46039f"
             ],
             [
              0.2222222222222222,
              "#7201a8"
             ],
             [
              0.3333333333333333,
              "#9c179e"
             ],
             [
              0.4444444444444444,
              "#bd3786"
             ],
             [
              0.5555555555555556,
              "#d8576b"
             ],
             [
              0.6666666666666666,
              "#ed7953"
             ],
             [
              0.7777777777777778,
              "#fb9f3a"
             ],
             [
              0.8888888888888888,
              "#fdca26"
             ],
             [
              1,
              "#f0f921"
             ]
            ],
            "type": "contour"
           }
          ],
          "contourcarpet": [
           {
            "colorbar": {
             "outlinewidth": 0,
             "ticks": ""
            },
            "type": "contourcarpet"
           }
          ],
          "heatmap": [
           {
            "colorbar": {
             "outlinewidth": 0,
             "ticks": ""
            },
            "colorscale": [
             [
              0,
              "#0d0887"
             ],
             [
              0.1111111111111111,
              "#46039f"
             ],
             [
              0.2222222222222222,
              "#7201a8"
             ],
             [
              0.3333333333333333,
              "#9c179e"
             ],
             [
              0.4444444444444444,
              "#bd3786"
             ],
             [
              0.5555555555555556,
              "#d8576b"
             ],
             [
              0.6666666666666666,
              "#ed7953"
             ],
             [
              0.7777777777777778,
              "#fb9f3a"
             ],
             [
              0.8888888888888888,
              "#fdca26"
             ],
             [
              1,
              "#f0f921"
             ]
            ],
            "type": "heatmap"
           }
          ],
          "histogram": [
           {
            "marker": {
             "pattern": {
              "fillmode": "overlay",
              "size": 10,
              "solidity": 0.2
             }
            },
            "type": "histogram"
           }
          ],
          "histogram2d": [
           {
            "colorbar": {
             "outlinewidth": 0,
             "ticks": ""
            },
            "colorscale": [
             [
              0,
              "#0d0887"
             ],
             [
              0.1111111111111111,
              "#46039f"
             ],
             [
              0.2222222222222222,
              "#7201a8"
             ],
             [
              0.3333333333333333,
              "#9c179e"
             ],
             [
              0.4444444444444444,
              "#bd3786"
             ],
             [
              0.5555555555555556,
              "#d8576b"
             ],
             [
              0.6666666666666666,
              "#ed7953"
             ],
             [
              0.7777777777777778,
              "#fb9f3a"
             ],
             [
              0.8888888888888888,
              "#fdca26"
             ],
             [
              1,
              "#f0f921"
             ]
            ],
            "type": "histogram2d"
           }
          ],
          "histogram2dcontour": [
           {
            "colorbar": {
             "outlinewidth": 0,
             "ticks": ""
            },
            "colorscale": [
             [
              0,
              "#0d0887"
             ],
             [
              0.1111111111111111,
              "#46039f"
             ],
             [
              0.2222222222222222,
              "#7201a8"
             ],
             [
              0.3333333333333333,
              "#9c179e"
             ],
             [
              0.4444444444444444,
              "#bd3786"
             ],
             [
              0.5555555555555556,
              "#d8576b"
             ],
             [
              0.6666666666666666,
              "#ed7953"
             ],
             [
              0.7777777777777778,
              "#fb9f3a"
             ],
             [
              0.8888888888888888,
              "#fdca26"
             ],
             [
              1,
              "#f0f921"
             ]
            ],
            "type": "histogram2dcontour"
           }
          ],
          "mesh3d": [
           {
            "colorbar": {
             "outlinewidth": 0,
             "ticks": ""
            },
            "type": "mesh3d"
           }
          ],
          "parcoords": [
           {
            "line": {
             "colorbar": {
              "outlinewidth": 0,
              "ticks": ""
             }
            },
            "type": "parcoords"
           }
          ],
          "pie": [
           {
            "automargin": true,
            "type": "pie"
           }
          ],
          "scatter": [
           {
            "fillpattern": {
             "fillmode": "overlay",
             "size": 10,
             "solidity": 0.2
            },
            "type": "scatter"
           }
          ],
          "scatter3d": [
           {
            "line": {
             "colorbar": {
              "outlinewidth": 0,
              "ticks": ""
             }
            },
            "marker": {
             "colorbar": {
              "outlinewidth": 0,
              "ticks": ""
             }
            },
            "type": "scatter3d"
           }
          ],
          "scattercarpet": [
           {
            "marker": {
             "colorbar": {
              "outlinewidth": 0,
              "ticks": ""
             }
            },
            "type": "scattercarpet"
           }
          ],
          "scattergeo": [
           {
            "marker": {
             "colorbar": {
              "outlinewidth": 0,
              "ticks": ""
             }
            },
            "type": "scattergeo"
           }
          ],
          "scattergl": [
           {
            "marker": {
             "colorbar": {
              "outlinewidth": 0,
              "ticks": ""
             }
            },
            "type": "scattergl"
           }
          ],
          "scattermap": [
           {
            "marker": {
             "colorbar": {
              "outlinewidth": 0,
              "ticks": ""
             }
            },
            "type": "scattermap"
           }
          ],
          "scattermapbox": [
           {
            "marker": {
             "colorbar": {
              "outlinewidth": 0,
              "ticks": ""
             }
            },
            "type": "scattermapbox"
           }
          ],
          "scatterpolar": [
           {
            "marker": {
             "colorbar": {
              "outlinewidth": 0,
              "ticks": ""
             }
            },
            "type": "scatterpolar"
           }
          ],
          "scatterpolargl": [
           {
            "marker": {
             "colorbar": {
              "outlinewidth": 0,
              "ticks": ""
             }
            },
            "type": "scatterpolargl"
           }
          ],
          "scatterternary": [
           {
            "marker": {
             "colorbar": {
              "outlinewidth": 0,
              "ticks": ""
             }
            },
            "type": "scatterternary"
           }
          ],
          "surface": [
           {
            "colorbar": {
             "outlinewidth": 0,
             "ticks": ""
            },
            "colorscale": [
             [
              0,
              "#0d0887"
             ],
             [
              0.1111111111111111,
              "#46039f"
             ],
             [
              0.2222222222222222,
              "#7201a8"
             ],
             [
              0.3333333333333333,
              "#9c179e"
             ],
             [
              0.4444444444444444,
              "#bd3786"
             ],
             [
              0.5555555555555556,
              "#d8576b"
             ],
             [
              0.6666666666666666,
              "#ed7953"
             ],
             [
              0.7777777777777778,
              "#fb9f3a"
             ],
             [
              0.8888888888888888,
              "#fdca26"
             ],
             [
              1,
              "#f0f921"
             ]
            ],
            "type": "surface"
           }
          ],
          "table": [
           {
            "cells": {
             "fill": {
              "color": "#EBF0F8"
             },
             "line": {
              "color": "white"
             }
            },
            "header": {
             "fill": {
              "color": "#C8D4E3"
             },
             "line": {
              "color": "white"
             }
            },
            "type": "table"
           }
          ]
         },
         "layout": {
          "annotationdefaults": {
           "arrowcolor": "#2a3f5f",
           "arrowhead": 0,
           "arrowwidth": 1
          },
          "autotypenumbers": "strict",
          "coloraxis": {
           "colorbar": {
            "outlinewidth": 0,
            "ticks": ""
           }
          },
          "colorscale": {
           "diverging": [
            [
             0,
             "#8e0152"
            ],
            [
             0.1,
             "#c51b7d"
            ],
            [
             0.2,
             "#de77ae"
            ],
            [
             0.3,
             "#f1b6da"
            ],
            [
             0.4,
             "#fde0ef"
            ],
            [
             0.5,
             "#f7f7f7"
            ],
            [
             0.6,
             "#e6f5d0"
            ],
            [
             0.7,
             "#b8e186"
            ],
            [
             0.8,
             "#7fbc41"
            ],
            [
             0.9,
             "#4d9221"
            ],
            [
             1,
             "#276419"
            ]
           ],
           "sequential": [
            [
             0,
             "#0d0887"
            ],
            [
             0.1111111111111111,
             "#46039f"
            ],
            [
             0.2222222222222222,
             "#7201a8"
            ],
            [
             0.3333333333333333,
             "#9c179e"
            ],
            [
             0.4444444444444444,
             "#bd3786"
            ],
            [
             0.5555555555555556,
             "#d8576b"
            ],
            [
             0.6666666666666666,
             "#ed7953"
            ],
            [
             0.7777777777777778,
             "#fb9f3a"
            ],
            [
             0.8888888888888888,
             "#fdca26"
            ],
            [
             1,
             "#f0f921"
            ]
           ],
           "sequentialminus": [
            [
             0,
             "#0d0887"
            ],
            [
             0.1111111111111111,
             "#46039f"
            ],
            [
             0.2222222222222222,
             "#7201a8"
            ],
            [
             0.3333333333333333,
             "#9c179e"
            ],
            [
             0.4444444444444444,
             "#bd3786"
            ],
            [
             0.5555555555555556,
             "#d8576b"
            ],
            [
             0.6666666666666666,
             "#ed7953"
            ],
            [
             0.7777777777777778,
             "#fb9f3a"
            ],
            [
             0.8888888888888888,
             "#fdca26"
            ],
            [
             1,
             "#f0f921"
            ]
           ]
          },
          "colorway": [
           "#636efa",
           "#EF553B",
           "#00cc96",
           "#ab63fa",
           "#FFA15A",
           "#19d3f3",
           "#FF6692",
           "#B6E880",
           "#FF97FF",
           "#FECB52"
          ],
          "font": {
           "color": "#2a3f5f"
          },
          "geo": {
           "bgcolor": "white",
           "lakecolor": "white",
           "landcolor": "#E5ECF6",
           "showlakes": true,
           "showland": true,
           "subunitcolor": "white"
          },
          "hoverlabel": {
           "align": "left"
          },
          "hovermode": "closest",
          "mapbox": {
           "style": "light"
          },
          "paper_bgcolor": "white",
          "plot_bgcolor": "#E5ECF6",
          "polar": {
           "angularaxis": {
            "gridcolor": "white",
            "linecolor": "white",
            "ticks": ""
           },
           "bgcolor": "#E5ECF6",
           "radialaxis": {
            "gridcolor": "white",
            "linecolor": "white",
            "ticks": ""
           }
          },
          "scene": {
           "xaxis": {
            "backgroundcolor": "#E5ECF6",
            "gridcolor": "white",
            "gridwidth": 2,
            "linecolor": "white",
            "showbackground": true,
            "ticks": "",
            "zerolinecolor": "white"
           },
           "yaxis": {
            "backgroundcolor": "#E5ECF6",
            "gridcolor": "white",
            "gridwidth": 2,
            "linecolor": "white",
            "showbackground": true,
            "ticks": "",
            "zerolinecolor": "white"
           },
           "zaxis": {
            "backgroundcolor": "#E5ECF6",
            "gridcolor": "white",
            "gridwidth": 2,
            "linecolor": "white",
            "showbackground": true,
            "ticks": "",
            "zerolinecolor": "white"
           }
          },
          "shapedefaults": {
           "line": {
            "color": "#2a3f5f"
           }
          },
          "ternary": {
           "aaxis": {
            "gridcolor": "white",
            "linecolor": "white",
            "ticks": ""
           },
           "baxis": {
            "gridcolor": "white",
            "linecolor": "white",
            "ticks": ""
           },
           "bgcolor": "#E5ECF6",
           "caxis": {
            "gridcolor": "white",
            "linecolor": "white",
            "ticks": ""
           }
          },
          "title": {
           "x": 0.05
          },
          "xaxis": {
           "automargin": true,
           "gridcolor": "white",
           "linecolor": "white",
           "ticks": "",
           "title": {
            "standoff": 15
           },
           "zerolinecolor": "white",
           "zerolinewidth": 2
          },
          "yaxis": {
           "automargin": true,
           "gridcolor": "white",
           "linecolor": "white",
           "ticks": "",
           "title": {
            "standoff": 15
           },
           "zerolinecolor": "white",
           "zerolinewidth": 2
          }
         }
        },
        "title": {
         "text": "Помилка в залежності від прогнозуємого значення"
        },
        "xaxis": {
         "anchor": "y",
         "domain": [
          0,
          1
         ],
         "title": {
          "text": "Прогнозуєме значення"
         }
        },
        "yaxis": {
         "anchor": "x",
         "domain": [
          0,
          1
         ],
         "title": {
          "text": "Помилка (real - pred)"
         }
        }
       }
      },
      "image/png": "[encoded data removed]"
     },
     "metadata": {},
     "output_type": "display_data"
    }
   ],
   "source": [
    "fig = px.scatter(x=y_test_pred, y=residuals, labels={'x':'Прогнозуєме значення', 'y':'Помилка (real - pred)'},\n",
    "                 title='Помилка в залежності від прогнозуємого значення')\n",
    "fig.add_hline(y=0, line_dash='dash', line_color='red')\n",
    "fig.update_layout(height=400)\n",
    "fig.show()"
   ]
  },
  {
   "cell_type": "code",
   "execution_count": null,
   "metadata": {},
   "outputs": [],
   "source": []
  },
  {
   "cell_type": "code",
   "execution_count": 116,
   "metadata": {
    "execution": {
     "iopub.execute_input": "2025-09-27T16:01:56.058884Z",
     "iopub.status.busy": "2025-09-27T16:01:56.057897Z",
     "iopub.status.idle": "2025-09-27T16:01:56.077591Z",
     "shell.execute_reply": "2025-09-27T16:01:56.076571Z",
     "shell.execute_reply.started": "2025-09-27T16:01:56.058884Z"
    }
   },
   "outputs": [
    {
     "name": "stdout",
     "output_type": "stream",
     "text": [
      "\n",
      "Топ-5 за абсолютною помилкоб:\n"
     ]
    },
    {
     "data": {
      "text/html": [
       "<div>\n",
       "<style scoped>\n",
       "    .dataframe tbody tr th:only-of-type {\n",
       "        vertical-align: middle;\n",
       "    }\n",
       "\n",
       "    .dataframe tbody tr th {\n",
       "        vertical-align: top;\n",
       "    }\n",
       "\n",
       "    .dataframe thead th {\n",
       "        text-align: right;\n",
       "    }\n",
       "</style>\n",
       "<table border=\"1\" class=\"dataframe\">\n",
       "  <thead>\n",
       "    <tr style=\"text-align: right;\">\n",
       "      <th></th>\n",
       "      <th>real</th>\n",
       "      <th>pred</th>\n",
       "      <th>residual</th>\n",
       "      <th>abs_residual</th>\n",
       "    </tr>\n",
       "  </thead>\n",
       "  <tbody>\n",
       "    <tr>\n",
       "      <th>4653</th>\n",
       "      <td>15000</td>\n",
       "      <td>149049.784692</td>\n",
       "      <td>-134049.784692</td>\n",
       "      <td>134049.784692</td>\n",
       "    </tr>\n",
       "    <tr>\n",
       "      <th>275</th>\n",
       "      <td>30000</td>\n",
       "      <td>66757.784692</td>\n",
       "      <td>-36757.784692</td>\n",
       "      <td>36757.784692</td>\n",
       "    </tr>\n",
       "    <tr>\n",
       "      <th>840</th>\n",
       "      <td>65000</td>\n",
       "      <td>34798.815942</td>\n",
       "      <td>30201.184058</td>\n",
       "      <td>30201.184058</td>\n",
       "    </tr>\n",
       "    <tr>\n",
       "      <th>1272</th>\n",
       "      <td>65000</td>\n",
       "      <td>35380.409692</td>\n",
       "      <td>29619.590308</td>\n",
       "      <td>29619.590308</td>\n",
       "    </tr>\n",
       "    <tr>\n",
       "      <th>1090</th>\n",
       "      <td>65000</td>\n",
       "      <td>35563.065942</td>\n",
       "      <td>29436.934058</td>\n",
       "      <td>29436.934058</td>\n",
       "    </tr>\n",
       "  </tbody>\n",
       "</table>\n",
       "</div>"
      ],
      "text/plain": [
       "       real           pred       residual   abs_residual\n",
       "4653  15000  149049.784692 -134049.784692  134049.784692\n",
       "275   30000   66757.784692  -36757.784692   36757.784692\n",
       "840   65000   34798.815942   30201.184058   30201.184058\n",
       "1272  65000   35380.409692   29619.590308   29619.590308\n",
       "1090  65000   35563.065942   29436.934058   29436.934058"
      ]
     },
     "metadata": {},
     "output_type": "display_data"
    }
   ],
   "source": [
    "errors_df = pd.DataFrame({\n",
    "    'real': y_test,\n",
    "    'pred': y_test_pred,\n",
    "    'residual': residuals,\n",
    "    'abs_residual': residuals_abs\n",
    "})\n",
    "top5 = errors_df.sort_values('abs_residual', ascending=False).head(5)\n",
    "print(\"\\nТоп-5 за абсолютною помилкоб:\")\n",
    "display(top5)\n"
   ]
  },
  {
   "cell_type": "code",
   "execution_count": 117,
   "metadata": {
    "execution": {
     "iopub.execute_input": "2025-09-27T16:02:28.123815Z",
     "iopub.status.busy": "2025-09-27T16:02:28.123815Z",
     "iopub.status.idle": "2025-09-27T16:02:28.147049Z",
     "shell.execute_reply": "2025-09-27T16:02:28.146031Z",
     "shell.execute_reply.started": "2025-09-27T16:02:28.123815Z"
    }
   },
   "outputs": [
    {
     "name": "stdout",
     "output_type": "stream",
     "text": [
      "\n",
      "Аналіз помилок по колонке BHK: середня abs_residual по групах\n"
     ]
    },
    {
     "data": {
      "text/plain": [
       "BHK\n",
       "6    16241.215308\n",
       "4    12760.164923\n",
       "3     7730.820002\n",
       "5     4602.534692\n",
       "1     4449.713393\n",
       "2     4253.128937\n",
       "Name: abs_residual, dtype: float64"
      ]
     },
     "metadata": {},
     "output_type": "display_data"
    },
    {
     "name": "stdout",
     "output_type": "stream",
     "text": [
      "\n",
      "Аналіз помилок по колонке City: середня abs_residual по групах\n"
     ]
    },
    {
     "data": {
      "text/plain": [
       "City\n",
       "Mumbai       8689.073629\n",
       "Delhi        5756.670203\n",
       "Hyderabad    5133.845815\n",
       "Kolkata      4007.338366\n",
       "Bangalore    3952.302216\n",
       "Chennai      3869.494175\n",
       "Name: abs_residual, dtype: float64"
      ]
     },
     "metadata": {},
     "output_type": "display_data"
    }
   ],
   "source": [
    "analysis_cols = []\n",
    "if 'BHK' in df_model.columns:\n",
    "    analysis_cols.append('BHK')\n",
    "city_col_candidates = [c for c in df_model.columns if c.lower().startswith('city') or c.lower().startswith('City'.lower())]\n",
    "if city_col_candidates:\n",
    "    if 'City' in df_prep.columns:\n",
    "        analysis_cols.append('City')\n",
    "if analysis_cols:\n",
    "    df_error_analysis = pd.DataFrame({\n",
    "    'real': y_test,\n",
    "    'pred': pd.Series(y_test_pred, index=y_test.index),\n",
    "    'residual': residuals,\n",
    "    'abs_residual': residuals_abs\n",
    "})\n",
    "    df_error_analysis = df_error_analysis.merge(df_prep[analysis_cols], left_index=True, right_index=True, how='left')\n",
    "    for c in analysis_cols:\n",
    "        print(f\"\\nАналіз помилок по колонке {c}: середня abs_residual по групах\")\n",
    "        display(df_error_analysis.groupby(c)['abs_residual'].mean().sort_values(ascending=False).head(10))\n",
    "else:\n",
    "    print(\"Не знайдено колонок для групового аналізу помилок (BHK/City).\")"
   ]
  },
  {
   "cell_type": "markdown",
   "metadata": {
    "id": "9f6f299d"
   },
   "source": [
    "### Висновки по якості моделі та аналізу помилок\n",
    "- Модель лінійної регресії показує адекватні результати: R² на train і test близькі, різниці між ними небагато, отже сильного перенавчання немає.  \n",
    "- Основна проблема — високий розкид значень оренди, тому лінійна модель не може повністю врахувати всі фактори.  \n",
    "- Найбільші помилки виникають на дорогому житлі та у містах з високою варіативністю цін.  \n",
    "- Для покращення якості можна:\n",
    "  1. Використати лог-трансформацію Rent.  \n",
    "  2. Спробувати нелінійні моделі (RandomForest, GradientBoosting).  \n",
    "  3. Додати більше ознак (наприклад, відстань до центру, наявність меблів, поверховість будинку).  \n"
   ]
  },
  {
   "cell_type": "code",
   "execution_count": null,
   "metadata": {},
   "outputs": [],
   "source": []
  }
 ],
 "metadata": {
  "colab": {
   "provenance": []
  },
  "kernelspec": {
   "display_name": "Python [conda env:base] *",
   "language": "python",
   "name": "conda-base-py"
  },
  "language_info": {
   "codemirror_mode": {
    "name": "ipython",
    "version": 3
   },
   "file_extension": ".py",
   "mimetype": "text/x-python",
   "name": "python",
   "nbconvert_exporter": "python",
   "pygments_lexer": "ipython3",
   "version": "3.12.7"
  }
 },
 "nbformat": 4,
 "nbformat_minor": 4
}
