{
 "cells": [
  {
   "cell_type": "markdown",
   "metadata": {
    "id": "9ngpqNFm8w1a"
   },
   "source": [
    "# Домашнє завдання до теми \"Основи роботи з рядками та математичні операції\""
   ]
  },
  {
   "cell_type": "markdown",
   "metadata": {
    "id": "DEkQSeSyTum-"
   },
   "source": [
    "1. Створіть змінні `a`, `b`, `c` та `d`, задайте їм значення відповідно 101, 210, 111, 402, та обчисліть з допомогою Python наступний вираз:  $$ \\frac{(a+b) * c}{d} $$\n",
    "\n",
    "**Важливо**: тут ми маємо обчислити значення саме з використанням змінних, а не просто чисел, як би ми робили у калькуряторі. Змінні потрібні аби за бажання ми могли змінити їх значення та не переписувати код обчислення виразу, бо він буде працювати для різних значень змінних."
   ]
  },
  {
   "cell_type": "code",
   "execution_count": 1,
   "metadata": {
    "execution": {
     "iopub.execute_input": "2025-06-12T22:58:04.613312Z",
     "iopub.status.busy": "2025-06-12T22:58:04.613312Z",
     "iopub.status.idle": "2025-06-12T22:58:04.625434Z",
     "shell.execute_reply": "2025-06-12T22:58:04.625434Z",
     "shell.execute_reply.started": "2025-06-12T22:58:04.613312Z"
    },
    "id": "u1ICQq5L3eKH"
   },
   "outputs": [
    {
     "data": {
      "text/plain": [
       "85.8731343283582"
      ]
     },
     "execution_count": 1,
     "metadata": {},
     "output_type": "execute_result"
    }
   ],
   "source": [
    "a = 101\n",
    "b = 210\n",
    "c = 111\n",
    "d = 402\n",
    "\n",
    "decision = ((a + b) * c) / d\n",
    "decision"
   ]
  },
  {
   "cell_type": "markdown",
   "metadata": {
    "id": "FnBVPt7G3bcR"
   },
   "source": [
    "Очікувана відповідь: 85.8731343283582"
   ]
  },
  {
   "cell_type": "markdown",
   "metadata": {
    "id": "HI3eEYZRT4Cn"
   },
   "source": [
    "2. Якою буде остача від ділення числа 11283 на 89? Обчисліть з допомогою Python."
   ]
  },
  {
   "cell_type": "code",
   "execution_count": 2,
   "metadata": {
    "execution": {
     "iopub.execute_input": "2025-06-12T22:59:25.943226Z",
     "iopub.status.busy": "2025-06-12T22:59:25.943226Z",
     "iopub.status.idle": "2025-06-12T22:59:25.947637Z",
     "shell.execute_reply": "2025-06-12T22:59:25.947637Z",
     "shell.execute_reply.started": "2025-06-12T22:59:25.943226Z"
    },
    "id": "ejZc3ng_TpgY"
   },
   "outputs": [
    {
     "data": {
      "text/plain": [
       "69"
      ]
     },
     "execution_count": 2,
     "metadata": {},
     "output_type": "execute_result"
    }
   ],
   "source": [
    "s1 = 11283\n",
    "s2 = 89\n",
    "ostacha = s1 % s2\n",
    "ostacha"
   ]
  },
  {
   "cell_type": "code",
   "execution_count": 4,
   "metadata": {
    "execution": {
     "iopub.execute_input": "2025-06-12T23:01:18.005867Z",
     "iopub.status.busy": "2025-06-12T23:01:18.005867Z",
     "iopub.status.idle": "2025-06-12T23:01:18.010921Z",
     "shell.execute_reply": "2025-06-12T23:01:18.010921Z",
     "shell.execute_reply.started": "2025-06-12T23:01:18.005867Z"
    }
   },
   "outputs": [
    {
     "data": {
      "text/plain": [
       "69"
      ]
     },
     "execution_count": 4,
     "metadata": {},
     "output_type": "execute_result"
    }
   ],
   "source": [
    "#або\n",
    "11283%89"
   ]
  },
  {
   "cell_type": "markdown",
   "metadata": {
    "id": "RO02CqdqT9oG"
   },
   "source": [
    "3. Скільки цілих разів поміститься число 89 в 11283? (Або що те саме: який буде результат цілочисельного ділення 11283 на 89?)"
   ]
  },
  {
   "cell_type": "code",
   "execution_count": 5,
   "metadata": {
    "execution": {
     "iopub.execute_input": "2025-06-12T23:01:36.244387Z",
     "iopub.status.busy": "2025-06-12T23:01:36.243388Z",
     "iopub.status.idle": "2025-06-12T23:01:36.248287Z",
     "shell.execute_reply": "2025-06-12T23:01:36.248287Z",
     "shell.execute_reply.started": "2025-06-12T23:01:36.243388Z"
    },
    "id": "KEUb9lO5T_PI"
   },
   "outputs": [
    {
     "data": {
      "text/plain": [
       "126"
      ]
     },
     "execution_count": 5,
     "metadata": {},
     "output_type": "execute_result"
    }
   ],
   "source": [
    "11283//89"
   ]
  },
  {
   "cell_type": "code",
   "execution_count": 6,
   "metadata": {
    "execution": {
     "iopub.execute_input": "2025-06-12T23:02:46.968483Z",
     "iopub.status.busy": "2025-06-12T23:02:46.968483Z",
     "iopub.status.idle": "2025-06-12T23:02:46.973229Z",
     "shell.execute_reply": "2025-06-12T23:02:46.973229Z",
     "shell.execute_reply.started": "2025-06-12T23:02:46.968483Z"
    }
   },
   "outputs": [
    {
     "data": {
      "text/plain": [
       "126"
      ]
     },
     "execution_count": 6,
     "metadata": {},
     "output_type": "execute_result"
    }
   ],
   "source": [
    "#або\n",
    "c1 = 11283\n",
    "c2 = 89\n",
    "tsilykh = c1 // c2\n",
    "tsilykh"
   ]
  },
  {
   "cell_type": "markdown",
   "metadata": {
    "id": "5fnIPumiT_rt"
   },
   "source": [
    "4. Запишіть у змінну `name` ваше імʼя."
   ]
  },
  {
   "cell_type": "code",
   "execution_count": 7,
   "metadata": {
    "execution": {
     "iopub.execute_input": "2025-06-12T23:03:51.227143Z",
     "iopub.status.busy": "2025-06-12T23:03:51.227143Z",
     "iopub.status.idle": "2025-06-12T23:03:51.231719Z",
     "shell.execute_reply": "2025-06-12T23:03:51.231719Z",
     "shell.execute_reply.started": "2025-06-12T23:03:51.227143Z"
    },
    "id": "xP7Mbq45UFlV"
   },
   "outputs": [
    {
     "data": {
      "text/plain": [
       "'Карина'"
      ]
     },
     "execution_count": 7,
     "metadata": {},
     "output_type": "execute_result"
    }
   ],
   "source": [
    "name = \"Карина\"\n",
    "name"
   ]
  },
  {
   "cell_type": "markdown",
   "metadata": {
    "id": "fR9TqY79UNDL"
   },
   "source": [
    "5. Запишіть у змінну `surname` ваше прізвище."
   ]
  },
  {
   "cell_type": "code",
   "execution_count": 8,
   "metadata": {
    "execution": {
     "iopub.execute_input": "2025-06-12T23:04:09.192833Z",
     "iopub.status.busy": "2025-06-12T23:04:09.192833Z",
     "iopub.status.idle": "2025-06-12T23:04:09.197832Z",
     "shell.execute_reply": "2025-06-12T23:04:09.197832Z",
     "shell.execute_reply.started": "2025-06-12T23:04:09.192833Z"
    },
    "id": "0qHjyMyvUOM1"
   },
   "outputs": [
    {
     "data": {
      "text/plain": [
       "'Аветісова'"
      ]
     },
     "execution_count": 8,
     "metadata": {},
     "output_type": "execute_result"
    }
   ],
   "source": [
    "surname = \"Аветісова\"\n",
    "surname"
   ]
  },
  {
   "cell_type": "markdown",
   "metadata": {
    "id": "zqKncQLwUOxh"
   },
   "source": [
    "6. Сконкатенуйте імʼя та прізвище в одну фразу через пробіл. Запишіть результат у нову змінну `name_surname` та виведіть результат на екран.  "
   ]
  },
  {
   "cell_type": "code",
   "execution_count": 11,
   "metadata": {
    "execution": {
     "iopub.execute_input": "2025-06-12T23:05:08.863859Z",
     "iopub.status.busy": "2025-06-12T23:05:08.863859Z",
     "iopub.status.idle": "2025-06-12T23:05:08.868857Z",
     "shell.execute_reply": "2025-06-12T23:05:08.868857Z",
     "shell.execute_reply.started": "2025-06-12T23:05:08.863859Z"
    },
    "id": "8E-blvN-UTPg"
   },
   "outputs": [
    {
     "data": {
      "text/plain": [
       "'Карина Аветісова'"
      ]
     },
     "execution_count": 11,
     "metadata": {},
     "output_type": "execute_result"
    }
   ],
   "source": [
    "name_surname = name + \" \" + surname\n",
    "name_surname"
   ]
  },
  {
   "cell_type": "markdown",
   "metadata": {
    "id": "_Unl7EXlUgYn"
   },
   "source": [
    "Очікувана відповідь (тільки з вашими даними): 'Hanna Pylieva'"
   ]
  },
  {
   "cell_type": "markdown",
   "metadata": {
    "id": "z-3FI0IrUT0U"
   },
   "source": [
    "7. Зробіть усі літери змінної `name_surname` заглавними використовуючи метод рядків в Python:"
   ]
  },
  {
   "cell_type": "code",
   "execution_count": 12,
   "metadata": {
    "execution": {
     "iopub.execute_input": "2025-06-12T23:06:11.349684Z",
     "iopub.status.busy": "2025-06-12T23:06:11.349684Z",
     "iopub.status.idle": "2025-06-12T23:06:11.354531Z",
     "shell.execute_reply": "2025-06-12T23:06:11.354531Z",
     "shell.execute_reply.started": "2025-06-12T23:06:11.349684Z"
    },
    "id": "9ahIwyT5UblY"
   },
   "outputs": [
    {
     "name": "stdout",
     "output_type": "stream",
     "text": [
      "КАРИНА АВЕТІСОВА\n"
     ]
    }
   ],
   "source": [
    "print(name_surname.upper())"
   ]
  },
  {
   "cell_type": "markdown",
   "metadata": {
    "id": "6PDcqfmdUcLo"
   },
   "source": [
    "Очікувана відповідь (тільки з вашими даними): 'HANNA PYLIEVA'"
   ]
  },
  {
   "cell_type": "markdown",
   "metadata": {
    "id": "qNl8KxeXUtnL"
   },
   "source": [
    "8. Виведіть третю літеру вашого `name_surname`. Тут уважно, треба саме третя літера. Згадайте, з якого значення починається індексування значень в Python."
   ]
  },
  {
   "cell_type": "code",
   "execution_count": 18,
   "metadata": {
    "execution": {
     "iopub.execute_input": "2025-06-12T23:09:41.121829Z",
     "iopub.status.busy": "2025-06-12T23:09:41.121829Z",
     "iopub.status.idle": "2025-06-12T23:09:41.126551Z",
     "shell.execute_reply": "2025-06-12T23:09:41.126551Z",
     "shell.execute_reply.started": "2025-06-12T23:09:41.121829Z"
    },
    "id": "Tp7stqAhUvJz"
   },
   "outputs": [
    {
     "data": {
      "text/plain": [
       "'р'"
      ]
     },
     "execution_count": 18,
     "metadata": {},
     "output_type": "execute_result"
    }
   ],
   "source": [
    "name_surname = \"Карина Аветісова\"\n",
    "name_surname [2]"
   ]
  },
  {
   "cell_type": "markdown",
   "metadata": {
    "id": "GYWHqb3UUvqk"
   },
   "source": [
    "Очікувана відповідь (тільки з вашими даними): 'n'"
   ]
  },
  {
   "cell_type": "markdown",
   "metadata": {
    "id": "1f3cc1a7",
    "pycharm": {
     "name": "#%% md\n"
    }
   },
   "source": [
    "9. Виведіть першу та останню літеру вашого прізвища."
   ]
  },
  {
   "cell_type": "code",
   "execution_count": 23,
   "metadata": {
    "execution": {
     "iopub.execute_input": "2025-06-12T23:12:19.452275Z",
     "iopub.status.busy": "2025-06-12T23:12:19.451272Z",
     "iopub.status.idle": "2025-06-12T23:12:19.457318Z",
     "shell.execute_reply": "2025-06-12T23:12:19.456794Z",
     "shell.execute_reply.started": "2025-06-12T23:12:19.452275Z"
    },
    "id": "s1ZgN3xuUyB8"
   },
   "outputs": [
    {
     "data": {
      "text/plain": [
       "('А', 'а')"
      ]
     },
     "execution_count": 23,
     "metadata": {},
     "output_type": "execute_result"
    }
   ],
   "source": [
    "name_surname [7], name_surname [15]"
   ]
  },
  {
   "cell_type": "code",
   "execution_count": 25,
   "metadata": {
    "execution": {
     "iopub.execute_input": "2025-06-12T23:16:09.354414Z",
     "iopub.status.busy": "2025-06-12T23:16:09.354414Z",
     "iopub.status.idle": "2025-06-12T23:16:09.358738Z",
     "shell.execute_reply": "2025-06-12T23:16:09.358738Z",
     "shell.execute_reply.started": "2025-06-12T23:16:09.354414Z"
    }
   },
   "outputs": [
    {
     "data": {
      "text/plain": [
       "('А', 'а')"
      ]
     },
     "execution_count": 25,
     "metadata": {},
     "output_type": "execute_result"
    }
   ],
   "source": [
    "#або\n",
    "surname [0], surname [8]"
   ]
  },
  {
   "cell_type": "markdown",
   "metadata": {
    "id": "KjlFjjhHVAt2"
   },
   "source": [
    "Очікувана відповідь (тільки з вашими даними): ('P', 'a')"
   ]
  },
  {
   "cell_type": "markdown",
   "metadata": {
    "id": "UYLoho3DVMt2"
   },
   "source": [
    "10. Виведіть довжину вашого прізвища."
   ]
  },
  {
   "cell_type": "code",
   "execution_count": 26,
   "metadata": {
    "execution": {
     "iopub.execute_input": "2025-06-12T23:16:31.754184Z",
     "iopub.status.busy": "2025-06-12T23:16:31.753185Z",
     "iopub.status.idle": "2025-06-12T23:16:31.758097Z",
     "shell.execute_reply": "2025-06-12T23:16:31.758097Z",
     "shell.execute_reply.started": "2025-06-12T23:16:31.754184Z"
    },
    "id": "0TPJBh0LVA8q"
   },
   "outputs": [
    {
     "data": {
      "text/plain": [
       "9"
      ]
     },
     "execution_count": 26,
     "metadata": {},
     "output_type": "execute_result"
    }
   ],
   "source": [
    "len(surname)"
   ]
  },
  {
   "cell_type": "markdown",
   "metadata": {
    "id": "9FaxqvVgVRYW"
   },
   "source": [
    "Очікувана відповідь (тільки з вашими даними): 7\n"
   ]
  },
  {
   "cell_type": "markdown",
   "metadata": {
    "id": "JN2wxSlGVVAj"
   },
   "source": [
    "11. Виведіть кількість літер `a` у столиці Мадагаскару `Antananarivo`. Важливо врахувати всі літери, як великі, так і маленькі."
   ]
  },
  {
   "cell_type": "code",
   "execution_count": 28,
   "metadata": {
    "execution": {
     "iopub.execute_input": "2025-06-12T23:34:23.450538Z",
     "iopub.status.busy": "2025-06-12T23:34:23.450538Z",
     "iopub.status.idle": "2025-06-12T23:34:23.454674Z",
     "shell.execute_reply": "2025-06-12T23:34:23.454674Z",
     "shell.execute_reply.started": "2025-06-12T23:34:23.450538Z"
    },
    "id": "LCeHHz9bVUgL"
   },
   "outputs": [
    {
     "name": "stdout",
     "output_type": "stream",
     "text": [
      "4\n"
     ]
    }
   ],
   "source": [
    "mad = 'Antananarivo'\n",
    "count_a = print(mad.lower().count(\"a\"))\n",
    "count_a"
   ]
  },
  {
   "cell_type": "markdown",
   "metadata": {
    "id": "Ux4SQiuSVo92"
   },
   "source": [
    "Очікувана відповідь: 4"
   ]
  },
  {
   "cell_type": "markdown",
   "metadata": {
    "id": "mwEs0xnmVtes"
   },
   "source": [
    "12. Створіть рядок `my_string` зі значенням: \"The quick brown fox jumps over the lazy dog!!!\".   \n",
    "Перевірте, чи починається рядок `my_string` з \"The\" і чи закінчується він \"dog!\". Виведіть результати на екран."
   ]
  },
  {
   "cell_type": "code",
   "execution_count": 29,
   "metadata": {
    "execution": {
     "iopub.execute_input": "2025-06-12T23:36:36.421805Z",
     "iopub.status.busy": "2025-06-12T23:36:36.420806Z",
     "iopub.status.idle": "2025-06-12T23:36:36.425642Z",
     "shell.execute_reply": "2025-06-12T23:36:36.425642Z",
     "shell.execute_reply.started": "2025-06-12T23:36:36.421805Z"
    },
    "id": "VlXDNpXcVs59"
   },
   "outputs": [
    {
     "name": "stdout",
     "output_type": "stream",
     "text": [
      "True\n",
      "False\n"
     ]
    }
   ],
   "source": [
    "my_string = 'The quick brown fox jumps over the lazy dog!!!'\n",
    "print(my_string.startswith(\"The\"))\n",
    "print(my_string.endswith(\"dog!\"))"
   ]
  },
  {
   "cell_type": "markdown",
   "metadata": {
    "id": "Yc-UwtqvV_h0"
   },
   "source": [
    "13. Розділіть рядок `my_string` на список окремих слів, а потім з'єднайте всі слова через нижнє підкреслювання. Виведіть результат на екран."
   ]
  },
  {
   "cell_type": "code",
   "execution_count": 31,
   "metadata": {
    "execution": {
     "iopub.execute_input": "2025-06-12T23:39:26.702842Z",
     "iopub.status.busy": "2025-06-12T23:39:26.702842Z",
     "iopub.status.idle": "2025-06-12T23:39:26.707691Z",
     "shell.execute_reply": "2025-06-12T23:39:26.707691Z",
     "shell.execute_reply.started": "2025-06-12T23:39:26.702842Z"
    },
    "id": "m5I48Ii-WDSK"
   },
   "outputs": [
    {
     "name": "stdout",
     "output_type": "stream",
     "text": [
      "['The', 'quick', 'brown', 'fox', 'jumps', 'over', 'the', 'lazy', 'dog!!!']\n",
      "The_quick_brown_fox_jumps_over_the_lazy_dog!!!\n"
     ]
    }
   ],
   "source": [
    "print(my_string.split(\" \"))\n",
    "print(\"_\".join(['The', 'quick', 'brown', 'fox', 'jumps', 'over', 'the', 'lazy', 'dog!!!']))"
   ]
  },
  {
   "cell_type": "markdown",
   "metadata": {
    "id": "UqvD1_jIXRhx"
   },
   "source": [
    "Очікуваний результат: `The_quick_brown_fox_jumps_over_the_lazy_dog!!!`"
   ]
  }
 ],
 "metadata": {
  "colab": {
   "provenance": []
  },
  "kernelspec": {
   "display_name": "Python [conda env:base] *",
   "language": "python",
   "name": "conda-base-py"
  },
  "language_info": {
   "codemirror_mode": {
    "name": "ipython",
    "version": 3
   },
   "file_extension": ".py",
   "mimetype": "text/x-python",
   "name": "python",
   "nbconvert_exporter": "python",
   "pygments_lexer": "ipython3",
   "version": "3.12.7"
  }
 },
 "nbformat": 4,
 "nbformat_minor": 4
}
