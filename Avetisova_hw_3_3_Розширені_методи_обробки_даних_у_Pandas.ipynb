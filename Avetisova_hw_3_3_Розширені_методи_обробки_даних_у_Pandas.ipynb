{
 "cells": [
  {
   "cell_type": "markdown",
   "metadata": {
    "id": "wF6xe36Osbxi"
   },
   "source": [
    "# Домашнє завдання до теми \"Розширені методи обробки даних у Pandas\""
   ]
  },
  {
   "cell_type": "markdown",
   "metadata": {
    "id": "Fa2CIJElO3L3"
   },
   "source": [
    "В цьому домашньому завданні продовжуємо працювати з набором даних `supermarket_sales.csv`."
   ]
  },
  {
   "cell_type": "markdown",
   "metadata": {
    "id": "z0F_6xB-DQi7"
   },
   "source": [
    "0. Імпортуйте бібліотеку pandas та зчитайте дані у змінну `df` типу `pandas.DataFrame`."
   ]
  },
  {
   "cell_type": "code",
   "execution_count": 1,
   "metadata": {
    "execution": {
     "iopub.execute_input": "2025-07-15T01:20:43.314932Z",
     "iopub.status.busy": "2025-07-15T01:20:43.314932Z",
     "iopub.status.idle": "2025-07-15T01:20:43.849005Z",
     "shell.execute_reply": "2025-07-15T01:20:43.849005Z",
     "shell.execute_reply.started": "2025-07-15T01:20:43.314932Z"
    },
    "id": "-4jR3F-rDQi7"
   },
   "outputs": [],
   "source": [
    "import pandas as pd\n",
    "df = pd.read_csv('supermarket_sales.csv')"
   ]
  },
  {
   "cell_type": "markdown",
   "metadata": {
    "id": "hH26_h5wOLfj"
   },
   "source": [
    "1. Відсортуйте дані за спаданням ціни товара ('Unit price') і виведіть 5 перших рядочків на екран."
   ]
  },
  {
   "cell_type": "code",
   "execution_count": 4,
   "metadata": {
    "execution": {
     "iopub.execute_input": "2025-07-15T01:25:05.588071Z",
     "iopub.status.busy": "2025-07-15T01:25:05.588071Z",
     "iopub.status.idle": "2025-07-15T01:25:05.600097Z",
     "shell.execute_reply": "2025-07-15T01:25:05.600097Z",
     "shell.execute_reply.started": "2025-07-15T01:25:05.588071Z"
    },
    "id": "C_CMIujQN9s6"
   },
   "outputs": [
    {
     "name": "stdout",
     "output_type": "stream",
     "text": [
      "      Invoice ID Branch       City Customer type Gender         Product line  \\\n",
      "983  148-41-7930      C  Naypyitaw        Normal   Male    Health and beauty   \n",
      "122  219-22-9386      B   Mandalay        Member   Male    Sports and travel   \n",
      "930  641-62-7288      B   Mandalay        Normal   Male   Home and lifestyle   \n",
      "494  437-53-3084      B   Mandalay        Normal   Male  Fashion accessories   \n",
      "283  667-92-0055      A     Yangon        Member   Male    Health and beauty   \n",
      "\n",
      "     Unit price  Quantity  Tax 5%    Total       Date   Time      Payment  \\\n",
      "983       99.96         7  34.986  734.706  1/23/2019  10:33         Cash   \n",
      "122       99.96         9  44.982  944.622   3/9/2019  17:26  Credit card   \n",
      "930       99.92         6  29.976  629.496  3/24/2019  13:33      Ewallet   \n",
      "494       99.89         2   9.989  209.769  2/26/2019  11:48      Ewallet   \n",
      "283       99.83         6  29.949  628.929   3/4/2019  15:02      Ewallet   \n",
      "\n",
      "       cogs  gross margin percentage  gross income  Rating  \n",
      "983  699.72                 4.761905        34.986     6.1  \n",
      "122  899.64                 4.761905        44.982     4.2  \n",
      "930  599.52                 4.761905        29.976     7.1  \n",
      "494  199.78                 4.761905         9.989     7.1  \n",
      "283  598.98                 4.761905        29.949     8.5  \n"
     ]
    }
   ],
   "source": [
    "sorted_df = df.sort_values(by='Unit price', ascending=False).head(5)\n",
    "print(sorted_df)"
   ]
  },
  {
   "cell_type": "markdown",
   "metadata": {
    "id": "H7IyOIfIONXy"
   },
   "source": [
    "2. Знайдіть інвойс (рядок в даних) в категорії товарів `Electronic accessories`, в якому був куплений товар з найбільшою кількістю і найбільшою ціною. Виведіть цей рядок даних на екран."
   ]
  },
  {
   "cell_type": "code",
   "execution_count": 9,
   "metadata": {
    "execution": {
     "iopub.execute_input": "2025-07-15T01:27:36.786691Z",
     "iopub.status.busy": "2025-07-15T01:27:36.786691Z",
     "iopub.status.idle": "2025-07-15T01:27:36.796354Z",
     "shell.execute_reply": "2025-07-15T01:27:36.796354Z",
     "shell.execute_reply.started": "2025-07-15T01:27:36.786691Z"
    },
    "id": "rHtk3rXoNHr5"
   },
   "outputs": [
    {
     "name": "stdout",
     "output_type": "stream",
     "text": [
      "      Invoice ID Branch    City Customer type Gender            Product line  \\\n",
      "105  704-48-3927      A  Yangon        Member   Male  Electronic accessories   \n",
      "\n",
      "     Unit price  Quantity  Tax 5%    Total       Date   Time  Payment   cogs  \\\n",
      "105       88.67        10  44.335  931.035  1/12/2019  14:50  Ewallet  886.7   \n",
      "\n",
      "     gross margin percentage  gross income  Rating Rating Category  \n",
      "105                 4.761905        44.335     7.3          Medium  \n"
     ]
    }
   ],
   "source": [
    "electronics = df[df['Product line'] == 'Electronic accessories']\n",
    "max_quantity = electronics['Quantity'].max()\n",
    "max_quantity_rows = electronics[electronics['Quantity'] == max_quantity]\n",
    "max_price = max_quantity_rows['Unit price'].max()\n",
    "result_row = max_quantity_rows[max_quantity_rows['Unit price'] == max_price]\n",
    "print(result_row)"
   ]
  },
  {
   "cell_type": "markdown",
   "metadata": {
    "id": "n2iSihPRDHvv"
   },
   "source": [
    "3.1. Створіть нову колонку в даних `Rating Category`, яка визначає категорію рейтингу (`Rating`): високий, середній чи низький за наступним правилом:\n",
    "- якщо рейтинг вищий або рівний 8 - то він високий (`High`)\n",
    "- якщо рейтинг від 6 до 8 не включаючи - то він середній (`Medium`)\n",
    "- інакше - низький (`Low`)."
   ]
  },
  {
   "cell_type": "code",
   "execution_count": 13,
   "metadata": {
    "execution": {
     "iopub.execute_input": "2025-07-15T01:27:45.880325Z",
     "iopub.status.busy": "2025-07-15T01:27:45.879326Z",
     "iopub.status.idle": "2025-07-15T01:27:45.884103Z",
     "shell.execute_reply": "2025-07-15T01:27:45.884103Z",
     "shell.execute_reply.started": "2025-07-15T01:27:45.880325Z"
    },
    "id": "WfYpk_VdD_sI"
   },
   "outputs": [],
   "source": [
    "def categorize_rating(rating):\n",
    "    if rating >= 8:\n",
    "        return 'High'\n",
    "    elif 6 <= rating < 8:\n",
    "        return 'Medium'\n",
    "    else:\n",
    "        return 'Low'\n",
    "df['Rating Category'] = df['Rating'].apply(categorize_rating)"
   ]
  },
  {
   "cell_type": "markdown",
   "metadata": {
    "id": "0tTSRjXDEdDe"
   },
   "source": [
    "3.2. Виведіть, який відсоток даних становить кожне зі значень категорій рейтингу."
   ]
  },
  {
   "cell_type": "code",
   "execution_count": 14,
   "metadata": {
    "execution": {
     "iopub.execute_input": "2025-07-15T01:27:51.224369Z",
     "iopub.status.busy": "2025-07-15T01:27:51.223370Z",
     "iopub.status.idle": "2025-07-15T01:27:51.229617Z",
     "shell.execute_reply": "2025-07-15T01:27:51.229617Z",
     "shell.execute_reply.started": "2025-07-15T01:27:51.224369Z"
    },
    "id": "gYd_Y96ODS3a"
   },
   "outputs": [
    {
     "name": "stdout",
     "output_type": "stream",
     "text": [
      "Rating Category\n",
      "Medium    35.6\n",
      "High      32.9\n",
      "Low       31.5\n",
      "Name: proportion, dtype: float64\n"
     ]
    }
   ],
   "source": [
    "rating_percentages = df['Rating Category'].value_counts(normalize=True) * 100\n",
    "print(rating_percentages)"
   ]
  },
  {
   "cell_type": "markdown",
   "metadata": {
    "id": "qGPne8sFHGGM"
   },
   "source": [
    "4.1. Запустіть код нижче аби створити змінну `time`. Ця змінна містить час в форматі \"година:хвилина\". Напишіть функцію `get_hour`, яка буде зі змінної формату як `time` дістати лише години і конвертувати їх у тип `int`.\n",
    "\n",
    "Запустіть написану функцію на змінній `time` та перевірте правильність роботи функції."
   ]
  },
  {
   "cell_type": "code",
   "execution_count": 17,
   "metadata": {
    "execution": {
     "iopub.execute_input": "2025-07-15T01:28:48.544155Z",
     "iopub.status.busy": "2025-07-15T01:28:48.544155Z",
     "iopub.status.idle": "2025-07-15T01:28:48.547253Z",
     "shell.execute_reply": "2025-07-15T01:28:48.547253Z",
     "shell.execute_reply.started": "2025-07-15T01:28:48.544155Z"
    },
    "id": "OZ2DD2AGEZme"
   },
   "outputs": [],
   "source": [
    "time = '11:28'"
   ]
  },
  {
   "cell_type": "code",
   "execution_count": 19,
   "metadata": {
    "execution": {
     "iopub.execute_input": "2025-07-15T01:29:06.463509Z",
     "iopub.status.busy": "2025-07-15T01:29:06.462508Z",
     "iopub.status.idle": "2025-07-15T01:29:06.466767Z",
     "shell.execute_reply": "2025-07-15T01:29:06.466767Z",
     "shell.execute_reply.started": "2025-07-15T01:29:06.463509Z"
    },
    "id": "BxDWBPalHimp"
   },
   "outputs": [
    {
     "name": "stdout",
     "output_type": "stream",
     "text": [
      "11\n"
     ]
    }
   ],
   "source": [
    "def get_hour(time_str):\n",
    "    # Розділяємо рядок по двокрапці і беремо першу частину (години)\n",
    "    hour_str = time_str.split(':')[0]\n",
    "    return int(hour_str)\n",
    "print(get_hour(time))"
   ]
  },
  {
   "cell_type": "markdown",
   "metadata": {
    "id": "3F7Nmc84IM9C"
   },
   "source": [
    "4.2. З допомогою функції `get_hour` і метода `DataFrame.apply()` створіть нову колонку `Hour` в нашому наборі даних, яка буде містити години здійснення покупки, обчислені на основі часу здійснення покупки `Time`."
   ]
  },
  {
   "cell_type": "code",
   "execution_count": 21,
   "metadata": {
    "execution": {
     "iopub.execute_input": "2025-07-15T01:29:45.217742Z",
     "iopub.status.busy": "2025-07-15T01:29:45.216741Z",
     "iopub.status.idle": "2025-07-15T01:29:45.221410Z",
     "shell.execute_reply": "2025-07-15T01:29:45.221410Z",
     "shell.execute_reply.started": "2025-07-15T01:29:45.217742Z"
    },
    "id": "P-DQNIwQH_Io"
   },
   "outputs": [],
   "source": [
    "df['Hour'] = df['Time'].apply(get_hour)"
   ]
  },
  {
   "cell_type": "markdown",
   "metadata": {
    "id": "VcuugIB2IszQ"
   },
   "source": [
    "4.3. Виведіть кількість значень за кожною годиною покупки і дайте відповідь \"О яких годинах найбільше здійснюють покупок покупці і чому на Ваш погляд саме о цих годинах? Чи це слогічно, що найбільше покупок саме в ці години?\"."
   ]
  },
  {
   "cell_type": "code",
   "execution_count": 27,
   "metadata": {
    "execution": {
     "iopub.execute_input": "2025-07-15T01:33:55.065234Z",
     "iopub.status.busy": "2025-07-15T01:33:55.065234Z",
     "iopub.status.idle": "2025-07-15T01:33:55.073756Z",
     "shell.execute_reply": "2025-07-15T01:33:55.072761Z",
     "shell.execute_reply.started": "2025-07-15T01:33:55.065234Z"
    },
    "id": "5NgTbHM8I-Or"
   },
   "outputs": [
    {
     "name": "stdout",
     "output_type": "stream",
     "text": [
      "Hour\n",
      "10    101\n",
      "11     90\n",
      "12     89\n",
      "13    103\n",
      "14     83\n",
      "15    102\n",
      "16     77\n",
      "17     74\n",
      "18     93\n",
      "19    113\n",
      "20     75\n",
      "Name: count, dtype: int64\n"
     ]
    }
   ],
   "source": [
    "hour_counts = df['Hour'].value_counts().sort_index()\n",
    "print(hour_counts)"
   ]
  },
  {
   "cell_type": "code",
   "execution_count": null,
   "metadata": {},
   "outputs": [],
   "source": [
    "## найбільші к-ть покупок здійснюється перед початком та в кінці робочого дня, \n",
    "а також в час обідньої перерви. Це цілком логічно, адже у людей є вільний час та можливість відвідати магазин саме в цей час"
   ]
  },
  {
   "cell_type": "markdown",
   "metadata": {
    "id": "vUniX9GAKtco"
   },
   "source": [
    "5. Виведіть середнє значення чеку (`Total`) для покупок в містах, наявних в даних, за допомогою функції `groupby`."
   ]
  },
  {
   "cell_type": "code",
   "execution_count": 29,
   "metadata": {
    "execution": {
     "iopub.execute_input": "2025-07-15T01:35:05.972550Z",
     "iopub.status.busy": "2025-07-15T01:35:05.972550Z",
     "iopub.status.idle": "2025-07-15T01:35:05.977723Z",
     "shell.execute_reply": "2025-07-15T01:35:05.977723Z",
     "shell.execute_reply.started": "2025-07-15T01:35:05.972550Z"
    },
    "id": "eWRBQoO_JBY3"
   },
   "outputs": [
    {
     "name": "stdout",
     "output_type": "stream",
     "text": [
      "City\n",
      "Mandalay     319.872506\n",
      "Naypyitaw    337.099715\n",
      "Yangon       312.354031\n",
      "Name: Total, dtype: float64\n"
     ]
    }
   ],
   "source": [
    "average_total_by_city = df.groupby('City')['Total'].mean()\n",
    "print(average_total_by_city)"
   ]
  },
  {
   "cell_type": "markdown",
   "metadata": {
    "id": "kgXBFApjLQxp"
   },
   "source": [
    "6. Виведіть кількість покупок, середнє, мінімальне та максимальне значення для загальної суми чеку (Total) в містах, наявних в даних, за допомогою функції groupby.\n",
    "Зробіть висновки з цих показників та дайте рекомендації для мережі супермаркетів."
   ]
  },
  {
   "cell_type": "code",
   "execution_count": 30,
   "metadata": {
    "execution": {
     "iopub.execute_input": "2025-07-15T01:35:13.692905Z",
     "iopub.status.busy": "2025-07-15T01:35:13.691907Z",
     "iopub.status.idle": "2025-07-15T01:35:13.700838Z",
     "shell.execute_reply": "2025-07-15T01:35:13.700838Z",
     "shell.execute_reply.started": "2025-07-15T01:35:13.692905Z"
    },
    "id": "qdspE5eWK0bq"
   },
   "outputs": [
    {
     "name": "stdout",
     "output_type": "stream",
     "text": [
      "           count        mean      min      max\n",
      "City                                          \n",
      "Mandalay     332  319.872506  18.6375  1022.49\n",
      "Naypyitaw    328  337.099715  10.6785  1042.65\n",
      "Yangon       340  312.354031  12.6945  1039.29\n"
     ]
    }
   ],
   "source": [
    "stats_by_city = df.groupby('City')['Total'].agg(['count', 'mean', 'min', 'max'])\n",
    "print(stats_by_city)"
   ]
  },
  {
   "cell_type": "markdown",
   "metadata": {
    "id": "_GPVYoEe6M9E"
   },
   "source": [
    "7. Ми внесли деякі зміни в наш набір даних, тож, давайте запишемо результат у файл. Запишіть оновлену версію даних у файл `supermarket_sales_enriched.csv`. Зверніть увагу, аби не записати нічого зайвого, наприклад, індекси рядків нам в файлі не потрібні, оскільки вони стандартні."
   ]
  },
  {
   "cell_type": "code",
   "execution_count": 31,
   "metadata": {
    "execution": {
     "iopub.execute_input": "2025-07-15T01:35:29.316555Z",
     "iopub.status.busy": "2025-07-15T01:35:29.315556Z",
     "iopub.status.idle": "2025-07-15T01:35:29.328355Z",
     "shell.execute_reply": "2025-07-15T01:35:29.328355Z",
     "shell.execute_reply.started": "2025-07-15T01:35:29.316555Z"
    },
    "id": "MyEE8sAR6ele"
   },
   "outputs": [],
   "source": [
    "df.to_csv('supermarket_sales_enriched.csv', index=False)"
   ]
  },
  {
   "cell_type": "code",
   "execution_count": null,
   "metadata": {},
   "outputs": [],
   "source": []
  }
 ],
 "metadata": {
  "colab": {
   "provenance": []
  },
  "kernelspec": {
   "display_name": "Python [conda env:base] *",
   "language": "python",
   "name": "conda-base-py"
  },
  "language_info": {
   "codemirror_mode": {
    "name": "ipython",
    "version": 3
   },
   "file_extension": ".py",
   "mimetype": "text/x-python",
   "name": "python",
   "nbconvert_exporter": "python",
   "pygments_lexer": "ipython3",
   "version": "3.12.7"
  }
 },
 "nbformat": 4,
 "nbformat_minor": 4
}
