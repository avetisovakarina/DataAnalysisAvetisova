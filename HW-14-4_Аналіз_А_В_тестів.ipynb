{
 "cells": [
  {
   "cell_type": "markdown",
   "metadata": {
    "ExecuteTime": {
     "end_time": "2022-12-10T17:43:42.137588Z",
     "start_time": "2022-12-10T17:43:42.124712Z"
    },
    "id": "f41183ed"
   },
   "source": [
    "Аветісова Карина\n",
    "## Аналіз A/B-тестів\n",
    "\n",
    "Ви - аналітик даних в ІТ-компанії і до вас надійшла задача проаналізувати дані A/B тесту в популярній [грі Cookie Cats](https://www.facebook.com/cookiecatsgame). Це - гра-головоломка в стилі «з’єднай три», де гравець повинен з’єднати плитки одного кольору, щоб очистити дошку та виграти рівень. На дошці також зображені співаючі котики :)\n",
    "\n",
    "Під час проходження гри гравці стикаються з воротами, які змушують їх чекати деякий час, перш ніж вони зможуть прогресувати або зробити покупку в додатку.\n",
    "\n",
    "У цьому блоці завдань ми проаналізуємо результати A/B тесту, коли перші ворота в Cookie Cats було переміщено з рівня 30 на рівень 40. Зокрема, ми хочемо зрозуміти, як це вплинуло на утримання (retention) гравців. Тобто хочемо зрозуміти, чи переміщення воріт на 10 рівнів пізніше якимось чином вплинуло на те, що користувачі перестають грати в гру раніше чи пізніше з точки зору кількості їх днів з моменту встановлення гри.\n",
    "\n",
    "Будемо працювати з даними з файлу `cookie_cats.csv`. Колонки в даних наступні:\n",
    "\n",
    "- `userid` - унікальний номер, який ідентифікує кожного гравця.\n",
    "- `version` - чи потрапив гравець в контрольну групу (gate_30 - ворота на 30 рівні) чи тестову групу (gate_40 - ворота на 40 рівні).\n",
    "- `sum_gamerounds` - кількість ігрових раундів, зіграних гравцем протягом першого тижня після встановлення\n",
    "- `retention_1` - чи через 1 день після встановлення гравець повернувся і почав грати?\n",
    "- `retention_7` - чи через 7 днів після встановлення гравець повернувся і почав грати?\n",
    "\n",
    "Коли гравець встановлював гру, його випадковим чином призначали до групи gate_30 або gate_40."
   ]
  },
  {
   "cell_type": "markdown",
   "metadata": {
    "id": "XKhHA3eiueo0"
   },
   "source": [
    "1. Для початку, уявімо, що ми тільки плануємо проведення зазначеного А/B-тесту і хочемо зрозуміти, дані про скількох користувачів нам треба зібрати, аби досягнути відчутного ефекту. Відчутним ефектом ми вважатимемо збільшення утримання на 1% після внесення зміни. Обчисліть, скільки користувачів сумарно нам треба аби досягнути такого ефекту, якщо продакт менеджер нам повідомив, що базове утримання є 19%."
   ]
  },
  {
   "cell_type": "code",
   "execution_count": 2,
   "metadata": {
    "execution": {
     "iopub.execute_input": "2025-09-19T18:08:45.981848Z",
     "iopub.status.busy": "2025-09-19T18:08:45.981848Z",
     "iopub.status.idle": "2025-09-19T18:08:46.034379Z",
     "shell.execute_reply": "2025-09-19T18:08:46.033392Z",
     "shell.execute_reply.started": "2025-09-19T18:08:45.981848Z"
    },
    "id": "TcZ32BcIufKU"
   },
   "outputs": [],
   "source": [
    "import numpy as np\n",
    "import pandas as pd\n",
    "import scipy.stats as stats\n",
    "import statsmodels.stats.api as sms\n",
    "import matplotlib as mpl\n",
    "import matplotlib.pyplot as plt\n",
    "import seaborn as sns\n",
    "from math import ceil\n",
    "%matplotlib inline"
   ]
  },
  {
   "cell_type": "code",
   "execution_count": 14,
   "metadata": {
    "execution": {
     "iopub.execute_input": "2025-09-19T18:21:08.306796Z",
     "iopub.status.busy": "2025-09-19T18:21:08.306796Z",
     "iopub.status.idle": "2025-09-19T18:21:08.318625Z",
     "shell.execute_reply": "2025-09-19T18:21:08.318625Z",
     "shell.execute_reply.started": "2025-09-19T18:21:08.306796Z"
    }
   },
   "outputs": [
    {
     "name": "stdout",
     "output_type": "stream",
     "text": [
      "Необхідний розмір вибірки на групу: 24638\n",
      "Сумарний розмір вибірки: 49276\n"
     ]
    }
   ],
   "source": [
    "baseline_rate = 0.19\n",
    "effect_size = 0.01\n",
    "alpha = 0.05\n",
    "power = 0.8\n",
    "\n",
    "es = sms.proportion_effectsize(0.19, 0.20)\n",
    "\n",
    "analysis = sms.NormalIndPower()\n",
    "sample_size_per_group = analysis.solve_power(effect_size=es, power=power, alpha=alpha, ratio=1)\n",
    "\n",
    "print(\"Необхідний розмір вибірки на групу:\", ceil(sample_size_per_group))\n",
    "print(\"Сумарний розмір вибірки:\", ceil(sample_size_per_group * 2))"
   ]
  },
  {
   "cell_type": "markdown",
   "metadata": {
    "id": "22f03df4"
   },
   "source": [
    "2. Зчитайте дані АВ тесту у змінну `df` та виведіть середнє значення показника показник `retention_7` (утримання на 7 день) по версіям гри. Сформулюйте гіпотезу: яка версія дає краще утримання через 7 днів після встановлення гри?"
   ]
  },
  {
   "cell_type": "code",
   "execution_count": 13,
   "metadata": {
    "execution": {
     "iopub.execute_input": "2025-09-19T18:18:17.317621Z",
     "iopub.status.busy": "2025-09-19T18:18:17.317621Z",
     "iopub.status.idle": "2025-09-19T18:18:17.393682Z",
     "shell.execute_reply": "2025-09-19T18:18:17.393166Z",
     "shell.execute_reply.started": "2025-09-19T18:18:17.317621Z"
    },
    "id": "MVzMTs-jh22b"
   },
   "outputs": [
    {
     "name": "stdout",
     "output_type": "stream",
     "text": [
      "Середні значення retention_7 по версіях:\n",
      "version\n",
      "gate_30    0.190201\n",
      "gate_40    0.182000\n",
      "Name: retention_7, dtype: float64\n"
     ]
    }
   ],
   "source": [
    "df = pd.read_csv(\"cookie_cats.csv\")\n",
    "means = df.groupby(\"version\")[\"retention_7\"].mean()\n",
    "print(\"Середні значення retention_7 по версіях:\")\n",
    "print(means)"
   ]
  },
  {
   "cell_type": "markdown",
   "metadata": {
    "id": "22f03df4"
   },
   "source": [
    "gate_30 (контрольна група) → середнє утримання ≈ 0.1902 (19.0%);\n",
    "\n",
    "gate_40 (тестова група) → середнє утримання ≈ 0.1820 (18.2%)\n",
    "\n",
    "Нульова гіпотеза (H₀): середнє утримання через 7 днів не залежить від версії гри.\n",
    "p(gate_30) = p(gate_40)\n",
    "\n",
    "Альтернативна гіпотеза (H₀): середнє утримання через 7 днів не залежить від версії гри.\n",
    "p(gate_30) > p(gate_40)\n",
    "\n",
    "Виходячи з отриманих значень середнього отримання gate_30 дає кращі показники."
   ]
  },
  {
   "cell_type": "markdown",
   "metadata": {
    "id": "74e9c6ca"
   },
   "source": [
    "3. Перевірте з допомогою пасуючого варіанту z-тесту, чи дає якась з версій гри кращий показник `retention_7` на рівні значущості 0.05. Обчисліть також довірчі інтервали для варіантів до переміщення воріт і після. Виведіть результат у форматі:\n",
    "\n",
    "    ```\n",
    "    z statistic: ...\n",
    "    p-value: ...\n",
    "    Довірчий інтервал 95% для групи control: [..., ...]\n",
    "    Довірчий інтервал 95% для групи treatment: [..., ...]\n",
    "    ```\n",
    "\n",
    "    де замість `...` - обчислені значення.\n",
    "    \n",
    "    В якості висновку дайте відповідь на два питання:  \n",
    "\n",
    "      1. Чи є статистична значущою різниця між поведінкою користувачів у різних версіях гри?   \n",
    "      2. Чи перетинаються довірчі інтервали утримання користувачів з різних версій гри? Про що це каже?  \n"
   ]
  },
  {
   "cell_type": "code",
   "execution_count": 17,
   "metadata": {
    "execution": {
     "iopub.execute_input": "2025-09-19T19:14:51.993020Z",
     "iopub.status.busy": "2025-09-19T19:14:51.992024Z",
     "iopub.status.idle": "2025-09-19T19:14:52.003664Z",
     "shell.execute_reply": "2025-09-19T19:14:52.003664Z",
     "shell.execute_reply.started": "2025-09-19T19:14:51.993020Z"
    },
    "id": "kXQE4gyjh5MS"
   },
   "outputs": [
    {
     "name": "stdout",
     "output_type": "stream",
     "text": [
      "z statistic: 3.164358912748191\n",
      "p-value: 0.001554249975614329\n",
      "Довірчий інтервал 95% для групи control: (0.18656311652199903, 0.19383956804175934)\n",
      "Довірчий інтервал 95% для групи treatment: (0.17845430073314686, 0.18554578720019968)\n"
     ]
    }
   ],
   "source": [
    "from statsmodels.stats.proportion import proportions_ztest, proportion_confint\n",
    "\n",
    "\n",
    "grouped = df.groupby(\"version\")[\"retention_7\"]\n",
    "successes = grouped.sum().values \n",
    "nobs = grouped.count().values\n",
    "\n",
    "z_stat, p_val = proportions_ztest(successes, nobs)\n",
    "print(\"z statistic:\", z_stat)\n",
    "print(\"p-value:\", p_val)\n",
    "\n",
    "\n",
    "conf_int_control = proportion_confint(successes[0], nobs[0], alpha=0.05, method='normal')\n",
    "conf_int_treatment = proportion_confint(successes[1], nobs[1], alpha=0.05, method='normal')\n",
    "\n",
    "print(f\"Довірчий інтервал 95% для групи control: {conf_int_control}\")\n",
    "print(f\"Довірчий інтервал 95% для групи treatment: {conf_int_treatment}\")"
   ]
  },
  {
   "cell_type": "markdown",
   "metadata": {
    "id": "22f03df4"
   },
   "source": [
    "Оскільки p-value < z-stat, на рівні значущості 5% ми відхиляємо гіпотезу Н0.\n",
    "Отже, різниця в утриманні між версіями статистично значуща.\n",
    "\n",
    "Довірчі інтервали не перетинаються. Це каже про те, що навіть з урахуванням статистичної похибки утримання в контрольній групі вище, ніж у тестовій.\n",
    "\n",
    "Як висновок, переміщення воріт з 30-го на 40-й рівень негативно вплинуло на утримання користувачів на 7-й день. Контрольна версія (gate_30) показує краще утримання."
   ]
  },
  {
   "cell_type": "markdown",
   "metadata": {
    "ExecuteTime": {
     "end_time": "2022-12-10T20:50:10.709766Z",
     "start_time": "2022-12-10T20:50:10.639999Z"
    },
    "id": "076cd867"
   },
   "source": [
    "4. Виконайте тест Хі-квадрат на рівні значущості 5% аби визначити, чи є залежність між версією гри та утриманням гравця на 7ий день після реєстрації.\n",
    "\n",
    "    - Напишіть, як для цього тесту будуть сформульовані гіпотези.\n",
    "    - Проведіть обчислення, виведіть p-значення і напишіть висновок за результатами тесту.\n"
   ]
  },
  {
   "cell_type": "code",
   "execution_count": 20,
   "metadata": {
    "execution": {
     "iopub.execute_input": "2025-09-19T19:15:02.909854Z",
     "iopub.status.busy": "2025-09-19T19:15:02.908853Z",
     "iopub.status.idle": "2025-09-19T19:15:02.928188Z",
     "shell.execute_reply": "2025-09-19T19:15:02.928188Z",
     "shell.execute_reply.started": "2025-09-19T19:15:02.909854Z"
    },
    "id": "kcwD-91Fh84n"
   },
   "outputs": [
    {
     "name": "stdout",
     "output_type": "stream",
     "text": [
      "Chi-square statistic: 9.959086799559167\n",
      "p-value: 0.0016005742679058301\n",
      "Ступені свободи: 1\n",
      "Очікувані частоти:\n",
      "[[36382.90257127  8317.09742873]\n",
      " [37025.09742873  8463.90257127]]\n"
     ]
    }
   ],
   "source": [
    "from scipy.stats import chi2_contingency\n",
    "\n",
    "contingency_table = pd.crosstab(df[\"version\"], df[\"retention_7\"])\n",
    "\n",
    "chi2, p, dof, expected = chi2_contingency(contingency_table)\n",
    "\n",
    "print(\"Chi-square statistic:\", chi2)\n",
    "print(\"p-value:\", p)\n",
    "print(\"Ступені свободи:\", dof)\n",
    "print(\"Очікувані частоти:\")\n",
    "print(expected)"
   ]
  },
  {
   "cell_type": "markdown",
   "metadata": {
    "id": "22f03df4"
   },
   "source": [
    "Формулювання гіпотез:\n",
    "\n",
    "Н0: версія гри (gate_30 vs gate_40) не впливає на утримання користувачів через 7 днів. Розподіл подій (утримався / не утримався) однаковий у двох групах.\n",
    "\n",
    "На: версія гри впливає на утримання користувачів (розподіли відрізняються).\n",
    "\n",
    "Оскільки p-value = 0.0016 < 0.05, ми відхиляємо нульову гіпотезу.\n",
    "Це означає, що різниця між версіями гри є статистично значущою: утримання користувачів дійсно відрізняється між gate_30 та gate_40."
   ]
  },
  {
   "cell_type": "code",
   "execution_count": null,
   "metadata": {},
   "outputs": [],
   "source": []
  }
 ],
 "metadata": {
  "colab": {
   "provenance": []
  },
  "kernelspec": {
   "display_name": "Python [conda env:base] *",
   "language": "python",
   "name": "conda-base-py"
  },
  "language_info": {
   "codemirror_mode": {
    "name": "ipython",
    "version": 3
   },
   "file_extension": ".py",
   "mimetype": "text/x-python",
   "name": "python",
   "nbconvert_exporter": "python",
   "pygments_lexer": "ipython3",
   "version": "3.12.7"
  }
 },
 "nbformat": 4,
 "nbformat_minor": 4
}
