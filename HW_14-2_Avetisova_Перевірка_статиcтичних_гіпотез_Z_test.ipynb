{
 "cells": [
  {
   "cell_type": "markdown",
   "id": "e152f6d6",
   "metadata": {
    "ExecuteTime": {
     "end_time": "2022-12-10T14:29:24.703416Z",
     "start_time": "2022-12-10T14:29:24.688485Z"
    },
    "id": "e152f6d6"
   },
   "source": [
    "Аветісова Карина\n",
    "#Перевірка статиcтичних гіпотез. Z-test."
   ]
  },
  {
   "cell_type": "markdown",
   "id": "cd404683",
   "metadata": {
    "id": "cd404683"
   },
   "source": [
    "0. Зчитайте дані з `data.csv` у змінну data, яка має тип pandas.DataFrame. Ми будемо далі працювати з цією змінною."
   ]
  },
  {
   "cell_type": "code",
   "execution_count": 3,
   "id": "b20b6ba2",
   "metadata": {
    "execution": {
     "iopub.execute_input": "2025-09-17T14:39:17.675584Z",
     "iopub.status.busy": "2025-09-17T14:39:17.674584Z",
     "iopub.status.idle": "2025-09-17T14:39:17.685125Z",
     "shell.execute_reply": "2025-09-17T14:39:17.684598Z",
     "shell.execute_reply.started": "2025-09-17T14:39:17.675584Z"
    },
    "id": "b20b6ba2"
   },
   "outputs": [],
   "source": [
    "import numpy as np\n",
    "import pandas as pd\n",
    "import matplotlib.pyplot as plt\n",
    "import seaborn as sns\n",
    "from scipy import stats\n",
    "data = pd.read_csv(\"data.csv\")"
   ]
  },
  {
   "cell_type": "markdown",
   "id": "3d06cbbf",
   "metadata": {
    "id": "3d06cbbf"
   },
   "source": [
    "Запустіть код нижче. Для коректної робити всіх подальших методів дані мають бути у вигляді одновимірного `numpy.ndarray` вектора та мати розмірність (100,). Така розмірність означає, що дані - одновимірні (колонка), якщо б розмірність була (100, 1), то дані сприймаються методами як двовимірні (таблиця), хоча для нас виглядати можуть так само."
   ]
  },
  {
   "cell_type": "code",
   "execution_count": 4,
   "id": "cce1632b",
   "metadata": {
    "colab": {
     "base_uri": "https://localhost:8080/"
    },
    "execution": {
     "iopub.execute_input": "2025-09-17T14:39:23.009172Z",
     "iopub.status.busy": "2025-09-17T14:39:23.009172Z",
     "iopub.status.idle": "2025-09-17T14:39:23.014087Z",
     "shell.execute_reply": "2025-09-17T14:39:23.014087Z",
     "shell.execute_reply.started": "2025-09-17T14:39:23.009172Z"
    },
    "id": "cce1632b",
    "outputId": "2e142439-2a4f-4057-ff9d-e6a4b3d7e955"
   },
   "outputs": [
    {
     "data": {
      "text/plain": [
       "(100,)"
      ]
     },
     "execution_count": 4,
     "metadata": {},
     "output_type": "execute_result"
    }
   ],
   "source": [
    "data = data.data.values\n",
    "data.shape"
   ]
  },
  {
   "cell_type": "markdown",
   "id": "abdcef5d",
   "metadata": {
    "id": "abdcef5d"
   },
   "source": [
    "**Завдання 1**. Зчитані дані - це сума покупок в доларах наших покупців на сайті протягом липня 2025 року.\n",
    "\n",
    "До цього місяця, ми мали продажі в середньому на чек $20.\n",
    "\n",
    "Необхідно зʼясувати, чи вийшло у нас статистично значущо **підвищити** середній чек за липень 2025?\n",
    "\n",
    "Аби дати відповідь - ми проведемо z-test на рівні значущості $\\alpha=0.05$ двома способами. В цьому завданні ми будемо виконувати обчислення \"вручну\" з використанням бібліотек numpy та scipy.stats подібно до прикладу в лекції. Для цього виконайте наступні 7 кроків. Правильне виконання кожного з кроків оцінюється в 1 бал.\n",
    "\n",
    "1. Запишіть параметри задачі у змінні Python:\n",
    "    - `sample_mean` - $\\bar{x}$, середнє значення в вибірці\n",
    "    - `population_mean` - $\\mu_0$, середнє значення в популяції (тобто те, з яким ми порівнюємо середнє вибіркове значення)\n",
    "    - `population_std` - $\\sigma$, вибіркове стандартне відхилення, яке ми вважаємо, що є рівним ст. відх. популяції, адже маємо достатньо велику вибірку.\n",
    "    - `sample_size` - $n$, розмір вибірки\n",
    "    - `alpha` - $\\alpha$ рівень значущості\n",
    "    \n",
    "    **Увага!** Для обчислення стандартного відхилення маємо скористатись функцією `np.std(your_dataframe, ddof=1)`. Чому так - розбираємо в лекції про t-test.\n",
    "\n",
    "\n",
    "2. Визначте для цієї задачі:\n",
    "    - якою є гіпотеза $H_0$\n",
    "    - якою є альтернативна гіпотеза $H_a$\n",
    "    - з яким типом тесту ми маємо справу - лівосторонній, правосторонній чи двосторонній.\n",
    "\n",
    "3. Обчисліть стандартну помилку SE.\n",
    "4. Розрахуйте z-статистику.\n",
    "5. Знайдіть критичне z-значення з допомогою бібліотеки stats.\n",
    "6. Обчисліть p-value з допомогою бібліотеки stats.\n",
    "7. Прийміть рішення, чи відхиляєте ви гіпотезу $H_0$. Для прийняття рішення зробіть і порівняння z-статистики з критичним значенням, і проаналізуйте p-value."
   ]
  },
  {
   "cell_type": "code",
   "execution_count": 5,
   "id": "NX2XezWLdf4t",
   "metadata": {
    "execution": {
     "iopub.execute_input": "2025-09-17T14:41:56.361810Z",
     "iopub.status.busy": "2025-09-17T14:41:56.361810Z",
     "iopub.status.idle": "2025-09-17T14:41:56.365956Z",
     "shell.execute_reply": "2025-09-17T14:41:56.365956Z",
     "shell.execute_reply.started": "2025-09-17T14:41:56.361810Z"
    },
    "id": "NX2XezWLdf4t"
   },
   "outputs": [],
   "source": [
    "sample_mean = np.mean(data)\n",
    "population_mean = 20\n",
    "population_std = np.std(data, ddof=1)\n",
    "sample_size = len(data)\n",
    "alpha = 0.05"
   ]
  },
  {
   "cell_type": "code",
   "execution_count": 7,
   "id": "084b84e0-2d59-4e42-b670-fed121179510",
   "metadata": {
    "execution": {
     "iopub.execute_input": "2025-09-17T14:43:22.615283Z",
     "iopub.status.busy": "2025-09-17T14:43:22.615283Z",
     "iopub.status.idle": "2025-09-17T14:43:22.619892Z",
     "shell.execute_reply": "2025-09-17T14:43:22.619892Z",
     "shell.execute_reply.started": "2025-09-17T14:43:22.615283Z"
    }
   },
   "outputs": [
    {
     "data": {
      "text/plain": [
       "0.625356123240434"
      ]
     },
     "execution_count": 7,
     "metadata": {},
     "output_type": "execute_result"
    }
   ],
   "source": [
    "standard_error = population_std / np.sqrt(sample_size)\n",
    "standard_error"
   ]
  },
  {
   "cell_type": "code",
   "execution_count": 8,
   "id": "3ae80deb-9cce-4b22-a05f-6dfe31693402",
   "metadata": {
    "execution": {
     "iopub.execute_input": "2025-09-17T14:43:45.599742Z",
     "iopub.status.busy": "2025-09-17T14:43:45.599742Z",
     "iopub.status.idle": "2025-09-17T14:43:45.603858Z",
     "shell.execute_reply": "2025-09-17T14:43:45.603858Z",
     "shell.execute_reply.started": "2025-09-17T14:43:45.599742Z"
    }
   },
   "outputs": [
    {
     "data": {
      "text/plain": [
       "-0.995347738933505"
      ]
     },
     "execution_count": 8,
     "metadata": {},
     "output_type": "execute_result"
    }
   ],
   "source": [
    "z_stat = (sample_mean - population_mean) / standard_error\n",
    "z_stat"
   ]
  },
  {
   "cell_type": "code",
   "execution_count": 9,
   "id": "e065c4a3-cada-47b1-9dd3-0a6d06aaf750",
   "metadata": {
    "execution": {
     "iopub.execute_input": "2025-09-17T14:43:54.817294Z",
     "iopub.status.busy": "2025-09-17T14:43:54.817294Z",
     "iopub.status.idle": "2025-09-17T14:43:54.827801Z",
     "shell.execute_reply": "2025-09-17T14:43:54.827801Z",
     "shell.execute_reply.started": "2025-09-17T14:43:54.817294Z"
    }
   },
   "outputs": [
    {
     "data": {
      "text/plain": [
       "1.6448536269514722"
      ]
     },
     "execution_count": 9,
     "metadata": {},
     "output_type": "execute_result"
    }
   ],
   "source": [
    "z_crit = stats.norm.ppf(1 - alpha)\n",
    "z_crit"
   ]
  },
  {
   "cell_type": "code",
   "execution_count": 10,
   "id": "95b63b86-501a-4118-aa00-4e99a148b1d8",
   "metadata": {
    "execution": {
     "iopub.execute_input": "2025-09-17T14:44:07.202180Z",
     "iopub.status.busy": "2025-09-17T14:44:07.202180Z",
     "iopub.status.idle": "2025-09-17T14:44:07.209439Z",
     "shell.execute_reply": "2025-09-17T14:44:07.208445Z",
     "shell.execute_reply.started": "2025-09-17T14:44:07.202180Z"
    }
   },
   "outputs": [
    {
     "data": {
      "text/plain": [
       "0.8402164165464012"
      ]
     },
     "execution_count": 10,
     "metadata": {},
     "output_type": "execute_result"
    }
   ],
   "source": [
    "p_value = 1 - stats.norm.cdf(z_stat)\n",
    "p_value"
   ]
  },
  {
   "cell_type": "code",
   "execution_count": 12,
   "id": "05f47e82-cd6c-463c-ae20-d9f1a421658b",
   "metadata": {
    "execution": {
     "iopub.execute_input": "2025-09-17T15:08:15.589950Z",
     "iopub.status.busy": "2025-09-17T15:08:15.589950Z",
     "iopub.status.idle": "2025-09-17T15:08:15.596268Z",
     "shell.execute_reply": "2025-09-17T15:08:15.595281Z",
     "shell.execute_reply.started": "2025-09-17T15:08:15.589950Z"
    }
   },
   "outputs": [
    {
     "name": "stdout",
     "output_type": "stream",
     "text": [
      "z-статистика = -0.995\n",
      "Критичне значення = 1.645\n",
      "Порівняння: -0.995 ≤ 1.645\n",
      "Висновок: z-статистика НЕ перевищує критичне значення\n",
      "Рішення: НЕ ВІДХИЛЯЄМО H₀\n"
     ]
    }
   ],
   "source": [
    "print(f\"z-статистика = {z_stat:.3f}\")\n",
    "print(f\"Критичне значення = {z_crit:.3f}\")\n",
    "print(f\"Порівняння: {z_stat:.3f} {'>' if z_stat > z_crit else '≤'} {z_crit:.3f}\")\n",
    "\n",
    "if z_stat > z_crit:\n",
    "    print(\"Висновок: z-статистика ПЕРЕВИЩУЄ критичне значення\")\n",
    "    decision1 = \"ВІДХИЛЯЄМО H₀\"\n",
    "else:\n",
    "    print(\"Висновок: z-статистика НЕ перевищує критичне значення\")\n",
    "    decision1 = \"НЕ ВІДХИЛЯЄМО H₀\"\n",
    "\n",
    "print(f\"Рішення: {decision1}\")"
   ]
  },
  {
   "cell_type": "markdown",
   "id": "0FOBByRMXkL2",
   "metadata": {
    "id": "0FOBByRMXkL2"
   },
   "source": [
    "**Завдання 2.** Виконайте обчислення z-test з використанням бібліотеки statsmodels.\n",
    "\n",
    "Отримайте z-статистику та р-значення.\n",
    "\n",
    "Виведіть p-значення та зробіть висновок, чи ми маємо достатньо доказів, аби стверджувати, що середній чек зріс.\n",
    "\n",
    "Чи зійшлись значення z-статистику та р-значення в цьому завданні з попередніми обчисленнями?\n",
    "\n",
    "Завдання оцінюється в 3 бали."
   ]
  },
  {
   "cell_type": "code",
   "execution_count": 16,
   "id": "f_Oa0DJhdg6v",
   "metadata": {
    "execution": {
     "iopub.execute_input": "2025-09-17T15:14:07.262659Z",
     "iopub.status.busy": "2025-09-17T15:14:07.261656Z",
     "iopub.status.idle": "2025-09-17T15:14:07.266747Z",
     "shell.execute_reply": "2025-09-17T15:14:07.266747Z",
     "shell.execute_reply.started": "2025-09-17T15:14:07.262659Z"
    },
    "id": "f_Oa0DJhdg6v"
   },
   "outputs": [
    {
     "name": "stdout",
     "output_type": "stream",
     "text": [
      "z_stat = -0.9953477389335053\n",
      "p_value = 0.8402164165464012\n",
      "Не відхиляємо H0.\n"
     ]
    }
   ],
   "source": [
    "from statsmodels.stats import weightstats as stests\n",
    "\n",
    "z_stat2, p_value2 = stests.ztest(data, value=population_mean, alternative='larger')\n",
    "\n",
    "print(\"z_stat =\", z_stat2)\n",
    "print(\"p_value =\", p_value2)\n",
    "\n",
    "if p_value2 < alpha:\n",
    "    print(\"Відхиляємо H0: середній чек статистично значущо зріс.\")\n",
    "else:\n",
    "    print(\"Не відхиляємо H0.\")\n"
   ]
  },
  {
   "cell_type": "code",
   "execution_count": null,
   "id": "70e81462-3743-40f9-a509-16f48944565a",
   "metadata": {},
   "outputs": [],
   "source": []
  }
 ],
 "metadata": {
  "colab": {
   "provenance": []
  },
  "hide_input": false,
  "kernelspec": {
   "display_name": "Python [conda env:base] *",
   "language": "python",
   "name": "conda-base-py"
  },
  "language_info": {
   "codemirror_mode": {
    "name": "ipython",
    "version": 3
   },
   "file_extension": ".py",
   "mimetype": "text/x-python",
   "name": "python",
   "nbconvert_exporter": "python",
   "pygments_lexer": "ipython3",
   "version": "3.12.7"
  },
  "toc": {
   "base_numbering": 1,
   "nav_menu": {},
   "number_sections": true,
   "sideBar": true,
   "skip_h1_title": false,
   "title_cell": "Table of Contents",
   "title_sidebar": "Contents",
   "toc_cell": false,
   "toc_position": {},
   "toc_section_display": true,
   "toc_window_display": false
  },
  "varInspector": {
   "cols": {
    "lenName": 16,
    "lenType": 16,
    "lenVar": 40
   },
   "kernels_config": {
    "python": {
     "delete_cmd_postfix": "",
     "delete_cmd_prefix": "del ",
     "library": "var_list.py",
     "varRefreshCmd": "print(var_dic_list())"
    },
    "r": {
     "delete_cmd_postfix": ") ",
     "delete_cmd_prefix": "rm(",
     "library": "var_list.r",
     "varRefreshCmd": "cat(var_dic_list()) "
    }
   },
   "types_to_exclude": [
    "module",
    "function",
    "builtin_function_or_method",
    "instance",
    "_Feature"
   ],
   "window_display": false
  }
 },
 "nbformat": 4,
 "nbformat_minor": 5
}
