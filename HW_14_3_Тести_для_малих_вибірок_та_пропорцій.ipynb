{
 "cells": [
  {
   "cell_type": "markdown",
   "id": "e152f6d6",
   "metadata": {
    "ExecuteTime": {
     "end_time": "2022-12-10T14:29:24.703416Z",
     "start_time": "2022-12-10T14:29:24.688485Z"
    },
    "id": "e152f6d6"
   },
   "source": [
    "Аветісова Карина\n",
    "# Тести для малих вибірок та пропорцій\n",
    "\n"
   ]
  },
  {
   "cell_type": "markdown",
   "id": "abdcef5d",
   "metadata": {
    "id": "abdcef5d"
   },
   "source": [
    "**Завдання 1**. E-commerce компанія після редизайну сайту підозрює, що **середній час до покупки (time-to-purchase)** користувачів **збільшився**.\n",
    "Історично середній час від першого заходу на сайт до покупки становив $\\mu_0 = 123.7$ хвилин.\n",
    "\n",
    "Команда аналітиків випадково обрала дані **7 покупців після редизайну**:\n",
    "`128, 135, 121, 142, 126, 151, 123`\n",
    "\n",
    "З допомогою наявних даних зʼясуйте, чи збільшився середній час покупки після редизайну.\n",
    "\n",
    "Для цього виконайте наступні 6 кроків. Правильне виконання кожного з кроків оцінюється в 1 бал.\n",
    "\n",
    "1. Запишіть нульову та альтернативну гіпотези і визначте тип тесту.\n",
    "2. Обчисліть вибіркові статистики: $\\bar x$, $s$, $n$.\n",
    "3. Оберіть тип тесту та виконайте його (знайдіть критичне значення тесту, статистику тесту та р-значення) будь-яким пасуючим способом, щоб перевірити гіпотезу на рівні значущості $\\alpha = 0.10$.\n",
    "4. Прийміть рішення, чи відхиляєте ви гіпотезу $H_0$ використовуючи p-value.\n",
    "5. Напишіть висновок: чи справді редизайн сайту подовжив час до покупки?\n",
    "6. Чи зміниться ваше рішення при зміні рівня значущості на $\\alpha = 0.05$.\n"
   ]
  },
  {
   "cell_type": "code",
   "execution_count": 1,
   "id": "BcS4cm11QYpT",
   "metadata": {
    "execution": {
     "iopub.execute_input": "2025-09-18T22:28:20.407076Z",
     "iopub.status.busy": "2025-09-18T22:28:20.407076Z",
     "iopub.status.idle": "2025-09-18T22:28:24.649644Z",
     "shell.execute_reply": "2025-09-18T22:28:24.649644Z",
     "shell.execute_reply.started": "2025-09-18T22:28:20.407076Z"
    },
    "id": "BcS4cm11QYpT"
   },
   "outputs": [],
   "source": [
    "import numpy as np\n",
    "import pandas as pd\n",
    "import matplotlib.pyplot as plt\n",
    "import seaborn as sns\n",
    "from scipy import stats"
   ]
  },
  {
   "cell_type": "code",
   "execution_count": 5,
   "id": "eb65eaef-5ec6-40c6-837e-bd5475425a68",
   "metadata": {
    "execution": {
     "iopub.execute_input": "2025-09-18T22:39:58.609944Z",
     "iopub.status.busy": "2025-09-18T22:39:58.609944Z",
     "iopub.status.idle": "2025-09-18T22:39:58.616330Z",
     "shell.execute_reply": "2025-09-18T22:39:58.616330Z",
     "shell.execute_reply.started": "2025-09-18T22:39:58.609944Z"
    }
   },
   "outputs": [
    {
     "name": "stdout",
     "output_type": "stream",
     "text": [
      "Вибіркове середнє: 132.29\n",
      "Вибіркове стандартне відхилення: 10.98\n",
      "t-статистика: 2.069\n",
      "Критичне значення (df=6): 1.440\n",
      "p-value: 0.0420\n",
      "Відхиляємо H0: середній час покупки справді зріс після редизайну.\n"
     ]
    }
   ],
   "source": [
    "data = np.array([128, 135, 121, 142, 126, 151, 123])\n",
    "mu0 = 123.7 \n",
    "alpha = 0.10\n",
    "\n",
    "x_bar = np.mean(data)\n",
    "s = np.std(data, ddof=1)\n",
    "n = len(data)\n",
    "\n",
    "SE = s / np.sqrt(n)\n",
    "t_stat = (x_bar - mu0) / SE\n",
    "\n",
    "p_value = 1 - stats.t.cdf(t_stat, df=n-1)\n",
    "\n",
    "df = n - 1\n",
    "t_crit = stats.t.ppf(1 - alpha, df=n-1)\n",
    "\n",
    "print(f\"Вибіркове середнє: {x_bar:.2f}\")\n",
    "print(f\"Вибіркове стандартне відхилення: {s:.2f}\")\n",
    "print(f\"t-статистика: {t_stat:.3f}\")\n",
    "print(f\"Критичне значення (df={df}): {t_crit:.3f}\")\n",
    "print(f\"p-value: {p_value:.4f}\")\n",
    "\n",
    "if p_value < alpha:\n",
    "    print(\"Відхиляємо H0: середній час покупки справді зріс після редизайну.\")\n",
    "else:\n",
    "    print(\"Немає підстав відхиляти H0: доказів зростання часу недостатньо.\")"
   ]
  },
  {
   "cell_type": "markdown",
   "id": "5govLcx8FPSl",
   "metadata": {
    "id": "5govLcx8FPSl"
   },
   "source": [
    "**Завдання 2.**\n",
    "\n",
    "До спеціальної рекламної кампанії **23%** дорослих упізнавали логотип компанії. Після завершення кампанії відділ маркетингу провів опитування: з **1200** випадково відібраних дорослих **311** упізнали логотип.\n",
    "\n",
    "Перевірте на рівні значущості **3%** ($\\alpha=0.03$), чи дають ці дані достатні підстави стверджувати, що **тепер більше ніж 23%** дорослих упізнають логотип компанії. Для розвʼязку використовуйте бібліотеку `statsmodels`.\n",
    "\n",
    "Зробіть висновок, чи зросла впізнаваність логотипу.\n",
    "\n",
    "Додатково, обчисліть довірчий інтревал на заданому рівні значущості і проінтерпретуйте текстом - як він додатково пояснює прийняте нами рішення?"
   ]
  },
  {
   "cell_type": "code",
   "execution_count": 9,
   "id": "rcplRfotId51",
   "metadata": {
    "execution": {
     "iopub.execute_input": "2025-09-18T22:42:15.076462Z",
     "iopub.status.busy": "2025-09-18T22:42:15.076462Z",
     "iopub.status.idle": "2025-09-18T22:42:15.091962Z",
     "shell.execute_reply": "2025-09-18T22:42:15.091962Z",
     "shell.execute_reply.started": "2025-09-18T22:42:15.076462Z"
    },
    "id": "rcplRfotId51"
   },
   "outputs": [
    {
     "name": "stdout",
     "output_type": "stream",
     "text": [
      "Вибіркова пропорція: 0.2592\n",
      "Z-статистика: 2.306\n",
      "p-value: 0.0106\n",
      "97% довірчий інтервал: [0.2317, 0.2866]\n",
      "Відхиляємо H0: впізнаваність логотипу зросла після кампанії.\n"
     ]
    }
   ],
   "source": [
    "import statsmodels.api as sm\n",
    "\n",
    "p0 = 0.23\n",
    "n = 1200\n",
    "x = 311\n",
    "alpha = 0.03\n",
    "\n",
    "phat = x / n\n",
    "\n",
    "z_stat, p_value = sm.stats.proportions_ztest(count=x, nobs=n, value=p0, alternative='larger')\n",
    "\n",
    "confint_low, confint_high = sm.stats.proportion_confint(count=x, nobs=n, alpha=alpha, method='normal')\n",
    "\n",
    "print(f\"Вибіркова пропорція: {phat:.4f}\")\n",
    "print(f\"Z-статистика: {z_stat:.3f}\")\n",
    "print(f\"p-value: {p_value:.4f}\")\n",
    "print(f\"{int((1-alpha)*100)}% довірчий інтервал: [{confint_low:.4f}, {confint_high:.4f}]\")\n",
    "\n",
    "if p_value < alpha:\n",
    "    print(\"Відхиляємо H0: впізнаваність логотипу зросла після кампанії.\")\n",
    "else:\n",
    "    print(\"Немає підстав відхиляти H0: доказів зростання впізнаваності недостатньо.\")"
   ]
  },
  {
   "cell_type": "code",
   "execution_count": null,
   "id": "b7f90537-d111-4001-96c8-3bd29165ee3a",
   "metadata": {},
   "outputs": [],
   "source": []
  }
 ],
 "metadata": {
  "colab": {
   "provenance": []
  },
  "hide_input": false,
  "kernelspec": {
   "display_name": "Python [conda env:base] *",
   "language": "python",
   "name": "conda-base-py"
  },
  "language_info": {
   "codemirror_mode": {
    "name": "ipython",
    "version": 3
   },
   "file_extension": ".py",
   "mimetype": "text/x-python",
   "name": "python",
   "nbconvert_exporter": "python",
   "pygments_lexer": "ipython3",
   "version": "3.12.7"
  },
  "toc": {
   "base_numbering": 1,
   "nav_menu": {},
   "number_sections": true,
   "sideBar": true,
   "skip_h1_title": false,
   "title_cell": "Table of Contents",
   "title_sidebar": "Contents",
   "toc_cell": false,
   "toc_position": {},
   "toc_section_display": true,
   "toc_window_display": false
  },
  "varInspector": {
   "cols": {
    "lenName": 16,
    "lenType": 16,
    "lenVar": 40
   },
   "kernels_config": {
    "python": {
     "delete_cmd_postfix": "",
     "delete_cmd_prefix": "del ",
     "library": "var_list.py",
     "varRefreshCmd": "print(var_dic_list())"
    },
    "r": {
     "delete_cmd_postfix": ") ",
     "delete_cmd_prefix": "rm(",
     "library": "var_list.r",
     "varRefreshCmd": "cat(var_dic_list()) "
    }
   },
   "types_to_exclude": [
    "module",
    "function",
    "builtin_function_or_method",
    "instance",
    "_Feature"
   ],
   "window_display": false
  }
 },
 "nbformat": 4,
 "nbformat_minor": 5
}
